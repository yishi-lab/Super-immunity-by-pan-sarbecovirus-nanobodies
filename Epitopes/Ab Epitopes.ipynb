{
 "cells": [
  {
   "cell_type": "code",
   "execution_count": 20,
   "metadata": {},
   "outputs": [],
   "source": [
    "import pandas as pd\n",
    "import numpy as np\n",
    "import seaborn as sns\n",
    "import prody\n",
    "import os\n",
    "import matplotlib.pyplot as plt"
   ]
  },
  {
   "cell_type": "code",
   "execution_count": 2,
   "metadata": {},
   "outputs": [],
   "source": [
    "def summarizeContacts(contacts):\n",
    "    contact_data =[]\n",
    "    for pair in contacts:\n",
    "        atom1,atom2,dist = pair\n",
    "        ch1 = atom1.getChid()\n",
    "        ch2 = atom2.getChid()\n",
    "        res1 = atom1.getResname()\n",
    "        res2 = atom2.getResname()\n",
    "        resnum1 = f\"{atom1.getResnum()}{atom1.getIcode()}\"\n",
    "        resnum2 = f\"{atom2.getResnum()}{atom2.getIcode()}\"\n",
    "        contact_data.append([ch1,res1,resnum1,ch2,res2,resnum2,dist])\n",
    "    contact_data = pd.DataFrame(contact_data,columns=['ch1','res1','resnum1','ch2','res2','resnum2','dist'])\n",
    "    #contact_data = contact_data.sort_values(['resnum1','resnum2','dist'],ascending=True).drop_duplicates(['resnum1','resnum2'])\n",
    "    return contact_data\n",
    "\n",
    "def epitope_map2(x):\n",
    "    resnum1 = x.index\n",
    "    counts = x.values\n",
    "    start = 319\n",
    "    end = 541\n",
    "    positions = np.zeros((end-start+1),int)\n",
    "    for ind,i in enumerate(resnum1):\n",
    "        aa = int(i)\n",
    "        if aa > 541 or aa<319:\n",
    "            continue\n",
    "        positions[aa-319]=counts[ind]\n",
    "    return positions"
   ]
  },
  {
   "cell_type": "code",
   "execution_count": 3,
   "metadata": {},
   "outputs": [],
   "source": [
    "def Epitope(Ab_atoms,Ag_atoms):\n",
    "    Epitope_map = np.zeros(541-319+1)\n",
    "    \n",
    "    epitope_aa = set()\n",
    "    for pair in prody.iterNeighbors(Ab_atoms,4,Ag_atoms):\n",
    "        epitope_aa.add(pair[1].getResnum())\n",
    "    for aa in epitope_aa:\n",
    "        if aa > 541 or aa<319:\n",
    "            continue\n",
    "        Epitope_map[aa-319] = 1\n",
    "    return Epitope_map"
   ]
  },
  {
   "cell_type": "code",
   "execution_count": 4,
   "metadata": {},
   "outputs": [],
   "source": [
    "seq_data = pd.read_excel(\"SARS2_Abs.xlsx\")"
   ]
  },
  {
   "cell_type": "code",
   "execution_count": 5,
   "metadata": {},
   "outputs": [
    {
     "name": "stderr",
     "output_type": "stream",
     "text": [
      "@> 4936 atoms and 1 coordinate set(s) were parsed in 0.06s.\n"
     ]
    },
    {
     "name": "stdout",
     "output_type": "stream",
     "text": [
      "./Abs/6w41.pdb-chain H-chain L-chain C\n",
      "CR3022:74\n",
      "CR3022:27\n",
      "./Abs/6wps.pdb-chain H-chain L-chain A\n"
     ]
    },
    {
     "name": "stderr",
     "output_type": "stream",
     "text": [
      "@> 28116 atoms and 1 coordinate set(s) were parsed in 0.34s.\n",
      "@> 9584 atoms and 1 coordinate set(s) were parsed in 0.10s.\n"
     ]
    },
    {
     "name": "stdout",
     "output_type": "stream",
     "text": [
      "S309:119\n",
      "S309:27\n",
      "./Abs/6xc2.pdb-chain H-chain L-chain A\n",
      "CC12.1:146\n",
      "CC12.1:93\n",
      "./Abs/6xc4.pdb-chain H-chain L-chain A\n"
     ]
    },
    {
     "name": "stderr",
     "output_type": "stream",
     "text": [
      "@> 10309 atoms and 1 coordinate set(s) were parsed in 0.11s.\n"
     ]
    },
    {
     "name": "stdout",
     "output_type": "stream",
     "text": [
      "CC12.3:143\n",
      "CC12.3:31\n",
      "./Abs/6xcm.pdb-chain H-chain L-chain C\n"
     ]
    },
    {
     "name": "stderr",
     "output_type": "stream",
     "text": [
      "@> 26760 atoms and 1 coordinate set(s) were parsed in 0.28s.\n",
      "@> Secondary structures were assigned to 1577 residues.\n",
      "@> 7998 atoms and 1 coordinate set(s) were parsed in 0.11s.\n"
     ]
    },
    {
     "name": "stdout",
     "output_type": "stream",
     "text": [
      "C105:93\n",
      "C105:32\n",
      "./Abs/6xdg.pdb-chain B-chain D-chain E\n",
      "REGN10933:123\n"
     ]
    },
    {
     "name": "stderr",
     "output_type": "stream",
     "text": [
      "@> 7998 atoms and 1 coordinate set(s) were parsed in 0.12s.\n"
     ]
    },
    {
     "name": "stdout",
     "output_type": "stream",
     "text": [
      "REGN10933:5\n",
      "./Abs/6xdg.pdb-chain C-chain A-chain E\n",
      "REGN10987:36\n",
      "REGN10987:0\n",
      "./Abs/6xe1.pdb-chain H-chain L-chain E\n"
     ]
    },
    {
     "name": "stderr",
     "output_type": "stream",
     "text": [
      "@> 4897 atoms and 1 coordinate set(s) were parsed in 0.06s.\n"
     ]
    },
    {
     "name": "stdout",
     "output_type": "stream",
     "text": [
      "CV30:107\n",
      "CV30:31\n",
      "./Abs/6xey.pdb-chain H-chain L-chain A\n"
     ]
    },
    {
     "name": "stderr",
     "output_type": "stream",
     "text": [
      "@> 28482 atoms and 1 coordinate set(s) were parsed in 0.28s.\n",
      "@> 9239 atoms and 1 coordinate set(s) were parsed in 0.09s.\n"
     ]
    },
    {
     "name": "stdout",
     "output_type": "stream",
     "text": [
      "Fab2-4:69\n",
      "Fab2-4:16\n",
      "./Abs/6xkp.pdb-chain H-chain L-chain A\n",
      "CV07-270:153\n",
      "CV07-270:6\n",
      "./Abs/6xkq.pdb-chain H-chain L-chain A\n"
     ]
    },
    {
     "name": "stderr",
     "output_type": "stream",
     "text": [
      "@> 4525 atoms and 1 coordinate set(s) were parsed in 0.05s.\n",
      "@> 5839 atoms and 1 coordinate set(s) were parsed in 0.06s.\n"
     ]
    },
    {
     "name": "stdout",
     "output_type": "stream",
     "text": [
      "CV07-250:114\n",
      "CV07-250:70\n",
      "./Abs/6zcz.pdb-chain H-chain L-chain E\n",
      "EY6A:86\n",
      "EY6A:60\n",
      "./Abs/7akd.pdb-chain H-chain L-chain B\n"
     ]
    },
    {
     "name": "stderr",
     "output_type": "stream",
     "text": [
      "@> 27358 atoms and 1 coordinate set(s) were parsed in 0.26s.\n",
      "@> 9536 atoms and 1 coordinate set(s) were parsed in 0.10s.\n"
     ]
    },
    {
     "name": "stdout",
     "output_type": "stream",
     "text": [
      "47D11:42\n",
      "47D11:3\n",
      "./Abs/7b3o.pdb-chain H-chain L-chain E\n",
      "STE90-C11:738\n"
     ]
    },
    {
     "name": "stderr",
     "output_type": "stream",
     "text": [
      "@> 5041 atoms and 1 coordinate set(s) were parsed in 0.06s.\n",
      "@> 4883 atoms and 1 coordinate set(s) were parsed in 0.05s.\n"
     ]
    },
    {
     "name": "stdout",
     "output_type": "stream",
     "text": [
      "STE90-C11:442\n",
      "./Abs/7bei.pdb-chain H-chain L-chain E\n",
      "COVOX-150:138\n",
      "COVOX-150:113\n",
      "./Abs/7bej.pdb-chain H-chain L-chain E\n"
     ]
    },
    {
     "name": "stderr",
     "output_type": "stream",
     "text": [
      "@> 13534 atoms and 1 coordinate set(s) were parsed in 0.16s.\n"
     ]
    },
    {
     "name": "stdout",
     "output_type": "stream",
     "text": [
      "COVOX-158:112\n",
      "COVOX-158:70\n",
      "./Abs/7bel.pdb-chain C-chain D-chain X\n"
     ]
    },
    {
     "name": "stderr",
     "output_type": "stream",
     "text": [
      "@> 3318 atoms and 1 coordinate set(s) were parsed in 0.04s.\n"
     ]
    },
    {
     "name": "stdout",
     "output_type": "stream",
     "text": [
      "COVOX-45:109\n",
      "COVOX-45:46\n",
      "./Abs/7bem.pdb-chain H-chain L-chain E\n",
      "COVOX-269:137\n",
      "COVOX-269:78\n",
      "./Abs/7ben.pdb-chain H-chain L-chain E\n"
     ]
    },
    {
     "name": "stderr",
     "output_type": "stream",
     "text": [
      "@> 16420 atoms and 1 coordinate set(s) were parsed in 0.17s.\n",
      "@> 16280 atoms and 1 coordinate set(s) were parsed in 0.16s.\n"
     ]
    },
    {
     "name": "stdout",
     "output_type": "stream",
     "text": [
      "COVOX-253:90\n",
      "COVOX-253:30\n",
      "./Abs/7beo.pdb-chain A-chain B-chain R\n"
     ]
    },
    {
     "name": "stderr",
     "output_type": "stream",
     "text": [
      "@> 4820 atoms and 1 coordinate set(s) were parsed in 0.05s.\n"
     ]
    },
    {
     "name": "stdout",
     "output_type": "stream",
     "text": [
      "COVOX-75:69\n",
      "COVOX-75:48\n",
      "./Abs/7bwj.pdb-chain H-chain L-chain E\n",
      "P2B-2F6:54\n",
      "P2B-2F6:17\n",
      "./Abs/7byr.pdb-chain H-chain L-chain B\n"
     ]
    },
    {
     "name": "stderr",
     "output_type": "stream",
     "text": [
      "@> 24497 atoms and 1 coordinate set(s) were parsed in 0.24s.\n",
      "@> 5320 atoms and 1 coordinate set(s) were parsed in 0.05s.\n"
     ]
    },
    {
     "name": "stdout",
     "output_type": "stream",
     "text": [
      "BD23:75\n",
      "BD23:0\n",
      "./Abs/7bz5.pdb-chain H-chain L-chain A\n",
      "B38:219\n",
      "B38:117\n",
      "./Abs/7c01.pdb-chain H-chain L-chain A\n"
     ]
    },
    {
     "name": "stderr",
     "output_type": "stream",
     "text": [
      "@> 9670 atoms and 1 coordinate set(s) were parsed in 0.09s.\n"
     ]
    },
    {
     "name": "stdout",
     "output_type": "stream",
     "text": [
      "CB6:123\n",
      "CB6:38\n",
      "./Abs/7cai.pdb-chain E-chain D-chain A\n"
     ]
    },
    {
     "name": "stderr",
     "output_type": "stream",
     "text": [
      "@> 31254 atoms and 1 coordinate set(s) were parsed in 0.30s.\n",
      "@> 4715 atoms and 1 coordinate set(s) were parsed in 0.05s.\n",
      "@> 4770 atoms and 1 coordinate set(s) were parsed in 0.05s.\n"
     ]
    },
    {
     "name": "stdout",
     "output_type": "stream",
     "text": [
      "H014:86\n",
      "H014:45\n",
      "./Abs/7cdi.pdb-chain H-chain L-chain E\n",
      "P2C-1F11:107\n",
      "P2C-1F11:16\n",
      "./Abs/7cdj.pdb-chain H-chain L-chain E\n"
     ]
    },
    {
     "name": "stderr",
     "output_type": "stream",
     "text": [
      "@> 4729 atoms and 1 coordinate set(s) were parsed in 0.05s.\n",
      "@> 4687 atoms and 1 coordinate set(s) were parsed in 0.05s.\n"
     ]
    },
    {
     "name": "stdout",
     "output_type": "stream",
     "text": [
      "P2C-1A3:98\n",
      "P2C-1A3:35\n",
      "./Abs/7ch4.pdb-chain H-chain L-chain R\n",
      "BD-604:108\n",
      "BD-604:34\n",
      "./Abs/7ch5.pdb-chain H-chain L-chain R\n",
      "BD-629:135\n"
     ]
    },
    {
     "name": "stderr",
     "output_type": "stream",
     "text": [
      "@> 4893 atoms and 1 coordinate set(s) were parsed in 0.05s.\n"
     ]
    },
    {
     "name": "stdout",
     "output_type": "stream",
     "text": [
      "BD-629:17\n",
      "./Abs/7chb.pdb-chain H-chain L-chain R\n",
      "BD-236:136\n",
      "BD-236:61\n",
      "./Abs/7chh.pdb-chain D-chain E-chain A\n"
     ]
    },
    {
     "name": "stderr",
     "output_type": "stream",
     "text": [
      "@> 29029 atoms and 1 coordinate set(s) were parsed in 0.28s.\n",
      "@> 9551 atoms and 1 coordinate set(s) were parsed in 0.09s.\n"
     ]
    },
    {
     "name": "stdout",
     "output_type": "stream",
     "text": [
      "BD-368-2:69\n",
      "BD-368-2:4\n",
      "./Abs/7cho.pdb-chain H-chain L-chain E\n",
      "P5A-1D2:135\n",
      "P5A-1D2:19\n",
      "./Abs/7chp.pdb-chain H-chain L-chain E\n"
     ]
    },
    {
     "name": "stderr",
     "output_type": "stream",
     "text": [
      "@> 5078 atoms and 1 coordinate set(s) were parsed in 0.05s.\n",
      "@> 5002 atoms and 1 coordinate set(s) were parsed in 0.05s.\n",
      "@> 5398 atoms and 1 coordinate set(s) were parsed in 0.05s.\n"
     ]
    },
    {
     "name": "stdout",
     "output_type": "stream",
     "text": [
      "P5A-3C8:160\n",
      "P5A-3C8:143\n",
      "./Abs/7chs.pdb-chain H-chain L-chain E\n",
      "P22A-1D1:202\n",
      "P22A-1D1:75\n",
      "./Abs/7cjf.pdb-chain A-chain B-chain C\n"
     ]
    },
    {
     "name": "stderr",
     "output_type": "stream",
     "text": [
      "@> 4985 atoms and 1 coordinate set(s) were parsed in 0.05s.\n"
     ]
    },
    {
     "name": "stdout",
     "output_type": "stream",
     "text": [
      "P4A1:191\n",
      "P4A1:115\n",
      "./Abs/7cm4.pdb-chain H-chain L-chain A\n",
      "Regdanvimab:139\n",
      "Regdanvimab:12\n",
      "./Abs/7cwm.pdb-chain H-chain L-chain A\n"
     ]
    },
    {
     "name": "stderr",
     "output_type": "stream",
     "text": [
      "@> 30760 atoms and 1 coordinate set(s) were parsed in 0.29s.\n"
     ]
    },
    {
     "name": "stdout",
     "output_type": "stream",
     "text": [
      "P17:70\n",
      "P17:37\n",
      "./Abs/7cyp.pdb-chain E-chain D-chain A\n"
     ]
    },
    {
     "name": "stderr",
     "output_type": "stream",
     "text": [
      "@> 29979 atoms and 1 coordinate set(s) were parsed in 0.29s.\n"
     ]
    },
    {
     "name": "stdout",
     "output_type": "stream",
     "text": [
      "HB27:70\n",
      "HB27:25\n",
      "./Abs/7czp.pdb-chain H-chain L-chain A\n"
     ]
    },
    {
     "name": "stderr",
     "output_type": "stream",
     "text": [
      "@> 30946 atoms and 1 coordinate set(s) were parsed in 0.29s.\n"
     ]
    },
    {
     "name": "stdout",
     "output_type": "stream",
     "text": [
      "P2B-1A1:24\n",
      "P2B-1A1:101\n",
      "./Abs/7czq.pdb-chain H-chain K-chain A\n"
     ]
    },
    {
     "name": "stderr",
     "output_type": "stream",
     "text": [
      "@> 31016 atoms and 1 coordinate set(s) were parsed in 0.29s.\n"
     ]
    },
    {
     "name": "stdout",
     "output_type": "stream",
     "text": [
      "P2B-1A10:149\n",
      "P2B-1A10:71\n",
      "./Abs/7czt.pdb-chain H-chain L-chain A\n"
     ]
    },
    {
     "name": "stderr",
     "output_type": "stream",
     "text": [
      "@> 31060 atoms and 1 coordinate set(s) were parsed in 0.29s.\n"
     ]
    },
    {
     "name": "stdout",
     "output_type": "stream",
     "text": [
      "P5A-2G9:27\n",
      "P5A-2G9:67\n",
      "./Abs/7czu.pdb-chain H-chain K-chain A\n"
     ]
    },
    {
     "name": "stderr",
     "output_type": "stream",
     "text": [
      "@> 31120 atoms and 1 coordinate set(s) were parsed in 0.29s.\n"
     ]
    },
    {
     "name": "stdout",
     "output_type": "stream",
     "text": [
      "P5A-1B6:107\n",
      "P5A-1B6:26\n",
      "./Abs/7czw.pdb-chain H-chain L-chain A\n"
     ]
    },
    {
     "name": "stderr",
     "output_type": "stream",
     "text": [
      "@> 31004 atoms and 1 coordinate set(s) were parsed in 0.32s.\n"
     ]
    },
    {
     "name": "stdout",
     "output_type": "stream",
     "text": [
      "P5A-2G7:116\n",
      "P5A-2G7:19\n",
      "./Abs/7czx.pdb-chain H-chain K-chain A\n"
     ]
    },
    {
     "name": "stderr",
     "output_type": "stream",
     "text": [
      "@> 34879 atoms and 1 coordinate set(s) were parsed in 0.34s.\n"
     ]
    },
    {
     "name": "stdout",
     "output_type": "stream",
     "text": [
      "P5A-1B9:62\n",
      "P5A-1B9:29\n",
      "./Abs/7czy.pdb-chain H-chain K-chain A\n"
     ]
    },
    {
     "name": "stderr",
     "output_type": "stream",
     "text": [
      "@> 31186 atoms and 1 coordinate set(s) were parsed in 0.31s.\n"
     ]
    },
    {
     "name": "stdout",
     "output_type": "stream",
     "text": [
      "P5A-2F11:51\n",
      "P5A-2F11:9\n",
      "./Abs/7d00.pdb-chain H-chain K-chain A\n"
     ]
    },
    {
     "name": "stderr",
     "output_type": "stream",
     "text": [
      "@> 30886 atoms and 1 coordinate set(s) were parsed in 0.36s.\n"
     ]
    },
    {
     "name": "stdout",
     "output_type": "stream",
     "text": [
      "P5A-1B8:90\n",
      "P5A-1B8:29\n",
      "./Abs/7d0b.pdb-chain H-chain L-chain A\n"
     ]
    },
    {
     "name": "stderr",
     "output_type": "stream",
     "text": [
      "@> 26065 atoms and 1 coordinate set(s) were parsed in 0.25s.\n"
     ]
    },
    {
     "name": "stdout",
     "output_type": "stream",
     "text": [
      "P5A-3C12:33\n",
      "P5A-3C12:0\n",
      "./Abs/7d0c.pdb-chain H-chain L-chain A\n"
     ]
    },
    {
     "name": "stderr",
     "output_type": "stream",
     "text": [
      "@> 30966 atoms and 1 coordinate set(s) were parsed in 0.30s.\n"
     ]
    },
    {
     "name": "stdout",
     "output_type": "stream",
     "text": [
      "P5A-3A1:93\n",
      "P5A-3A1:18\n",
      "./Abs/7dd2.pdb-chain A-chain B-chain C\n"
     ]
    },
    {
     "name": "stderr",
     "output_type": "stream",
     "text": [
      "@> 31623 atoms and 1 coordinate set(s) were parsed in 0.29s.\n",
      "@> 3579 atoms and 1 coordinate set(s) were parsed in 0.04s.\n",
      "@> 3507 atoms and 1 coordinate set(s) were parsed in 0.04s.\n"
     ]
    },
    {
     "name": "stdout",
     "output_type": "stream",
     "text": [
      "3C1:43\n",
      "3C1:87\n",
      "./Abs/7deo.pdb-chain H-chain L-chain B\n",
      "PR1077:119\n",
      "PR1077:12\n",
      "./Abs/7det.pdb-chain H-chain L-chain A\n",
      "PR961:95\n",
      "PR961:69\n",
      "./Abs/7deu.pdb-chain H-chain L-chain A\n"
     ]
    },
    {
     "name": "stderr",
     "output_type": "stream",
     "text": [
      "@> 3409 atoms and 1 coordinate set(s) were parsed in 0.04s.\n",
      "@> 5188 atoms and 1 coordinate set(s) were parsed in 0.05s.\n",
      "@> 4786 atoms and 1 coordinate set(s) were parsed in 0.05s.\n"
     ]
    },
    {
     "name": "stdout",
     "output_type": "stream",
     "text": [
      "PR953:105\n",
      "PR953:45\n",
      "./Abs/7djz.pdb-chain A-chain B-chain C\n",
      "MW01:116\n",
      "MW01:74\n",
      "./Abs/7dk0.pdb-chain A-chain B-chain C\n",
      "MW05:127\n",
      "MW05:28\n",
      "./Abs/7dk5.pdb-chain a-chain b-chain A\n"
     ]
    },
    {
     "name": "stderr",
     "output_type": "stream",
     "text": [
      "@> 28144 atoms and 1 coordinate set(s) were parsed in 0.30s.\n"
     ]
    },
    {
     "name": "stdout",
     "output_type": "stream",
     "text": [
      "2H2:90\n",
      "2H2:124\n",
      "./Abs/7dpm.pdb-chain A-chain B-chain C\n"
     ]
    },
    {
     "name": "stderr",
     "output_type": "stream",
     "text": [
      "@> 19571 atoms and 1 coordinate set(s) were parsed in 0.20s.\n",
      "@> 3133 atoms and 1 coordinate set(s) were parsed in 0.03s.\n",
      "@> 9297 atoms and 1 coordinate set(s) were parsed in 0.10s.\n"
     ]
    },
    {
     "name": "stdout",
     "output_type": "stream",
     "text": [
      "MW06:98\n",
      "MW06:27\n",
      "./Abs/7e23.pdb-chain B-chain C-chain A\n",
      "CA521:113\n",
      "CA521:0\n",
      "./Abs/7e5y.pdb-chain H-chain L-chain R\n"
     ]
    },
    {
     "name": "stderr",
     "output_type": "stream",
     "text": [
      "@> 9916 atoms and 1 coordinate set(s) were parsed in 0.10s.\n"
     ]
    },
    {
     "name": "stdout",
     "output_type": "stream",
     "text": [
      "2B11:126\n",
      "2B11:33\n",
      "./Abs/7e7y.pdb-chain A-chain B-chain R\n",
      "BD-623:138\n",
      "BD-623:28\n",
      "./Abs/7e86.pdb-chain A-chain B-chain C\n"
     ]
    },
    {
     "name": "stderr",
     "output_type": "stream",
     "text": [
      "@> 4698 atoms and 1 coordinate set(s) were parsed in 0.05s.\n"
     ]
    },
    {
     "name": "stdout",
     "output_type": "stream",
     "text": [
      "BD-508:120\n",
      "BD-508:61\n",
      "./Abs/7e88.pdb-chain A-chain B-chain C\n"
     ]
    },
    {
     "name": "stderr",
     "output_type": "stream",
     "text": [
      "@> 18863 atoms and 1 coordinate set(s) were parsed in 0.19s.\n",
      "@> 11084 atoms and 1 coordinate set(s) were parsed in 0.11s.\n"
     ]
    },
    {
     "name": "stdout",
     "output_type": "stream",
     "text": [
      "BD-515:107\n",
      "BD-515:38\n",
      "./Abs/7eam.pdb-chain H-chain L-chain A\n",
      "7D6:137\n"
     ]
    },
    {
     "name": "stderr",
     "output_type": "stream",
     "text": [
      "@> 9677 atoms and 1 coordinate set(s) were parsed in 0.09s.\n"
     ]
    },
    {
     "name": "stdout",
     "output_type": "stream",
     "text": [
      "7D6:27\n",
      "./Abs/7ean.pdb-chain H-chain L-chain A\n",
      "6D6:570\n"
     ]
    },
    {
     "name": "stderr",
     "output_type": "stream",
     "text": [
      "@> 3321 atoms and 1 coordinate set(s) were parsed in 0.04s.\n",
      "@> 3375 atoms and 1 coordinate set(s) were parsed in 0.04s.\n",
      "@> 4904 atoms and 1 coordinate set(s) were parsed in 0.05s.\n"
     ]
    },
    {
     "name": "stdout",
     "output_type": "stream",
     "text": [
      "6D6:297\n",
      "./Abs/7f62.pdb-chain H-chain L-chain A\n",
      "RBD-chAb-25:26\n",
      "RBD-chAb-25:58\n",
      "./Abs/7f63.pdb-chain H-chain L-chain A\n",
      "RBD-chAb-45:59\n",
      "RBD-chAb-45:21\n",
      "./Abs/7jmo.pdb-chain H-chain L-chain A\n"
     ]
    },
    {
     "name": "stderr",
     "output_type": "stream",
     "text": [
      "@> 4907 atoms and 1 coordinate set(s) were parsed in 0.05s.\n",
      "@> 4873 atoms and 1 coordinate set(s) were parsed in 0.05s.\n"
     ]
    },
    {
     "name": "stdout",
     "output_type": "stream",
     "text": [
      "COVA2-04:178\n",
      "COVA2-04:56\n",
      "./Abs/7jmp.pdb-chain H-chain L-chain A\n",
      "COVA2-39:176\n",
      "COVA2-39:33\n",
      "./Abs/7jmw.pdb-chain H-chain L-chain A\n"
     ]
    },
    {
     "name": "stderr",
     "output_type": "stream",
     "text": [
      "@> 2151 atoms and 1 coordinate set(s) were parsed in 0.02s.\n",
      "@> 3248 atoms and 1 coordinate set(s) were parsed in 0.03s.\n"
     ]
    },
    {
     "name": "stdout",
     "output_type": "stream",
     "text": [
      "COVA1-16:106\n",
      "COVA1-16:15\n",
      "./Abs/7jv2.pdb-chain H-chain L-chain A\n",
      "S2H13:52\n",
      "S2H13:48\n",
      "./Abs/7jva.pdb-chain H-chain L-chain A\n",
      "S2A4:52\n",
      "S2A4:46\n",
      "./Abs/7jw0.pdb-chain H-chain L-chain A\n"
     ]
    },
    {
     "name": "stderr",
     "output_type": "stream",
     "text": [
      "@> 26251 atoms and 1 coordinate set(s) were parsed in 0.27s.\n",
      "@> 11518 atoms and 1 coordinate set(s) were parsed in 0.12s.\n"
     ]
    },
    {
     "name": "stdout",
     "output_type": "stream",
     "text": [
      "S304:1\n",
      "S304:16\n",
      "./Abs/7jx3.pdb-chain C-chain D-chain R\n",
      "S2H14:92\n",
      "S2H14:54\n",
      "./Abs/7k43.pdb-chain H-chain L-chain A\n"
     ]
    },
    {
     "name": "stderr",
     "output_type": "stream",
     "text": [
      "@> 30390 atoms and 1 coordinate set(s) were parsed in 0.30s.\n",
      "@> 3038 atoms and 1 coordinate set(s) were parsed in 0.03s.\n",
      "@> 4730 atoms and 1 coordinate set(s) were parsed in 0.05s.\n"
     ]
    },
    {
     "name": "stdout",
     "output_type": "stream",
     "text": [
      "S2-M11:93\n",
      "S2-M11:3\n",
      "./Abs/7k45.pdb-chain H-chain L-chain B\n",
      "S2-E12:43\n",
      "S2-E12:12\n",
      "./Abs/7k8m.pdb-chain A-chain B-chain E\n",
      "C102:126\n",
      "C102:22\n",
      "./Abs/7k8v.pdb-chain H-chain L-chain A\n"
     ]
    },
    {
     "name": "stderr",
     "output_type": "stream",
     "text": [
      "@> 26248 atoms and 1 coordinate set(s) were parsed in 0.27s.\n",
      "@> Secondary structures were assigned to 1708 residues.\n"
     ]
    },
    {
     "name": "stdout",
     "output_type": "stream",
     "text": [
      "C110:20\n",
      "C110:28\n",
      "./Abs/7k8z.pdb-chain H-chain L-chain A\n"
     ]
    },
    {
     "name": "stderr",
     "output_type": "stream",
     "text": [
      "@> 26015 atoms and 1 coordinate set(s) were parsed in 0.26s.\n",
      "@> Secondary structures were assigned to 1915 residues.\n"
     ]
    },
    {
     "name": "stdout",
     "output_type": "stream",
     "text": [
      "C135:35\n",
      "C135:29\n",
      "./Abs/7k8s.pdb-chain H-chain L-chain A\n"
     ]
    },
    {
     "name": "stderr",
     "output_type": "stream",
     "text": [
      "@> 29649 atoms and 1 coordinate set(s) were parsed in 0.29s.\n"
     ]
    },
    {
     "name": "stdout",
     "output_type": "stream",
     "text": [
      "C002:59\n",
      "C002:17\n",
      "./Abs/7k8w.pdb-chain H-chain L-chain A\n"
     ]
    },
    {
     "name": "stderr",
     "output_type": "stream",
     "text": [
      "@> 26487 atoms and 1 coordinate set(s) were parsed in 0.26s.\n"
     ]
    },
    {
     "name": "stdout",
     "output_type": "stream",
     "text": [
      "C119:63\n",
      "C119:20\n",
      "./Abs/7k8x.pdb-chain E-chain G-chain A\n"
     ]
    },
    {
     "name": "stderr",
     "output_type": "stream",
     "text": [
      "@> 27399 atoms and 1 coordinate set(s) were parsed in 0.26s.\n"
     ]
    },
    {
     "name": "stdout",
     "output_type": "stream",
     "text": [
      "C121:61\n",
      "C121:5\n",
      "./Abs/7k90.pdb-chain H-chain L-chain B\n"
     ]
    },
    {
     "name": "stderr",
     "output_type": "stream",
     "text": [
      "@> 28863 atoms and 1 coordinate set(s) were parsed in 0.27s.\n",
      "@> 8055 atoms and 1 coordinate set(s) were parsed in 0.07s.\n"
     ]
    },
    {
     "name": "stdout",
     "output_type": "stream",
     "text": [
      "C144:100\n",
      "C144:9\n",
      "./Abs/7k9z.pdb-chain H-chain L-chain E\n",
      "Fab-52:72\n",
      "Fab-52:28\n",
      "./Abs/7k9z.pdb-chain B-chain A-chain E\n"
     ]
    },
    {
     "name": "stderr",
     "output_type": "stream",
     "text": [
      "@> 8055 atoms and 1 coordinate set(s) were parsed in 0.09s.\n",
      "@> 16121 atoms and 1 coordinate set(s) were parsed in 0.15s.\n"
     ]
    },
    {
     "name": "stdout",
     "output_type": "stream",
     "text": [
      "Fab-298:35\n",
      "Fab-298:38\n",
      "./Abs/7kfv.pdb-chain H-chain L-chain A\n"
     ]
    },
    {
     "name": "stderr",
     "output_type": "stream",
     "text": [
      "@> 14854 atoms and 1 coordinate set(s) were parsed in 0.15s.\n"
     ]
    },
    {
     "name": "stdout",
     "output_type": "stream",
     "text": [
      "C1A-B3:228\n",
      "C1A-B3:106\n",
      "./Abs/7kfw.pdb-chain H-chain L-chain A\n"
     ]
    },
    {
     "name": "stderr",
     "output_type": "stream",
     "text": [
      "@> 5191 atoms and 1 coordinate set(s) were parsed in 0.05s.\n",
      "@> 5382 atoms and 1 coordinate set(s) were parsed in 0.05s.\n"
     ]
    },
    {
     "name": "stdout",
     "output_type": "stream",
     "text": [
      "C1A-B12:168\n",
      "C1A-B12:70\n",
      "./Abs/7kfx.pdb-chain H-chain L-chain A\n",
      "C1A-C2:198\n",
      "C1A-C2:50\n",
      "./Abs/7kfy.pdb-chain H-chain L-chain A\n"
     ]
    },
    {
     "name": "stderr",
     "output_type": "stream",
     "text": [
      "@> 9569 atoms and 1 coordinate set(s) were parsed in 0.09s.\n"
     ]
    },
    {
     "name": "stdout",
     "output_type": "stream",
     "text": [
      "C1A-F10:228\n",
      "C1A-F10:83\n",
      "./Abs/7kmg.pdb-chain D-chain E-chain F\n",
      "Bamlanivimab:76\n",
      "Bamlanivimab:43\n",
      "./Abs/7kmh.pdb-chain A-chain B-chain C\n"
     ]
    },
    {
     "name": "stderr",
     "output_type": "stream",
     "text": [
      "@> 4910 atoms and 1 coordinate set(s) were parsed in 0.05s.\n",
      "@> 5278 atoms and 1 coordinate set(s) were parsed in 0.05s.\n"
     ]
    },
    {
     "name": "stdout",
     "output_type": "stream",
     "text": [
      "LY-CoV488:185\n",
      "LY-CoV488:86\n",
      "./Abs/7kmi.pdb-chain A-chain B-chain C\n",
      "LY-CoV481:171\n",
      "LY-CoV481:128\n",
      "./Abs/7ks9.pdb-chain H-chain L-chain B\n"
     ]
    },
    {
     "name": "stderr",
     "output_type": "stream",
     "text": [
      "@> 25355 atoms and 1 coordinate set(s) were parsed in 0.24s.\n"
     ]
    },
    {
     "name": "stdout",
     "output_type": "stream",
     "text": [
      "910-30:103\n",
      "910-30:76\n",
      "./Abs/7kxj.pdb-chain H-chain L-chain A\n"
     ]
    },
    {
     "name": "stderr",
     "output_type": "stream",
     "text": [
      "@> 34083 atoms and 1 coordinate set(s) were parsed in 0.32s.\n",
      "@> 7102 atoms and 1 coordinate set(s) were parsed in 0.07s.\n"
     ]
    },
    {
     "name": "stdout",
     "output_type": "stream",
     "text": [
      "Fab_15033-7:57\n",
      "Fab_15033-7:53\n",
      "./Abs/7kzb_1.pdb-chain H-chain L-chain C\n",
      "CR3014-C8:36\n",
      "CR3014-C8:76\n",
      "./Abs/7kzb_2.pdb-chain A-chain B-chain C\n"
     ]
    },
    {
     "name": "stderr",
     "output_type": "stream",
     "text": [
      "@> 7102 atoms and 1 coordinate set(s) were parsed in 0.07s.\n"
     ]
    },
    {
     "name": "stdout",
     "output_type": "stream",
     "text": [
      "CR3022-B6:12\n",
      "CR3022-B6:67\n",
      "./Abs/7l56.pdb-chain H-chain L-chain A\n"
     ]
    },
    {
     "name": "stderr",
     "output_type": "stream",
     "text": [
      "@> 26583 atoms and 1 coordinate set(s) were parsed in 0.26s.\n",
      "@> 18103 atoms and 1 coordinate set(s) were parsed in 0.17s.\n"
     ]
    },
    {
     "name": "stdout",
     "output_type": "stream",
     "text": [
      "Fab2-43:55\n",
      "Fab2-43:21\n",
      "./Abs/7l58.pdb-chain H-chain L-chain B\n"
     ]
    },
    {
     "name": "stderr",
     "output_type": "stream",
     "text": [
      "@> 4569 atoms and 1 coordinate set(s) were parsed in 0.04s.\n"
     ]
    },
    {
     "name": "stdout",
     "output_type": "stream",
     "text": [
      "H4:0\n",
      "H4:0\n",
      "./Abs/7l5b.pdb-chain H-chain L-chain A\n",
      "Fab2-15:72\n",
      "Fab2-15:37\n",
      "./Abs/7laa.pdb-chain H-chain L-chain A\n"
     ]
    },
    {
     "name": "stderr",
     "output_type": "stream",
     "text": [
      "@> 46691 atoms and 1 coordinate set(s) were parsed in 0.43s.\n"
     ]
    },
    {
     "name": "stdout",
     "output_type": "stream",
     "text": [
      "DH1041:588\n",
      "DH1041:56\n",
      "./Abs/7ld1.pdb-chain H-chain L-chain B\n"
     ]
    },
    {
     "name": "stderr",
     "output_type": "stream",
     "text": [
      "@> 29456 atoms and 1 coordinate set(s) were parsed in 0.27s.\n"
     ]
    },
    {
     "name": "stdout",
     "output_type": "stream",
     "text": [
      "DH1047:52\n",
      "DH1047:9\n",
      "./Abs/7ljr.pdb-chain S-chain T-chain A\n"
     ]
    },
    {
     "name": "stderr",
     "output_type": "stream",
     "text": [
      "@> 26291 atoms and 1 coordinate set(s) were parsed in 0.25s.\n",
      "@> 5541 atoms and 1 coordinate set(s) were parsed in 0.05s.\n"
     ]
    },
    {
     "name": "stdout",
     "output_type": "stream",
     "text": [
      "DH1043:114\n",
      "DH1043:74\n",
      "./Abs/7lm9.pdb-chain H-chain L-chain A\n",
      "CV38-142:145\n",
      "CV38-142:36\n",
      "./Abs/7lop.pdb-chain H-chain L-chain A\n"
     ]
    },
    {
     "name": "stderr",
     "output_type": "stream",
     "text": [
      "@> 17650 atoms and 1 coordinate set(s) were parsed in 0.17s.\n",
      "@> 4912 atoms and 1 coordinate set(s) were parsed in 0.05s.\n"
     ]
    },
    {
     "name": "stdout",
     "output_type": "stream",
     "text": [
      "CV05-163:92\n",
      "CV05-163:91\n",
      "./Abs/7lrs.pdb-chain D-chain E-chain C\n",
      "A23-58-1:24\n",
      "A23-58-1:0\n",
      "./Abs/7ls9.pdb-chain H-chain L-chain A\n"
     ]
    },
    {
     "name": "stderr",
     "output_type": "stream",
     "text": [
      "@> 32226 atoms and 1 coordinate set(s) were parsed in 0.30s.\n"
     ]
    },
    {
     "name": "stdout",
     "output_type": "stream",
     "text": [
      "Fab1-57:78\n",
      "Fab1-57:26\n",
      "./Abs/7lss.pdb-chain H-chain L-chain B\n"
     ]
    },
    {
     "name": "stderr",
     "output_type": "stream",
     "text": [
      "@> 20582 atoms and 1 coordinate set(s) were parsed in 0.19s.\n",
      "@> 9856 atoms and 1 coordinate set(s) were parsed in 0.09s.\n"
     ]
    },
    {
     "name": "stdout",
     "output_type": "stream",
     "text": [
      "Fab2-7:47\n",
      "Fab2-7:36\n",
      "./Abs/7m3i.pdb-chain H-chain L-chain R\n",
      "CV2-75:66\n",
      "CV2-75:60\n",
      "./Abs/7m6d.pdb-chain H-chain L-chain C\n"
     ]
    },
    {
     "name": "stderr",
     "output_type": "stream",
     "text": [
      "@> 8221 atoms and 1 coordinate set(s) were parsed in 0.08s.\n"
     ]
    },
    {
     "name": "stdout",
     "output_type": "stream",
     "text": [
      "BG4-25:108\n",
      "BG4-25:19\n",
      "./Abs/7m6e.pdb-chain H-chain L-chain A\n"
     ]
    },
    {
     "name": "stderr",
     "output_type": "stream",
     "text": [
      "@> 29796 atoms and 1 coordinate set(s) were parsed in 0.27s.\n"
     ]
    },
    {
     "name": "stdout",
     "output_type": "stream",
     "text": [
      "BG10-19:140\n",
      "BG10-19:4\n",
      "./Abs/7m6f.pdb-chain H-chain L-chain A\n"
     ]
    },
    {
     "name": "stderr",
     "output_type": "stream",
     "text": [
      "@> 24256 atoms and 1 coordinate set(s) were parsed in 0.22s.\n"
     ]
    },
    {
     "name": "stdout",
     "output_type": "stream",
     "text": [
      "BG1-22:43\n",
      "BG1-22:5\n",
      "./Abs/7m6g.pdb-chain H-chain L-chain C\n"
     ]
    },
    {
     "name": "stderr",
     "output_type": "stream",
     "text": [
      "@> 26290 atoms and 1 coordinate set(s) were parsed in 0.25s.\n"
     ]
    },
    {
     "name": "stdout",
     "output_type": "stream",
     "text": [
      "BG7-15:80\n",
      "BG7-15:17\n",
      "./Abs/7m6h.pdb-chain D-chain F-chain B\n"
     ]
    },
    {
     "name": "stderr",
     "output_type": "stream",
     "text": [
      "@> 27379 atoms and 1 coordinate set(s) were parsed in 0.26s.\n"
     ]
    },
    {
     "name": "stdout",
     "output_type": "stream",
     "text": [
      "BG7-20:93\n",
      "BG7-20:14\n",
      "./Abs/7m6i.pdb-chain H-chain L-chain C\n"
     ]
    },
    {
     "name": "stderr",
     "output_type": "stream",
     "text": [
      "@> 27359 atoms and 1 coordinate set(s) were parsed in 0.25s.\n",
      "@> 6646 atoms and 1 coordinate set(s) were parsed in 0.06s.\n",
      "@> 4898 atoms and 1 coordinate set(s) were parsed in 0.05s.\n"
     ]
    },
    {
     "name": "stdout",
     "output_type": "stream",
     "text": [
      "BG1-24:94\n",
      "BG1-24:28\n",
      "./Abs/7m71.pdb-chain H-chain L-chain A\n",
      "Asarnow_5A6:70\n",
      "Asarnow_5A6:39\n",
      "./Abs/7m7b.pdb-chain H-chain L-chain A\n"
     ]
    },
    {
     "name": "stderr",
     "output_type": "stream",
     "text": [
      "@> 16275 atoms and 1 coordinate set(s) were parsed in 0.15s.\n"
     ]
    },
    {
     "name": "stdout",
     "output_type": "stream",
     "text": [
      "Asarnow_3D11:41\n",
      "Asarnow_3D11:57\n",
      "./Abs/7m7w.pdb-chain C-chain D-chain S\n"
     ]
    },
    {
     "name": "stderr",
     "output_type": "stream",
     "text": [
      "@> 4972 atoms and 1 coordinate set(s) were parsed in 0.05s.\n",
      "@> 4788 atoms and 1 coordinate set(s) were parsed in 0.05s.\n"
     ]
    },
    {
     "name": "stdout",
     "output_type": "stream",
     "text": [
      "S2H97:90\n",
      "S2H97:25\n",
      "./Abs/7mf1.pdb-chain H-chain L-chain A\n",
      "Zhou_47D1:139\n",
      "Zhou_47D1:0\n",
      "./Abs/7mjl.pdb-chain H-chain L-chain A\n"
     ]
    },
    {
     "name": "stderr",
     "output_type": "stream",
     "text": [
      "@> 3192 atoms and 1 coordinate set(s) were parsed in 0.04s.\n"
     ]
    },
    {
     "name": "stdout",
     "output_type": "stream",
     "text": [
      "ab1:116\n",
      "ab1:23\n",
      "./Abs/7mkm.pdb-chain H-chain L-chain A\n",
      "SARS2-38:6\n",
      "SARS2-38:32\n",
      "./Abs/7mmo.pdb-chain D-chain E-chain F\n"
     ]
    },
    {
     "name": "stderr",
     "output_type": "stream",
     "text": [
      "@> 9116 atoms and 1 coordinate set(s) were parsed in 0.09s.\n",
      "@> 5244 atoms and 1 coordinate set(s) were parsed in 0.05s.\n"
     ]
    },
    {
     "name": "stdout",
     "output_type": "stream",
     "text": [
      "LY-CoV1404:44\n",
      "LY-CoV1404:60\n",
      "./Abs/7n3i.pdb-chain H-chain L-chain C\n",
      "C098:211\n",
      "C098:100\n",
      "./Abs/7n64.pdb-chain H-chain L-chain B\n"
     ]
    },
    {
     "name": "stderr",
     "output_type": "stream",
     "text": [
      "@> 7189 atoms and 1 coordinate set(s) were parsed in 0.07s.\n"
     ]
    },
    {
     "name": "stdout",
     "output_type": "stream",
     "text": [
      "G32R7:73\n",
      "G32R7:0\n",
      "./Abs/7nd4.pdb-chain H-chain L-chain C\n"
     ]
    },
    {
     "name": "stderr",
     "output_type": "stream",
     "text": [
      "@> 29848 atoms and 1 coordinate set(s) were parsed in 0.28s.\n"
     ]
    },
    {
     "name": "stdout",
     "output_type": "stream",
     "text": [
      "COVOX-88:58\n",
      "COVOX-88:41\n",
      "./Abs/7nd6.pdb-chain H-chain L-chain B\n"
     ]
    },
    {
     "name": "stderr",
     "output_type": "stream",
     "text": [
      "@> 26732 atoms and 1 coordinate set(s) were parsed in 0.33s.\n"
     ]
    },
    {
     "name": "stdout",
     "output_type": "stream",
     "text": [
      "COVOX-40:98\n",
      "COVOX-40:68\n",
      "./Abs/7nd7.pdb-chain H-chain L-chain A\n"
     ]
    },
    {
     "name": "stderr",
     "output_type": "stream",
     "text": [
      "@> 29591 atoms and 1 coordinate set(s) were parsed in 0.30s.\n"
     ]
    },
    {
     "name": "stdout",
     "output_type": "stream",
     "text": [
      "COVOX-316:84\n",
      "COVOX-316:27\n",
      "./Abs/7nd8.pdb-chain H-chain L-chain B\n"
     ]
    },
    {
     "name": "stderr",
     "output_type": "stream",
     "text": [
      "@> 27659 atoms and 1 coordinate set(s) were parsed in 0.27s.\n"
     ]
    },
    {
     "name": "stdout",
     "output_type": "stream",
     "text": [
      "COVOX-384:57\n",
      "COVOX-384:21\n",
      "./Abs/7nda.pdb-chain H-chain L-chain C\n"
     ]
    },
    {
     "name": "stderr",
     "output_type": "stream",
     "text": [
      "@> 27721 atoms and 1 coordinate set(s) were parsed in 0.30s.\n"
     ]
    },
    {
     "name": "stdout",
     "output_type": "stream",
     "text": [
      "COVOX-253H55L:69\n",
      "COVOX-253H55L:1\n",
      "./Abs/7ndb.pdb-chain H-chain L-chain B\n"
     ]
    },
    {
     "name": "stderr",
     "output_type": "stream",
     "text": [
      "@> 27184 atoms and 1 coordinate set(s) were parsed in 0.27s.\n"
     ]
    },
    {
     "name": "stdout",
     "output_type": "stream",
     "text": [
      "COVOX-253H165L:13\n",
      "COVOX-253H165L:4\n",
      "./Abs/7ndc.pdb-chain H-chain L-chain B\n"
     ]
    },
    {
     "name": "stderr",
     "output_type": "stream",
     "text": [
      "@> 30645 atoms and 1 coordinate set(s) were parsed in 0.31s.\n",
      "@> 8384 atoms and 1 coordinate set(s) were parsed in 0.08s.\n"
     ]
    },
    {
     "name": "stdout",
     "output_type": "stream",
     "text": [
      "COVOX-159:38\n",
      "COVOX-159:3\n",
      "./Abs/7nx6.pdb-chain A-chain B-chain E\n",
      "COVOX-222:189\n",
      "COVOX-222:95\n",
      "./Abs/7or9.pdb-chain H-chain L-chain E\n"
     ]
    },
    {
     "name": "stderr",
     "output_type": "stream",
     "text": [
      "@> 8248 atoms and 1 coordinate set(s) were parsed in 0.08s.\n",
      "@> 8911 atoms and 1 coordinate set(s) were parsed in 0.09s.\n",
      "@> 2790 atoms and 1 coordinate set(s) were parsed in 0.03s.\n"
     ]
    },
    {
     "name": "stdout",
     "output_type": "stream",
     "text": [
      "COVOX-278:39\n",
      "COVOX-278:82\n",
      "./Abs/7r6w.pdb-chain H-chain L-chain R\n",
      "S2X35:197\n",
      "S2X35:78\n",
      "./Abs/7r7n.pdb-chain H-chain L-chain E\n"
     ]
    },
    {
     "name": "stderr",
     "output_type": "stream",
     "text": [
      "@> 8251 atoms and 1 coordinate set(s) were parsed in 0.08s.\n"
     ]
    },
    {
     "name": "stdout",
     "output_type": "stream",
     "text": [
      "S2D106:41\n",
      "S2D106:38\n",
      "./Abs/7r8l.pdb-chain H-chain L-chain E\n",
      "C099:135\n",
      "C099:39\n",
      "./Abs/7r8m.pdb-chain H-chain L-chain B\n"
     ]
    },
    {
     "name": "stderr",
     "output_type": "stream",
     "text": [
      "@> 26323 atoms and 1 coordinate set(s) were parsed in 0.25s.\n"
     ]
    },
    {
     "name": "stdout",
     "output_type": "stream",
     "text": [
      "C032:82\n",
      "C032:36\n",
      "./Abs/7r8n.pdb-chain H-chain L-chain A\n"
     ]
    },
    {
     "name": "stderr",
     "output_type": "stream",
     "text": [
      "@> 29719 atoms and 1 coordinate set(s) were parsed in 0.30s.\n"
     ]
    },
    {
     "name": "stdout",
     "output_type": "stream",
     "text": [
      "C051:162\n",
      "C051:11\n",
      "./Abs/7r8o.pdb-chain H-chain L-chain B\n"
     ]
    },
    {
     "name": "stderr",
     "output_type": "stream",
     "text": [
      "@> 29952 atoms and 1 coordinate set(s) were parsed in 0.33s.\n",
      "@> 2847 atoms and 1 coordinate set(s) were parsed in 0.03s.\n"
     ]
    },
    {
     "name": "stdout",
     "output_type": "stream",
     "text": [
      "C548:48\n",
      "C548:41\n",
      "./Abs/7ral.pdb-chain H-chain L-chain B\n",
      "S2X259:95\n",
      "S2X259:34\n"
     ]
    }
   ],
   "source": [
    "ab_VH_contacts_all=[]\n",
    "ab_VL_contacts_all=[]\n",
    "\n",
    "\n",
    "for idx,row in seq_data.iterrows():\n",
    "    pdb = row['pdb']\n",
    "    name = row['Name']\n",
    "    VH_chain = row['VH chain']\n",
    "    VL_chain = row['VL chain']\n",
    "    Ag_chain = row['RBD chain']\n",
    "    filename = os.path.join(\"./Abs\",f\"{pdb.lower()}.pdb\")\n",
    "    #Ab_chain = f'chain {VH_chain} {VL_chain}'\n",
    "    VH_chain = f'chain {VH_chain}'\n",
    "    VL_chain = f'chain {VL_chain}'\n",
    "    Ag_chain = f'chain {Ag_chain}'\n",
    "    print(f'{filename}-{VH_chain}-{VL_chain}-{Ag_chain}')\n",
    "    struct = prody.parsePDB(filename)\n",
    "    \n",
    "    VH_struct = struct.select(VH_chain).copy()\n",
    "    Ag_struct = struct.select(Ag_chain).copy()\n",
    "    contacts= list(prody.iterNeighbors(Ag_struct,4,VH_struct))\n",
    "    summarized_contacts = summarizeContacts(contacts)\n",
    "    summarized_contacts['Name'] = name\n",
    "    ab_VH_contacts_all.append(summarized_contacts)\n",
    "    print(f'{name}:{summarized_contacts.shape[0]}')\n",
    "    \n",
    "    VL_struct = struct.select(VL_chain).copy()\n",
    "    contacts= list(prody.iterNeighbors(Ag_struct,4,VL_struct))\n",
    "    summarized_contacts = summarizeContacts(contacts)\n",
    "    summarized_contacts['Name'] = name\n",
    "    ab_VL_contacts_all.append(summarized_contacts)\n",
    "    print(f'{name}:{summarized_contacts.shape[0]}')\n",
    "    \n",
    "ab_VH_contacts = pd.concat(ab_VH_contacts_all)\n",
    "ab_VL_contacts = pd.concat(ab_VL_contacts_all)"
   ]
  },
  {
   "cell_type": "code",
   "execution_count": 6,
   "metadata": {},
   "outputs": [],
   "source": [
    "VH_epitopes_info = ab_VH_contacts.groupby(\"Name\").apply(lambda x: epitope_map2(x.groupby(\"resnum1\")['resnum2'].count()))\n",
    "names = np.array(VH_epitopes_info.index)\n",
    "matrics = VH_epitopes_info.values\n",
    "Ab_VH_epitopes = pd.DataFrame(np.vstack(matrics),columns=np.arange(319,542),index=names)\n",
    "\n",
    "VL_epitopes_info = ab_VL_contacts.groupby(\"Name\").apply(lambda x: epitope_map2(x.groupby(\"resnum1\")['resnum2'].count()))\n",
    "names = np.array(VL_epitopes_info.index)\n",
    "matrics = VL_epitopes_info.values\n",
    "Ab_VL_epitopes = pd.DataFrame(np.vstack(matrics),columns=np.arange(319,542),index=names)"
   ]
  },
  {
   "cell_type": "code",
   "execution_count": 7,
   "metadata": {},
   "outputs": [],
   "source": [
    "Ab_epitopes =pd.concat([Ab_VH_epitopes,Ab_VL_epitopes]).reset_index().groupby(\"index\").sum()"
   ]
  },
  {
   "cell_type": "code",
   "execution_count": 50,
   "metadata": {},
   "outputs": [
    {
     "data": {
      "text/plain": [
       "array([0, 0, 0, 0, 0, 0, 0, 0, 0, 0, 0, 0, 0, 0, 0, 1, 3, 0, 2, 0, 1, 5,\n",
       "       0, 0, 3, 2, 5, 1, 0, 0, 0, 0, 0, 0, 0, 0, 0, 2, 1, 0, 1, 1, 1, 0,\n",
       "       0, 0, 0, 0, 0, 0, 0, 0, 0, 0, 0, 0, 0, 0, 0, 0, 0, 0, 0, 0, 0, 0,\n",
       "       0, 0, 0, 0, 0, 0, 0, 0, 0, 0, 0, 0, 0, 0, 0, 0, 0, 0, 0, 0, 0, 0,\n",
       "       0, 0, 0, 0, 0, 0, 0, 0, 0, 0, 0, 0, 0, 0, 0, 0, 0, 0, 0, 0, 0, 0,\n",
       "       0, 0, 0, 0, 0, 0, 0, 0, 0, 0, 0, 0, 2, 0, 0, 0, 0, 0, 0, 0, 0, 0,\n",
       "       0, 0, 0, 0, 0, 0, 0, 0, 0, 0, 0, 0, 0, 0, 0, 0, 0, 0, 0, 0, 0, 0,\n",
       "       0, 0, 0, 0, 0, 0, 0, 0, 0, 0, 0, 0, 0, 0, 0, 0, 0, 0, 0, 0, 0, 0,\n",
       "       0, 0, 0, 0, 0, 0, 0, 0, 0, 0, 0, 0, 0, 0, 0, 0, 0, 0, 0, 0, 0, 0,\n",
       "       0, 0, 0, 0, 0, 0, 0, 0, 0, 0, 0, 0, 0, 0, 0, 0, 0, 0, 0, 0, 0, 0,\n",
       "       0, 0, 0])"
      ]
     },
     "execution_count": 50,
     "metadata": {},
     "output_type": "execute_result"
    }
   ],
   "source": [
    "Ab_epitopes.to_csv(\"Ab_map_#atom.csv\")\n",
    "Ab_epitopes.to_csv(\"Ab_map_#atom.csv\")"
   ]
  },
  {
   "cell_type": "code",
   "execution_count": 27,
   "metadata": {},
   "outputs": [
    {
     "data": {
      "text/plain": [
       "<AxesSubplot:>"
      ]
     },
     "execution_count": 27,
     "metadata": {},
     "output_type": "execute_result"
    },
    {
     "data": {
      "image/png": "[encoded data removed]",
      "text/plain": [
       "<Figure size 1440x432 with 2 Axes>"
      ]
     },
     "metadata": {
      "needs_background": "light"
     },
     "output_type": "display_data"
    }
   ],
   "source": [
    "plt.figure(figsize=(20,6))\n",
    "sns.heatmap(pd.DataFrame(Ab_epitopes.astype(bool).astype(int).sum()).T.apply(lambda x: np.log2(x+1)))"
   ]
  },
  {
   "cell_type": "code",
   "execution_count": 40,
   "metadata": {},
   "outputs": [
    {
     "data": {
      "image/png": "[encoded data removed]",
      "text/plain": [
       "<Figure size 720x2160 with 4 Axes>"
      ]
     },
     "metadata": {
      "needs_background": "light"
     },
     "output_type": "display_data"
    }
   ],
   "source": [
    "sns.clustermap(pd.DataFrame(Ab_epitopes),vmax=20,col_cluster=False,cmap='coolwarm',yticklabels=True,figsize=(10,30))\n",
    "plt.savefig('Abs_RBD.pdf',format='pdf')"
   ]
  },
  {
   "cell_type": "code",
   "execution_count": 4,
   "metadata": {
    "collapsed": true
   },
   "outputs": [
    {
     "name": "stderr",
     "output_type": "stream",
     "text": [
      "@> 7189 atoms and 1 coordinate set(s) were parsed in 0.07s.\n"
     ]
    },
    {
     "name": "stdout",
     "output_type": "stream",
     "text": [
      "./Abs/7n64.pdb-chain H L-chain B A\n",
      "./Abs/7r7n.pdb-chain H L-chain E\n"
     ]
    },
    {
     "name": "stderr",
     "output_type": "stream",
     "text": [
      "@> 2790 atoms and 1 coordinate set(s) were parsed in 0.03s.\n",
      "@> 8248 atoms and 1 coordinate set(s) were parsed in 0.07s.\n",
      "@> 3375 atoms and 1 coordinate set(s) were parsed in 0.03s.\n"
     ]
    },
    {
     "name": "stdout",
     "output_type": "stream",
     "text": [
      "./Abs/7or9.pdb-chain B A-chain E\n",
      "./Abs/7f63.pdb-chain H L-chain A\n"
     ]
    },
    {
     "name": "stderr",
     "output_type": "stream",
     "text": [
      "@> 3321 atoms and 1 coordinate set(s) were parsed in 0.03s.\n",
      "@> 9297 atoms and 1 coordinate set(s) were parsed in 0.09s.\n"
     ]
    },
    {
     "name": "stdout",
     "output_type": "stream",
     "text": [
      "./Abs/7f62.pdb-chain H L-chain A\n",
      "./Abs/7e5y.pdb-chain H L-chain R\n"
     ]
    },
    {
     "name": "stderr",
     "output_type": "stream",
     "text": [
      "@> 9916 atoms and 1 coordinate set(s) were parsed in 0.08s.\n",
      "@> 4786 atoms and 1 coordinate set(s) were parsed in 0.04s.\n"
     ]
    },
    {
     "name": "stdout",
     "output_type": "stream",
     "text": [
      "./Abs/7e7y.pdb-chain B A-chain R\n",
      "./Abs/7dk0.pdb-chain B A-chain C\n"
     ]
    },
    {
     "name": "stderr",
     "output_type": "stream",
     "text": [
      "@> 5188 atoms and 1 coordinate set(s) were parsed in 0.05s.\n",
      "@> 4898 atoms and 1 coordinate set(s) were parsed in 0.05s.\n"
     ]
    },
    {
     "name": "stdout",
     "output_type": "stream",
     "text": [
      "./Abs/7djz.pdb-chain B A-chain C\n",
      "./Abs/7m7b.pdb-chain H L-chain A\n"
     ]
    },
    {
     "name": "stderr",
     "output_type": "stream",
     "text": [
      "@> 6646 atoms and 1 coordinate set(s) were parsed in 0.06s.\n",
      "@> 5002 atoms and 1 coordinate set(s) were parsed in 0.05s.\n"
     ]
    },
    {
     "name": "stdout",
     "output_type": "stream",
     "text": [
      "./Abs/7m71.pdb-chain H L-chain A B\n",
      "./Abs/7chs.pdb-chain H L-chain E\n"
     ]
    },
    {
     "name": "stderr",
     "output_type": "stream",
     "text": [
      "@> 5078 atoms and 1 coordinate set(s) were parsed in 0.05s.\n",
      "@> 9551 atoms and 1 coordinate set(s) were parsed in 0.08s.\n"
     ]
    },
    {
     "name": "stdout",
     "output_type": "stream",
     "text": [
      "./Abs/7chp.pdb-chain H L-chain E\n",
      "./Abs/7cho.pdb-chain H L-chain E\n"
     ]
    },
    {
     "name": "stderr",
     "output_type": "stream",
     "text": [
      "@> 9856 atoms and 1 coordinate set(s) were parsed in 0.09s.\n"
     ]
    },
    {
     "name": "stdout",
     "output_type": "stream",
     "text": [
      "./Abs/7m3i.pdb-chain B A-chain C\n",
      "./Abs/7mmo.pdb-chain B A-chain C\n"
     ]
    },
    {
     "name": "stderr",
     "output_type": "stream",
     "text": [
      "@> 9116 atoms and 1 coordinate set(s) were parsed in 0.08s.\n",
      "@> 3192 atoms and 1 coordinate set(s) were parsed in 0.03s.\n",
      "@> 4972 atoms and 1 coordinate set(s) were parsed in 0.04s.\n",
      "@> 3133 atoms and 1 coordinate set(s) were parsed in 0.03s.\n"
     ]
    },
    {
     "name": "stdout",
     "output_type": "stream",
     "text": [
      "./Abs/7mkm.pdb-chain H L-chain A\n",
      "./Abs/7mf1.pdb-chain H L-chain A\n",
      "./Abs/7e23.pdb-chain C B-chain A\n",
      "./Abs/7m6i.pdb-chain H L-chain C B\n"
     ]
    },
    {
     "name": "stderr",
     "output_type": "stream",
     "text": [
      "@> 27359 atoms and 1 coordinate set(s) were parsed in 0.23s.\n"
     ]
    },
    {
     "name": "stdout",
     "output_type": "stream",
     "text": [
      "./Abs/7m6h.pdb-chain F D-chain B C\n"
     ]
    },
    {
     "name": "stderr",
     "output_type": "stream",
     "text": [
      "@> 27379 atoms and 1 coordinate set(s) were parsed in 0.22s.\n"
     ]
    },
    {
     "name": "stdout",
     "output_type": "stream",
     "text": [
      "./Abs/7m6g.pdb-chain H L-chain C A\n"
     ]
    },
    {
     "name": "stderr",
     "output_type": "stream",
     "text": [
      "@> 26290 atoms and 1 coordinate set(s) were parsed in 0.24s.\n",
      "@> 24256 atoms and 1 coordinate set(s) were parsed in 0.20s.\n"
     ]
    },
    {
     "name": "stdout",
     "output_type": "stream",
     "text": [
      "./Abs/7m6f.pdb-chain C D-chain E\n",
      "./Abs/7m6e.pdb-chain C D-chain E\n"
     ]
    },
    {
     "name": "stderr",
     "output_type": "stream",
     "text": [
      "@> 29796 atoms and 1 coordinate set(s) were parsed in 0.25s.\n",
      "@> 8221 atoms and 1 coordinate set(s) were parsed in 0.07s.\n"
     ]
    },
    {
     "name": "stdout",
     "output_type": "stream",
     "text": [
      "./Abs/7m6d.pdb-chain B A-chain C\n",
      "./Abs/7m7w.pdb-chain B A-chain S\n"
     ]
    },
    {
     "name": "stderr",
     "output_type": "stream",
     "text": [
      "@> 16275 atoms and 1 coordinate set(s) were parsed in 0.15s.\n",
      "@> 2847 atoms and 1 coordinate set(s) were parsed in 0.03s.\n",
      "@> 8384 atoms and 1 coordinate set(s) were parsed in 0.07s.\n"
     ]
    },
    {
     "name": "stdout",
     "output_type": "stream",
     "text": [
      "./Abs/7ral.pdb-chain H L-chain B\n",
      "./Abs/7nx6.pdb-chain H L-chain E\n"
     ]
    },
    {
     "name": "stderr",
     "output_type": "stream",
     "text": [
      "@> 3560 atoms and 1 coordinate set(s) were parsed in 0.04s.\n",
      "@> 6998 atoms and 1 coordinate set(s) were parsed in 0.06s.\n"
     ]
    },
    {
     "name": "stdout",
     "output_type": "stream",
     "text": [
      "./Abs/7deu.pdb-chain B-chain A\n",
      "./Abs/7det.pdb-chain B-chain A\n"
     ]
    },
    {
     "name": "stderr",
     "output_type": "stream",
     "text": [
      "@> 7104 atoms and 1 coordinate set(s) were parsed in 0.07s.\n",
      "@> 9677 atoms and 1 coordinate set(s) were parsed in 0.08s.\n"
     ]
    },
    {
     "name": "stdout",
     "output_type": "stream",
     "text": [
      "./Abs/7deo.pdb-chain A-chain B\n",
      "./Abs/7ean.pdb-chain H L-chain A\n"
     ]
    },
    {
     "name": "stderr",
     "output_type": "stream",
     "text": [
      "@> 11084 atoms and 1 coordinate set(s) were parsed in 0.09s.\n"
     ]
    },
    {
     "name": "stdout",
     "output_type": "stream",
     "text": [
      "./Abs/7eam.pdb-chain H L-chain A\n",
      "./Abs/7r8n.pdb-chain H L-chain A\n"
     ]
    },
    {
     "name": "stderr",
     "output_type": "stream",
     "text": [
      "@> 29719 atoms and 1 coordinate set(s) were parsed in 0.26s.\n"
     ]
    },
    {
     "name": "stdout",
     "output_type": "stream",
     "text": [
      "./Abs/7r8o.pdb-chain H L-chain B\n"
     ]
    },
    {
     "name": "stderr",
     "output_type": "stream",
     "text": [
      "@> 29952 atoms and 1 coordinate set(s) were parsed in 0.29s.\n"
     ]
    },
    {
     "name": "stdout",
     "output_type": "stream",
     "text": [
      "./Abs/7r8m.pdb-chain E D-chain C\n"
     ]
    },
    {
     "name": "stderr",
     "output_type": "stream",
     "text": [
      "@> 26323 atoms and 1 coordinate set(s) were parsed in 0.23s.\n",
      "@> 5244 atoms and 1 coordinate set(s) were parsed in 0.05s.\n",
      "@> 8251 atoms and 1 coordinate set(s) were parsed in 0.07s.\n"
     ]
    },
    {
     "name": "stdout",
     "output_type": "stream",
     "text": [
      "./Abs/7n3i.pdb-chain H L-chain C\n",
      "./Abs/7r8l.pdb-chain H L-chain E\n"
     ]
    },
    {
     "name": "stderr",
     "output_type": "stream",
     "text": [
      "@> 5041 atoms and 1 coordinate set(s) were parsed in 0.05s.\n",
      "@> 4883 atoms and 1 coordinate set(s) were parsed in 0.04s.\n"
     ]
    },
    {
     "name": "stdout",
     "output_type": "stream",
     "text": [
      "./Abs/7bei.pdb-chain H L-chain E\n",
      "./Abs/7bej.pdb-chain H L-chain E\n"
     ]
    },
    {
     "name": "stderr",
     "output_type": "stream",
     "text": [
      "@> 13534 atoms and 1 coordinate set(s) were parsed in 0.12s.\n"
     ]
    },
    {
     "name": "stdout",
     "output_type": "stream",
     "text": [
      "./Abs/7bel.pdb-chain B A-chain R\n",
      "./Abs/7nd4.pdb-chain H L-chain C\n"
     ]
    },
    {
     "name": "stderr",
     "output_type": "stream",
     "text": [
      "@> 29848 atoms and 1 coordinate set(s) were parsed in 0.27s.\n"
     ]
    },
    {
     "name": "stdout",
     "output_type": "stream",
     "text": [
      "./Abs/7nda.pdb-chain H L-chain C A\n"
     ]
    },
    {
     "name": "stderr",
     "output_type": "stream",
     "text": [
      "@> 27721 atoms and 1 coordinate set(s) were parsed in 0.26s.\n",
      "@> 16280 atoms and 1 coordinate set(s) were parsed in 0.14s.\n"
     ]
    },
    {
     "name": "stdout",
     "output_type": "stream",
     "text": [
      "./Abs/7beo.pdb-chain B A-chain R\n",
      "./Abs/7nd8.pdb-chain H L-chain B\n"
     ]
    },
    {
     "name": "stderr",
     "output_type": "stream",
     "text": [
      "@> 27659 atoms and 1 coordinate set(s) were parsed in 0.25s.\n"
     ]
    },
    {
     "name": "stdout",
     "output_type": "stream",
     "text": [
      "./Abs/7nd7.pdb-chain H L-chain A\n"
     ]
    },
    {
     "name": "stderr",
     "output_type": "stream",
     "text": [
      "@> 29591 atoms and 1 coordinate set(s) were parsed in 0.26s.\n",
      "@> 16420 atoms and 1 coordinate set(s) were parsed in 0.14s.\n"
     ]
    },
    {
     "name": "stdout",
     "output_type": "stream",
     "text": [
      "./Abs/7ben.pdb-chain H L-chain E\n",
      "./Abs/7bem.pdb-chain H L-chain E\n"
     ]
    },
    {
     "name": "stderr",
     "output_type": "stream",
     "text": [
      "@> 3318 atoms and 1 coordinate set(s) were parsed in 0.04s.\n"
     ]
    },
    {
     "name": "stdout",
     "output_type": "stream",
     "text": [
      "./Abs/7nd6.pdb-chain H L-chain B\n"
     ]
    },
    {
     "name": "stderr",
     "output_type": "stream",
     "text": [
      "@> 26732 atoms and 1 coordinate set(s) were parsed in 0.24s.\n"
     ]
    },
    {
     "name": "stdout",
     "output_type": "stream",
     "text": [
      "./Abs/7ndb.pdb-chain H L-chain B\n"
     ]
    },
    {
     "name": "stderr",
     "output_type": "stream",
     "text": [
      "@> 27184 atoms and 1 coordinate set(s) were parsed in 0.25s.\n"
     ]
    },
    {
     "name": "stdout",
     "output_type": "stream",
     "text": [
      "./Abs/7ndc.pdb-chain E D-chain C\n"
     ]
    },
    {
     "name": "stderr",
     "output_type": "stream",
     "text": [
      "@> 30645 atoms and 1 coordinate set(s) were parsed in 0.27s.\n",
      "@> 4912 atoms and 1 coordinate set(s) were parsed in 0.05s.\n"
     ]
    },
    {
     "name": "stdout",
     "output_type": "stream",
     "text": [
      "./Abs/7lrs.pdb-chain E D-chain C\n",
      "./Abs/7dpm.pdb-chain B A-chain C\n"
     ]
    },
    {
     "name": "stderr",
     "output_type": "stream",
     "text": [
      "@> 19571 atoms and 1 coordinate set(s) were parsed in 0.18s.\n"
     ]
    },
    {
     "name": "stdout",
     "output_type": "stream",
     "text": [
      "./Abs/7kxj.pdb-chain H L-chain A\n"
     ]
    },
    {
     "name": "stderr",
     "output_type": "stream",
     "text": [
      "@> 34083 atoms and 1 coordinate set(s) were parsed in 0.30s.\n",
      "@> 5278 atoms and 1 coordinate set(s) were parsed in 0.05s.\n",
      "@> 4910 atoms and 1 coordinate set(s) were parsed in 0.04s.\n"
     ]
    },
    {
     "name": "stdout",
     "output_type": "stream",
     "text": [
      "./Abs/7kmi.pdb-chain B A-chain C\n",
      "./Abs/7kmh.pdb-chain B A-chain C\n"
     ]
    },
    {
     "name": "stderr",
     "output_type": "stream",
     "text": [
      "@> 6915 atoms and 1 coordinate set(s) were parsed in 0.06s.\n",
      "@> 4788 atoms and 1 coordinate set(s) were parsed in 0.04s.\n"
     ]
    },
    {
     "name": "stdout",
     "output_type": "stream",
     "text": [
      "./Abs/7m8j.pdb-chain H L-chain A\n",
      "./Abs/7mjl.pdb-chain H L-chain A\n",
      "./Abs/7ks9.pdb-chain H L-chain B\n"
     ]
    },
    {
     "name": "stderr",
     "output_type": "stream",
     "text": [
      "@> 25355 atoms and 1 coordinate set(s) were parsed in 0.21s.\n"
     ]
    },
    {
     "name": "stdout",
     "output_type": "stream",
     "text": [
      "./Abs/7ljr.pdb-chain T S-chain A\n"
     ]
    },
    {
     "name": "stderr",
     "output_type": "stream",
     "text": [
      "@> 26291 atoms and 1 coordinate set(s) were parsed in 0.22s.\n"
     ]
    },
    {
     "name": "stdout",
     "output_type": "stream",
     "text": [
      "./Abs/7laa.pdb-chain H L-chain A\n"
     ]
    },
    {
     "name": "stderr",
     "output_type": "stream",
     "text": [
      "@> 46691 atoms and 1 coordinate set(s) were parsed in 0.38s.\n"
     ]
    },
    {
     "name": "stdout",
     "output_type": "stream",
     "text": [
      "./Abs/7ld1.pdb-chain M N-chain C\n"
     ]
    },
    {
     "name": "stderr",
     "output_type": "stream",
     "text": [
      "@> 29456 atoms and 1 coordinate set(s) were parsed in 0.24s.\n",
      "@> 7102 atoms and 1 coordinate set(s) were parsed in 0.06s.\n",
      "@> 7102 atoms and 1 coordinate set(s) were parsed in 0.06s.\n"
     ]
    },
    {
     "name": "stdout",
     "output_type": "stream",
     "text": [
      "./Abs/7kzb_1.pdb-chain H L-chain C\n",
      "./Abs/7kzb_2.pdb-chain B A-chain C\n"
     ]
    },
    {
     "name": "stderr",
     "output_type": "stream",
     "text": [
      "@> 9536 atoms and 1 coordinate set(s) were parsed in 0.08s.\n"
     ]
    },
    {
     "name": "stdout",
     "output_type": "stream",
     "text": [
      "./Abs/7b3o.pdb-chain H L-chain E\n",
      "./Abs/7cwm.pdb-chain G J-chain B\n"
     ]
    },
    {
     "name": "stderr",
     "output_type": "stream",
     "text": [
      "@> 30760 atoms and 1 coordinate set(s) were parsed in 0.26s.\n"
     ]
    },
    {
     "name": "stdout",
     "output_type": "stream",
     "text": [
      "./Abs/7dd2.pdb-chain E H-chain K\n"
     ]
    },
    {
     "name": "stderr",
     "output_type": "stream",
     "text": [
      "@> 31623 atoms and 1 coordinate set(s) were parsed in 0.26s.\n"
     ]
    },
    {
     "name": "stdout",
     "output_type": "stream",
     "text": [
      "./Abs/7dk5.pdb-chain a b-chain A\n"
     ]
    },
    {
     "name": "stderr",
     "output_type": "stream",
     "text": [
      "@> 28144 atoms and 1 coordinate set(s) were parsed in 0.22s.\n"
     ]
    },
    {
     "name": "stdout",
     "output_type": "stream",
     "text": [
      "./Abs/7cyp.pdb-chain E D-chain A\n"
     ]
    },
    {
     "name": "stderr",
     "output_type": "stream",
     "text": [
      "@> 29979 atoms and 1 coordinate set(s) were parsed in 0.27s.\n",
      "@> 4770 atoms and 1 coordinate set(s) were parsed in 0.04s.\n",
      "@> 4715 atoms and 1 coordinate set(s) were parsed in 0.04s.\n"
     ]
    },
    {
     "name": "stdout",
     "output_type": "stream",
     "text": [
      "./Abs/7cdj.pdb-chain H L-chain E\n",
      "./Abs/7cdi.pdb-chain H L-chain E\n",
      "./Abs/7kfv.pdb-chain C D-chain B\n"
     ]
    },
    {
     "name": "stderr",
     "output_type": "stream",
     "text": [
      "@> 16121 atoms and 1 coordinate set(s) were parsed in 0.15s.\n",
      "@> 14854 atoms and 1 coordinate set(s) were parsed in 0.12s.\n"
     ]
    },
    {
     "name": "stdout",
     "output_type": "stream",
     "text": [
      "./Abs/7kfw.pdb-chain C D-chain B\n",
      "./Abs/7kfx.pdb-chain H L-chain A\n"
     ]
    },
    {
     "name": "stderr",
     "output_type": "stream",
     "text": [
      "@> 5191 atoms and 1 coordinate set(s) were parsed in 0.04s.\n",
      "@> 5382 atoms and 1 coordinate set(s) were parsed in 0.05s.\n",
      "@> 5398 atoms and 1 coordinate set(s) were parsed in 0.05s.\n"
     ]
    },
    {
     "name": "stdout",
     "output_type": "stream",
     "text": [
      "./Abs/7kfy.pdb-chain H L-chain A\n",
      "./Abs/7cjf.pdb-chain B A-chain C\n"
     ]
    },
    {
     "name": "stderr",
     "output_type": "stream",
     "text": [
      "@> 3038 atoms and 1 coordinate set(s) were parsed in 0.03s.\n"
     ]
    },
    {
     "name": "stdout",
     "output_type": "stream",
     "text": [
      "./Abs/7k45.pdb-chain H L-chain B\n",
      "./Abs/7k43.pdb-chain H L-chain A\n"
     ]
    },
    {
     "name": "stderr",
     "output_type": "stream",
     "text": [
      "@> 30390 atoms and 1 coordinate set(s) were parsed in 0.27s.\n",
      "@> 9569 atoms and 1 coordinate set(s) were parsed in 0.08s.\n",
      "@> 4985 atoms and 1 coordinate set(s) were parsed in 0.05s.\n"
     ]
    },
    {
     "name": "stdout",
     "output_type": "stream",
     "text": [
      "./Abs/7kmg.pdb-chain B A-chain C\n",
      "./Abs/7cm4.pdb-chain H L-chain A\n"
     ]
    },
    {
     "name": "stderr",
     "output_type": "stream",
     "text": [
      "@> 8055 atoms and 1 coordinate set(s) were parsed in 0.07s.\n"
     ]
    },
    {
     "name": "stdout",
     "output_type": "stream",
     "text": [
      "./Abs/7k9z.pdb-chain H L-chain E\n",
      "./Abs/7k9z.pdb-chain H L-chain E\n"
     ]
    },
    {
     "name": "stderr",
     "output_type": "stream",
     "text": [
      "@> 8055 atoms and 1 coordinate set(s) were parsed in 0.07s.\n"
     ]
    },
    {
     "name": "stdout",
     "output_type": "stream",
     "text": [
      "./Abs/7czp.pdb-chain H L-chain A\n"
     ]
    },
    {
     "name": "stderr",
     "output_type": "stream",
     "text": [
      "@> 30946 atoms and 1 coordinate set(s) were parsed in 0.28s.\n"
     ]
    },
    {
     "name": "stdout",
     "output_type": "stream",
     "text": [
      "./Abs/7czq.pdb-chain H K-chain A\n"
     ]
    },
    {
     "name": "stderr",
     "output_type": "stream",
     "text": [
      "@> 31016 atoms and 1 coordinate set(s) were parsed in 0.28s.\n"
     ]
    },
    {
     "name": "stdout",
     "output_type": "stream",
     "text": [
      "./Abs/7d0c.pdb-chain H L-chain A\n"
     ]
    },
    {
     "name": "stderr",
     "output_type": "stream",
     "text": [
      "@> 30966 atoms and 1 coordinate set(s) were parsed in 0.25s.\n"
     ]
    },
    {
     "name": "stdout",
     "output_type": "stream",
     "text": [
      "./Abs/7d00.pdb-chain H K-chain A\n"
     ]
    },
    {
     "name": "stderr",
     "output_type": "stream",
     "text": [
      "@> 30886 atoms and 1 coordinate set(s) were parsed in 0.26s.\n"
     ]
    },
    {
     "name": "stdout",
     "output_type": "stream",
     "text": [
      "./Abs/7czt.pdb-chain H L-chain A\n"
     ]
    },
    {
     "name": "stderr",
     "output_type": "stream",
     "text": [
      "@> 31060 atoms and 1 coordinate set(s) were parsed in 0.27s.\n"
     ]
    },
    {
     "name": "stdout",
     "output_type": "stream",
     "text": [
      "./Abs/7czu.pdb-chain N J-chain C\n"
     ]
    },
    {
     "name": "stderr",
     "output_type": "stream",
     "text": [
      "@> 31120 atoms and 1 coordinate set(s) were parsed in 0.29s.\n"
     ]
    },
    {
     "name": "stdout",
     "output_type": "stream",
     "text": [
      "./Abs/7czw.pdb-chain H L-chain A\n"
     ]
    },
    {
     "name": "stderr",
     "output_type": "stream",
     "text": [
      "@> 31004 atoms and 1 coordinate set(s) were parsed in 0.29s.\n"
     ]
    },
    {
     "name": "stdout",
     "output_type": "stream",
     "text": [
      "./Abs/7czx.pdb-chain H K-chain A\n"
     ]
    },
    {
     "name": "stderr",
     "output_type": "stream",
     "text": [
      "@> 34879 atoms and 1 coordinate set(s) were parsed in 0.31s.\n"
     ]
    },
    {
     "name": "stdout",
     "output_type": "stream",
     "text": [
      "./Abs/7czy.pdb-chain H K-chain A\n"
     ]
    },
    {
     "name": "stderr",
     "output_type": "stream",
     "text": [
      "@> 31186 atoms and 1 coordinate set(s) were parsed in 0.27s.\n"
     ]
    },
    {
     "name": "stdout",
     "output_type": "stream",
     "text": [
      "./Abs/7d0b.pdb-chain H L-chain A\n"
     ]
    },
    {
     "name": "stderr",
     "output_type": "stream",
     "text": [
      "@> 26065 atoms and 1 coordinate set(s) were parsed in 0.25s.\n",
      "@> 11518 atoms and 1 coordinate set(s) were parsed in 0.10s.\n",
      "@> 2151 atoms and 1 coordinate set(s) were parsed in 0.02s.\n"
     ]
    },
    {
     "name": "stdout",
     "output_type": "stream",
     "text": [
      "./Abs/7jx3.pdb-chain B A-chain R\n",
      "./Abs/7jv2.pdb-chain H L-chain A\n"
     ]
    },
    {
     "name": "stderr",
     "output_type": "stream",
     "text": [
      "@> 8911 atoms and 1 coordinate set(s) were parsed in 0.08s.\n",
      "@> 3248 atoms and 1 coordinate set(s) were parsed in 0.03s.\n"
     ]
    },
    {
     "name": "stdout",
     "output_type": "stream",
     "text": [
      "./Abs/7r6w.pdb-chain H L-chain R\n",
      "./Abs/7jva.pdb-chain H L-chain A\n"
     ]
    },
    {
     "name": "stderr",
     "output_type": "stream",
     "text": [
      "@> 17650 atoms and 1 coordinate set(s) were parsed in 0.16s.\n"
     ]
    },
    {
     "name": "stdout",
     "output_type": "stream",
     "text": [
      "./Abs/7lop.pdb-chain W V-chain Z\n"
     ]
    },
    {
     "name": "stderr",
     "output_type": "stream",
     "text": [
      "@> 4525 atoms and 1 coordinate set(s) were parsed in 0.04s.\n",
      "@> 9239 atoms and 1 coordinate set(s) were parsed in 0.09s.\n"
     ]
    },
    {
     "name": "stdout",
     "output_type": "stream",
     "text": [
      "./Abs/6xkq.pdb-chain H L-chain A\n",
      "./Abs/6xkp.pdb-chain H L-chain A\n"
     ]
    },
    {
     "name": "stderr",
     "output_type": "stream",
     "text": [
      "@> 5541 atoms and 1 coordinate set(s) were parsed in 0.06s.\n"
     ]
    },
    {
     "name": "stdout",
     "output_type": "stream",
     "text": [
      "./Abs/7lm9.pdb-chain H L-chain A\n",
      "./Abs/7cai.pdb-chain E D-chain A\n"
     ]
    },
    {
     "name": "stderr",
     "output_type": "stream",
     "text": [
      "@> 31254 atoms and 1 coordinate set(s) were parsed in 0.30s.\n",
      "@> 4893 atoms and 1 coordinate set(s) were parsed in 0.05s.\n"
     ]
    },
    {
     "name": "stdout",
     "output_type": "stream",
     "text": [
      "./Abs/7chb.pdb-chain H L-chain R\n",
      "./Abs/7chh.pdb-chain E D-chain A\n"
     ]
    },
    {
     "name": "stderr",
     "output_type": "stream",
     "text": [
      "@> 29029 atoms and 1 coordinate set(s) were parsed in 0.27s.\n",
      "@> 4729 atoms and 1 coordinate set(s) were parsed in 0.05s.\n",
      "@> 4687 atoms and 1 coordinate set(s) were parsed in 0.05s.\n"
     ]
    },
    {
     "name": "stdout",
     "output_type": "stream",
     "text": [
      "./Abs/7ch4.pdb-chain H L-chain R\n",
      "./Abs/7ch5.pdb-chain H L-chain R\n"
     ]
    },
    {
     "name": "stderr",
     "output_type": "stream",
     "text": [
      "@> 7998 atoms and 1 coordinate set(s) were parsed in 0.08s.\n"
     ]
    },
    {
     "name": "stdout",
     "output_type": "stream",
     "text": [
      "./Abs/6xdg.pdb-chain B D-chain E\n",
      "./Abs/6xdg.pdb-chain B D-chain E\n"
     ]
    },
    {
     "name": "stderr",
     "output_type": "stream",
     "text": [
      "@> 7998 atoms and 1 coordinate set(s) were parsed in 0.08s.\n",
      "@> 9670 atoms and 1 coordinate set(s) were parsed in 0.09s.\n",
      "@> 5839 atoms and 1 coordinate set(s) were parsed in 0.06s.\n"
     ]
    },
    {
     "name": "stdout",
     "output_type": "stream",
     "text": [
      "./Abs/7c01.pdb-chain H L-chain A\n",
      "./Abs/6zcz.pdb-chain H L-chain E\n",
      "./Abs/7ls9.pdb-chain H L-chain A\n"
     ]
    },
    {
     "name": "stderr",
     "output_type": "stream",
     "text": [
      "@> 32226 atoms and 1 coordinate set(s) were parsed in 0.31s.\n"
     ]
    },
    {
     "name": "stdout",
     "output_type": "stream",
     "text": [
      "./Abs/6xey.pdb-chain G F-chain B\n"
     ]
    },
    {
     "name": "stderr",
     "output_type": "stream",
     "text": [
      "@> 28482 atoms and 1 coordinate set(s) were parsed in 0.25s.\n",
      "@> 20582 atoms and 1 coordinate set(s) were parsed in 0.19s.\n"
     ]
    },
    {
     "name": "stdout",
     "output_type": "stream",
     "text": [
      "./Abs/7lss.pdb-chain H L-chain B\n"
     ]
    },
    {
     "name": "stderr",
     "output_type": "stream",
     "text": [
      "@> 4569 atoms and 1 coordinate set(s) were parsed in 0.04s.\n"
     ]
    },
    {
     "name": "stdout",
     "output_type": "stream",
     "text": [
      "./Abs/7l5b.pdb-chain H L-chain A\n",
      "./Abs/7l56.pdb-chain G F-chain C\n"
     ]
    },
    {
     "name": "stderr",
     "output_type": "stream",
     "text": [
      "@> 26583 atoms and 1 coordinate set(s) were parsed in 0.23s.\n"
     ]
    },
    {
     "name": "stdout",
     "output_type": "stream",
     "text": [
      "./Abs/7byr.pdb-chain H L-chain B\n"
     ]
    },
    {
     "name": "stderr",
     "output_type": "stream",
     "text": [
      "@> 24497 atoms and 1 coordinate set(s) were parsed in 0.22s.\n",
      "@> 4698 atoms and 1 coordinate set(s) were parsed in 0.05s.\n"
     ]
    },
    {
     "name": "stdout",
     "output_type": "stream",
     "text": [
      "./Abs/7e86.pdb-chain B A-chain C\n",
      "./Abs/7e88.pdb-chain B A-chain C\n"
     ]
    },
    {
     "name": "stderr",
     "output_type": "stream",
     "text": [
      "@> 18863 atoms and 1 coordinate set(s) were parsed in 0.17s.\n",
      "@> 4820 atoms and 1 coordinate set(s) were parsed in 0.05s.\n",
      "@> 4873 atoms and 1 coordinate set(s) were parsed in 0.05s.\n"
     ]
    },
    {
     "name": "stdout",
     "output_type": "stream",
     "text": [
      "./Abs/7bwj.pdb-chain H L-chain E\n",
      "./Abs/7jmw.pdb-chain H L-chain A\n"
     ]
    },
    {
     "name": "stderr",
     "output_type": "stream",
     "text": [
      "@> 4904 atoms and 1 coordinate set(s) were parsed in 0.05s.\n",
      "@> 4907 atoms and 1 coordinate set(s) were parsed in 0.05s.\n"
     ]
    },
    {
     "name": "stdout",
     "output_type": "stream",
     "text": [
      "./Abs/7jmo.pdb-chain H L-chain A\n",
      "./Abs/7jmp.pdb-chain H L-chain A\n",
      "./Abs/7k8s.pdb-chain H L-chain A\n"
     ]
    },
    {
     "name": "stderr",
     "output_type": "stream",
     "text": [
      "@> 29649 atoms and 1 coordinate set(s) were parsed in 0.28s.\n",
      "@> 4730 atoms and 1 coordinate set(s) were parsed in 0.04s.\n"
     ]
    },
    {
     "name": "stdout",
     "output_type": "stream",
     "text": [
      "./Abs/7k8m.pdb-chain B A-chain E\n",
      "./Abs/7k8w.pdb-chain H L-chain A\n"
     ]
    },
    {
     "name": "stderr",
     "output_type": "stream",
     "text": [
      "@> 26487 atoms and 1 coordinate set(s) were parsed in 0.24s.\n"
     ]
    },
    {
     "name": "stdout",
     "output_type": "stream",
     "text": [
      "./Abs/7k8x.pdb-chain F D-chain B C\n"
     ]
    },
    {
     "name": "stderr",
     "output_type": "stream",
     "text": [
      "@> 27399 atoms and 1 coordinate set(s) were parsed in 0.24s.\n"
     ]
    },
    {
     "name": "stdout",
     "output_type": "stream",
     "text": [
      "./Abs/7k90.pdb-chain H L-chain B\n"
     ]
    },
    {
     "name": "stderr",
     "output_type": "stream",
     "text": [
      "@> 28863 atoms and 1 coordinate set(s) were parsed in 0.24s.\n",
      "@> 9584 atoms and 1 coordinate set(s) were parsed in 0.09s.\n"
     ]
    },
    {
     "name": "stdout",
     "output_type": "stream",
     "text": [
      "./Abs/6xc2.pdb-chain H L-chain A\n",
      "./Abs/6xc4.pdb-chain H L-chain A\n"
     ]
    },
    {
     "name": "stderr",
     "output_type": "stream",
     "text": [
      "@> 10309 atoms and 1 coordinate set(s) were parsed in 0.10s.\n",
      "@> 4897 atoms and 1 coordinate set(s) were parsed in 0.05s.\n",
      "@> 5320 atoms and 1 coordinate set(s) were parsed in 0.05s.\n"
     ]
    },
    {
     "name": "stdout",
     "output_type": "stream",
     "text": [
      "./Abs/6xe1.pdb-chain H L-chain E\n",
      "./Abs/7bz5.pdb-chain H L-chain A\n"
     ]
    },
    {
     "name": "stderr",
     "output_type": "stream",
     "text": [
      "@> 18103 atoms and 1 coordinate set(s) were parsed in 0.16s.\n"
     ]
    },
    {
     "name": "stdout",
     "output_type": "stream",
     "text": [
      "./Abs/7l58.pdb-chain H L-chain B\n"
     ]
    },
    {
     "name": "stderr",
     "output_type": "stream",
     "text": [
      "@> 4936 atoms and 1 coordinate set(s) were parsed in 0.05s.\n"
     ]
    },
    {
     "name": "stdout",
     "output_type": "stream",
     "text": [
      "./Abs/6w41.pdb-chain H L-chain C\n",
      "./Abs/7akd.pdb-chain E D-chain C\n"
     ]
    },
    {
     "name": "stderr",
     "output_type": "stream",
     "text": [
      "@> 27358 atoms and 1 coordinate set(s) were parsed in 0.25s.\n"
     ]
    },
    {
     "name": "stdout",
     "output_type": "stream",
     "text": [
      "./Abs/7jw0.pdb-chain H L-chain A\n"
     ]
    },
    {
     "name": "stderr",
     "output_type": "stream",
     "text": [
      "@> 26251 atoms and 1 coordinate set(s) were parsed in 0.23s.\n"
     ]
    },
    {
     "name": "stdout",
     "output_type": "stream",
     "text": [
      "./Abs/6wps.pdb-chain H L-chain A\n"
     ]
    },
    {
     "name": "stderr",
     "output_type": "stream",
     "text": [
      "@> 28116 atoms and 1 coordinate set(s) were parsed in 0.24s.\n"
     ]
    }
   ],
   "source": [
    "epitopes = []\n",
    "pdbs=[]\n",
    "names=[]\n",
    "for idx,row in seq_data.iterrows():\n",
    "    pdb = row['pdb']\n",
    "    name = row['Name']\n",
    "    for pdb_i in pdb.split(\";\"):\n",
    "        filename = os.path.join(\"./Abs\",f\"{pdb_i.lower()}.pdb\")\n",
    "        if not os.path.exists(filename):\n",
    "            print(f\"{pdb_i} does not exist, next\")\n",
    "            continue\n",
    "        f_txt = open(filename)\n",
    "        annotation=\"\"\n",
    "        while(True):\n",
    "            annotation = next(f_txt)\n",
    "            if \"HCHAIN\" in annotation:\n",
    "                annotations = annotation.split(\" \")\n",
    "                break\n",
    "        Ab_chains=set()\n",
    "        Ag_chain=\"\"\n",
    "        for item in annotations:\n",
    "            if item.startswith(\"HCHAIN\") or item.startswith(\"LCHAIN\"):\n",
    "                chid = item.split(\"=\")[1]\n",
    "                if chid!=\"NONE\":\n",
    "                    Ab_chains.add(chid)\n",
    "            if item.startswith(\"AGCHAIN\"):\n",
    "                chid = item.split(\"=\")[1]\n",
    "                if chid!=\"NONE\":\n",
    "                    Ag_chain = chid.replace(\";\",\" \")\n",
    "        if len(Ab_chains)==0 or Ag_chain==\"\":\n",
    "            continue\n",
    "        Ab_chains = f'chain {\" \".join(Ab_chains)}'\n",
    "        Ag_chain = f'chain {Ag_chain}'\n",
    "        print(f'{filename}-{Ab_chains}-{Ag_chain}')\n",
    "        struct = prody.parsePDB(filename)\n",
    "        Ab_struct = struct.select(Ab_chains).copy()\n",
    "        Ag_struct = struct.select(Ag_chain).copy()\n",
    "        epitope_map = Epitope(Ab_struct,Ag_struct)\n",
    "        epitopes.append(epitope_map)\n",
    "        pdbs.append(pdb_i)\n",
    "        names.append(name)\n",
    "        break"
   ]
  },
  {
   "cell_type": "code",
   "execution_count": 53,
   "metadata": {},
   "outputs": [
    {
     "ename": "NameError",
     "evalue": "name 'epitopes' is not defined",
     "output_type": "error",
     "traceback": [
      "\u001b[0;31m---------------------------------------------------------------------------\u001b[0m",
      "\u001b[0;31mNameError\u001b[0m                                 Traceback (most recent call last)",
      "\u001b[0;32m<ipython-input-53-14f6e8b6055a>\u001b[0m in \u001b[0;36m<module>\u001b[0;34m\u001b[0m\n\u001b[0;32m----> 1\u001b[0;31m \u001b[0mepitopes_arr\u001b[0m \u001b[0;34m=\u001b[0m \u001b[0mnp\u001b[0m\u001b[0;34m.\u001b[0m\u001b[0marray\u001b[0m\u001b[0;34m(\u001b[0m\u001b[0mepitopes\u001b[0m\u001b[0;34m)\u001b[0m\u001b[0;34m\u001b[0m\u001b[0;34m\u001b[0m\u001b[0m\n\u001b[0m\u001b[1;32m      2\u001b[0m \u001b[0mepitopes_arr\u001b[0m \u001b[0;34m=\u001b[0m \u001b[0mpd\u001b[0m\u001b[0;34m.\u001b[0m\u001b[0mDataFrame\u001b[0m\u001b[0;34m(\u001b[0m\u001b[0mepitopes\u001b[0m\u001b[0;34m,\u001b[0m\u001b[0mindex\u001b[0m\u001b[0;34m=\u001b[0m\u001b[0mnames\u001b[0m\u001b[0;34m,\u001b[0m\u001b[0mcolumns\u001b[0m\u001b[0;34m=\u001b[0m\u001b[0mnp\u001b[0m\u001b[0;34m.\u001b[0m\u001b[0marange\u001b[0m\u001b[0;34m(\u001b[0m\u001b[0;36m319\u001b[0m\u001b[0;34m,\u001b[0m\u001b[0;36m542\u001b[0m\u001b[0;34m)\u001b[0m\u001b[0;34m)\u001b[0m\u001b[0;34m\u001b[0m\u001b[0;34m\u001b[0m\u001b[0m\n\u001b[1;32m      3\u001b[0m \u001b[0mepitope_info\u001b[0m \u001b[0;34m=\u001b[0m \u001b[0mpd\u001b[0m\u001b[0;34m.\u001b[0m\u001b[0mDataFrame\u001b[0m\u001b[0;34m(\u001b[0m\u001b[0mpdbs\u001b[0m\u001b[0;34m,\u001b[0m\u001b[0mindex\u001b[0m\u001b[0;34m=\u001b[0m\u001b[0mnames\u001b[0m\u001b[0;34m)\u001b[0m\u001b[0;34m\u001b[0m\u001b[0;34m\u001b[0m\u001b[0m\n",
      "\u001b[0;31mNameError\u001b[0m: name 'epitopes' is not defined"
     ]
    }
   ],
   "source": [
    "epitopes_arr = np.array(epitopes)\n",
    "epitopes_arr = pd.DataFrame(epitopes,index=names,columns=np.arange(319,542))\n",
    "epitope_info = pd.DataFrame(pdbs,index=names)"
   ]
  },
  {
   "cell_type": "code",
   "execution_count": 23,
   "metadata": {},
   "outputs": [],
   "source": [
    "epitopes_arr = epitopes_arr[epitopes_arr.sum(1)!=0].copy()"
   ]
  },
  {
   "cell_type": "code",
   "execution_count": 16,
   "metadata": {},
   "outputs": [
    {
     "data": {
      "text/html": [
       "<div>\n",
       "<style scoped>\n",
       "    .dataframe tbody tr th:only-of-type {\n",
       "        vertical-align: middle;\n",
       "    }\n",
       "\n",
       "    .dataframe tbody tr th {\n",
       "        vertical-align: top;\n",
       "    }\n",
       "\n",
       "    .dataframe thead th {\n",
       "        text-align: right;\n",
       "    }\n",
       "</style>\n",
       "<table border=\"1\" class=\"dataframe\">\n",
       "  <thead>\n",
       "    <tr style=\"text-align: right;\">\n",
       "      <th></th>\n",
       "      <th>333</th>\n",
       "      <th>334</th>\n",
       "      <th>335</th>\n",
       "      <th>336</th>\n",
       "      <th>337</th>\n",
       "      <th>338</th>\n",
       "      <th>339</th>\n",
       "      <th>340</th>\n",
       "      <th>341</th>\n",
       "      <th>342</th>\n",
       "      <th>...</th>\n",
       "      <th>360</th>\n",
       "      <th>361</th>\n",
       "      <th>362</th>\n",
       "      <th>363</th>\n",
       "      <th>364</th>\n",
       "      <th>365</th>\n",
       "      <th>366</th>\n",
       "      <th>367</th>\n",
       "      <th>368</th>\n",
       "      <th>369</th>\n",
       "    </tr>\n",
       "    <tr>\n",
       "      <th>index</th>\n",
       "      <th></th>\n",
       "      <th></th>\n",
       "      <th></th>\n",
       "      <th></th>\n",
       "      <th></th>\n",
       "      <th></th>\n",
       "      <th></th>\n",
       "      <th></th>\n",
       "      <th></th>\n",
       "      <th></th>\n",
       "      <th></th>\n",
       "      <th></th>\n",
       "      <th></th>\n",
       "      <th></th>\n",
       "      <th></th>\n",
       "      <th></th>\n",
       "      <th></th>\n",
       "      <th></th>\n",
       "      <th></th>\n",
       "      <th></th>\n",
       "      <th></th>\n",
       "    </tr>\n",
       "  </thead>\n",
       "  <tbody>\n",
       "    <tr>\n",
       "      <th>2B11</th>\n",
       "      <td>0</td>\n",
       "      <td>0</td>\n",
       "      <td>0</td>\n",
       "      <td>0</td>\n",
       "      <td>0</td>\n",
       "      <td>0</td>\n",
       "      <td>0</td>\n",
       "      <td>0</td>\n",
       "      <td>0</td>\n",
       "      <td>0</td>\n",
       "      <td>...</td>\n",
       "      <td>0</td>\n",
       "      <td>0</td>\n",
       "      <td>0</td>\n",
       "      <td>0</td>\n",
       "      <td>0</td>\n",
       "      <td>0</td>\n",
       "      <td>0</td>\n",
       "      <td>0</td>\n",
       "      <td>0</td>\n",
       "      <td>0</td>\n",
       "    </tr>\n",
       "    <tr>\n",
       "      <th>2H2</th>\n",
       "      <td>0</td>\n",
       "      <td>0</td>\n",
       "      <td>0</td>\n",
       "      <td>0</td>\n",
       "      <td>0</td>\n",
       "      <td>0</td>\n",
       "      <td>0</td>\n",
       "      <td>0</td>\n",
       "      <td>0</td>\n",
       "      <td>0</td>\n",
       "      <td>...</td>\n",
       "      <td>0</td>\n",
       "      <td>0</td>\n",
       "      <td>0</td>\n",
       "      <td>0</td>\n",
       "      <td>0</td>\n",
       "      <td>0</td>\n",
       "      <td>0</td>\n",
       "      <td>0</td>\n",
       "      <td>0</td>\n",
       "      <td>0</td>\n",
       "    </tr>\n",
       "    <tr>\n",
       "      <th>3C1</th>\n",
       "      <td>0</td>\n",
       "      <td>0</td>\n",
       "      <td>0</td>\n",
       "      <td>0</td>\n",
       "      <td>0</td>\n",
       "      <td>0</td>\n",
       "      <td>0</td>\n",
       "      <td>0</td>\n",
       "      <td>0</td>\n",
       "      <td>0</td>\n",
       "      <td>...</td>\n",
       "      <td>0</td>\n",
       "      <td>0</td>\n",
       "      <td>0</td>\n",
       "      <td>0</td>\n",
       "      <td>0</td>\n",
       "      <td>0</td>\n",
       "      <td>0</td>\n",
       "      <td>0</td>\n",
       "      <td>0</td>\n",
       "      <td>2</td>\n",
       "    </tr>\n",
       "    <tr>\n",
       "      <th>47D11</th>\n",
       "      <td>0</td>\n",
       "      <td>0</td>\n",
       "      <td>2</td>\n",
       "      <td>2</td>\n",
       "      <td>3</td>\n",
       "      <td>3</td>\n",
       "      <td>3</td>\n",
       "      <td>3</td>\n",
       "      <td>0</td>\n",
       "      <td>1</td>\n",
       "      <td>...</td>\n",
       "      <td>0</td>\n",
       "      <td>0</td>\n",
       "      <td>0</td>\n",
       "      <td>0</td>\n",
       "      <td>1</td>\n",
       "      <td>0</td>\n",
       "      <td>0</td>\n",
       "      <td>0</td>\n",
       "      <td>1</td>\n",
       "      <td>0</td>\n",
       "    </tr>\n",
       "    <tr>\n",
       "      <th>6D6</th>\n",
       "      <td>0</td>\n",
       "      <td>0</td>\n",
       "      <td>0</td>\n",
       "      <td>0</td>\n",
       "      <td>0</td>\n",
       "      <td>0</td>\n",
       "      <td>0</td>\n",
       "      <td>0</td>\n",
       "      <td>0</td>\n",
       "      <td>0</td>\n",
       "      <td>...</td>\n",
       "      <td>0</td>\n",
       "      <td>0</td>\n",
       "      <td>0</td>\n",
       "      <td>0</td>\n",
       "      <td>0</td>\n",
       "      <td>0</td>\n",
       "      <td>0</td>\n",
       "      <td>0</td>\n",
       "      <td>0</td>\n",
       "      <td>0</td>\n",
       "    </tr>\n",
       "    <tr>\n",
       "      <th>...</th>\n",
       "      <td>...</td>\n",
       "      <td>...</td>\n",
       "      <td>...</td>\n",
       "      <td>...</td>\n",
       "      <td>...</td>\n",
       "      <td>...</td>\n",
       "      <td>...</td>\n",
       "      <td>...</td>\n",
       "      <td>...</td>\n",
       "      <td>...</td>\n",
       "      <td>...</td>\n",
       "      <td>...</td>\n",
       "      <td>...</td>\n",
       "      <td>...</td>\n",
       "      <td>...</td>\n",
       "      <td>...</td>\n",
       "      <td>...</td>\n",
       "      <td>...</td>\n",
       "      <td>...</td>\n",
       "      <td>...</td>\n",
       "      <td>...</td>\n",
       "    </tr>\n",
       "    <tr>\n",
       "      <th>S309</th>\n",
       "      <td>0</td>\n",
       "      <td>1</td>\n",
       "      <td>3</td>\n",
       "      <td>0</td>\n",
       "      <td>2</td>\n",
       "      <td>0</td>\n",
       "      <td>1</td>\n",
       "      <td>5</td>\n",
       "      <td>0</td>\n",
       "      <td>0</td>\n",
       "      <td>...</td>\n",
       "      <td>1</td>\n",
       "      <td>1</td>\n",
       "      <td>0</td>\n",
       "      <td>0</td>\n",
       "      <td>0</td>\n",
       "      <td>0</td>\n",
       "      <td>0</td>\n",
       "      <td>0</td>\n",
       "      <td>0</td>\n",
       "      <td>0</td>\n",
       "    </tr>\n",
       "    <tr>\n",
       "      <th>SARS2-38</th>\n",
       "      <td>0</td>\n",
       "      <td>0</td>\n",
       "      <td>0</td>\n",
       "      <td>0</td>\n",
       "      <td>0</td>\n",
       "      <td>0</td>\n",
       "      <td>0</td>\n",
       "      <td>0</td>\n",
       "      <td>0</td>\n",
       "      <td>0</td>\n",
       "      <td>...</td>\n",
       "      <td>0</td>\n",
       "      <td>0</td>\n",
       "      <td>0</td>\n",
       "      <td>0</td>\n",
       "      <td>0</td>\n",
       "      <td>0</td>\n",
       "      <td>0</td>\n",
       "      <td>0</td>\n",
       "      <td>0</td>\n",
       "      <td>0</td>\n",
       "    </tr>\n",
       "    <tr>\n",
       "      <th>STE90-C11</th>\n",
       "      <td>0</td>\n",
       "      <td>0</td>\n",
       "      <td>0</td>\n",
       "      <td>0</td>\n",
       "      <td>0</td>\n",
       "      <td>0</td>\n",
       "      <td>0</td>\n",
       "      <td>0</td>\n",
       "      <td>0</td>\n",
       "      <td>0</td>\n",
       "      <td>...</td>\n",
       "      <td>0</td>\n",
       "      <td>0</td>\n",
       "      <td>0</td>\n",
       "      <td>0</td>\n",
       "      <td>0</td>\n",
       "      <td>0</td>\n",
       "      <td>0</td>\n",
       "      <td>0</td>\n",
       "      <td>0</td>\n",
       "      <td>0</td>\n",
       "    </tr>\n",
       "    <tr>\n",
       "      <th>Zhou_47D1</th>\n",
       "      <td>0</td>\n",
       "      <td>0</td>\n",
       "      <td>0</td>\n",
       "      <td>0</td>\n",
       "      <td>0</td>\n",
       "      <td>0</td>\n",
       "      <td>0</td>\n",
       "      <td>0</td>\n",
       "      <td>0</td>\n",
       "      <td>0</td>\n",
       "      <td>...</td>\n",
       "      <td>0</td>\n",
       "      <td>0</td>\n",
       "      <td>0</td>\n",
       "      <td>0</td>\n",
       "      <td>0</td>\n",
       "      <td>0</td>\n",
       "      <td>0</td>\n",
       "      <td>0</td>\n",
       "      <td>0</td>\n",
       "      <td>0</td>\n",
       "    </tr>\n",
       "    <tr>\n",
       "      <th>ab1</th>\n",
       "      <td>0</td>\n",
       "      <td>0</td>\n",
       "      <td>0</td>\n",
       "      <td>0</td>\n",
       "      <td>0</td>\n",
       "      <td>0</td>\n",
       "      <td>0</td>\n",
       "      <td>0</td>\n",
       "      <td>0</td>\n",
       "      <td>0</td>\n",
       "      <td>...</td>\n",
       "      <td>0</td>\n",
       "      <td>0</td>\n",
       "      <td>0</td>\n",
       "      <td>0</td>\n",
       "      <td>0</td>\n",
       "      <td>0</td>\n",
       "      <td>0</td>\n",
       "      <td>0</td>\n",
       "      <td>0</td>\n",
       "      <td>0</td>\n",
       "    </tr>\n",
       "  </tbody>\n",
       "</table>\n",
       "<p>136 rows × 37 columns</p>\n",
       "</div>"
      ],
      "text/plain": [
       "           333  334  335  336  337  338  339  340  341  342  ...  360  361  \\\n",
       "index                                                        ...             \n",
       "2B11         0    0    0    0    0    0    0    0    0    0  ...    0    0   \n",
       "2H2          0    0    0    0    0    0    0    0    0    0  ...    0    0   \n",
       "3C1          0    0    0    0    0    0    0    0    0    0  ...    0    0   \n",
       "47D11        0    0    2    2    3    3    3    3    0    1  ...    0    0   \n",
       "6D6          0    0    0    0    0    0    0    0    0    0  ...    0    0   \n",
       "...        ...  ...  ...  ...  ...  ...  ...  ...  ...  ...  ...  ...  ...   \n",
       "S309         0    1    3    0    2    0    1    5    0    0  ...    1    1   \n",
       "SARS2-38     0    0    0    0    0    0    0    0    0    0  ...    0    0   \n",
       "STE90-C11    0    0    0    0    0    0    0    0    0    0  ...    0    0   \n",
       "Zhou_47D1    0    0    0    0    0    0    0    0    0    0  ...    0    0   \n",
       "ab1          0    0    0    0    0    0    0    0    0    0  ...    0    0   \n",
       "\n",
       "           362  363  364  365  366  367  368  369  \n",
       "index                                              \n",
       "2B11         0    0    0    0    0    0    0    0  \n",
       "2H2          0    0    0    0    0    0    0    0  \n",
       "3C1          0    0    0    0    0    0    0    2  \n",
       "47D11        0    0    1    0    0    0    1    0  \n",
       "6D6          0    0    0    0    0    0    0    0  \n",
       "...        ...  ...  ...  ...  ...  ...  ...  ...  \n",
       "S309         0    0    0    0    0    0    0    0  \n",
       "SARS2-38     0    0    0    0    0    0    0    0  \n",
       "STE90-C11    0    0    0    0    0    0    0    0  \n",
       "Zhou_47D1    0    0    0    0    0    0    0    0  \n",
       "ab1          0    0    0    0    0    0    0    0  \n",
       "\n",
       "[136 rows x 37 columns]"
      ]
     },
     "execution_count": 16,
     "metadata": {},
     "output_type": "execute_result"
    }
   ],
   "source": [
    "Ab_epitopes[np.arange(333,370)]"
   ]
  },
  {
   "cell_type": "code",
   "execution_count": 17,
   "metadata": {},
   "outputs": [
    {
     "name": "stderr",
     "output_type": "stream",
     "text": [
      "/Users/zhesang/opt/miniconda3/lib/python3.8/site-packages/seaborn/matrix.py:654: UserWarning: Clustering large matrix with scipy. Installing `fastcluster` may give better performance.\n",
      "  warnings.warn(msg)\n"
     ]
    },
    {
     "data": {
      "text/plain": [
       "<seaborn.matrix.ClusterGrid at 0x7fd9cab0a5e0>"
      ]
     },
     "execution_count": 17,
     "metadata": {},
     "output_type": "execute_result"
    },
    {
     "data": {
      "image/png": "[encoded data removed]",
      "text/plain": [
       "<Figure size 720x2160 with 4 Axes>"
      ]
     },
     "metadata": {
      "needs_background": "light"
     },
     "output_type": "display_data"
    }
   ],
   "source": [
    "sns.clustermap(Ab_epitopes.sort_values(list(np.arange(333,370))),cmap='Reds',yticklabels=True,col_cluster=False,figsize=(10,30))"
   ]
  }
 ],
 "metadata": {
  "kernelspec": {
   "display_name": "Python 3",
   "language": "python",
   "name": "python3"
  },
  "language_info": {
   "codemirror_mode": {
    "name": "ipython",
    "version": 3
   },
   "file_extension": ".py",
   "mimetype": "text/x-python",
   "name": "python",
   "nbconvert_exporter": "python",
   "pygments_lexer": "ipython3",
   "version": "3.8.10"
  }
 },
 "nbformat": 4,
 "nbformat_minor": 4
}
