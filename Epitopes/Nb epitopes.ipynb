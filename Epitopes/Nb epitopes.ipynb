{
 "cells": [
  {
   "cell_type": "code",
   "execution_count": 1,
   "metadata": {},
   "outputs": [],
   "source": [
    "import pandas as pd\n",
    "import numpy as np\n",
    "import seaborn as sns\n",
    "import prody\n",
    "import os\n",
    "import matplotlib.pyplot as plt\n",
    "from Bio.PDB.Polypeptide import three_to_one"
   ]
  },
  {
   "cell_type": "code",
   "execution_count": 2,
   "metadata": {},
   "outputs": [],
   "source": [
    "def summarizeContacts(contacts):\n",
    "    contact_data =[]\n",
    "    for pair in contacts:\n",
    "        atom1,atom2,dist = pair\n",
    "        ch1 = atom1.getChid()\n",
    "        ch2 = atom2.getChid()\n",
    "        res1 = atom1.getResname()\n",
    "        res2 = atom2.getResname()\n",
    "        resnum1 = f\"{atom1.getResnum()}{atom1.getIcode()}\"\n",
    "        resnum2 = f\"{atom2.getResnum()}{atom2.getIcode()}\"\n",
    "        contact_data.append([ch1,res1,resnum1,ch2,res2,resnum2,dist])\n",
    "    contact_data = pd.DataFrame(contact_data,columns=['ch1','res1','resnum1','ch2','res2','resnum2','dist'])\n",
    "    #contact_data = contact_data.sort_values(['resnum1','resnum2','dist'],ascending=True).drop_duplicates(['resnum1','resnum2'])\n",
    "    return contact_data\n",
    "    "
   ]
  },
  {
   "cell_type": "code",
   "execution_count": 3,
   "metadata": {},
   "outputs": [],
   "source": [
    "def Epitope(Ab_atoms,Ag_atoms):\n",
    "    Epitope_map = np.zeros(541-319+1)\n",
    "    \n",
    "    epitope_aa = set()\n",
    "    for pair in prody.iterNeighbors(Ab_atoms,4,Ag_atoms):\n",
    "        epitope_aa.add(pair[1].getResnum())\n",
    "    for aa in epitope_aa:\n",
    "        if aa > 541 or aa<319:\n",
    "            continue\n",
    "        Epitope_map[aa-319] = 1\n",
    "    return Epitope_map\n",
    "\n",
    "def epitope_map2(x):\n",
    "    resnum1 = x.index\n",
    "    counts = x.values\n",
    "    start = 319\n",
    "    end = 541\n",
    "    positions = np.zeros((end-start+1),int)\n",
    "    for ind,i in enumerate(resnum1):\n",
    "        aa = int(i)\n",
    "        if aa > 541 or aa<319:\n",
    "            continue\n",
    "        positions[aa-319]=counts[ind]\n",
    "    return positions"
   ]
  },
  {
   "cell_type": "code",
   "execution_count": 4,
   "metadata": {},
   "outputs": [],
   "source": [
    "\n",
    "seq_data = pd.read_excel(\"SARS2_Nbs.xlsx\")\n",
    "seq_data_pan = pd.read_excel(\"SARS2_PanNbs.xlsx\")\n",
    "\n"
   ]
  },
  {
   "cell_type": "code",
   "execution_count": 5,
   "metadata": {
    "scrolled": true
   },
   "outputs": [
    {
     "name": "stderr",
     "output_type": "stream",
     "text": [
      "@> 2852 atoms and 1 coordinate set(s) were parsed in 0.04s.\n",
      "@> Secondary structures were assigned to 176 residues.\n",
      "@> 5111 atoms and 1 coordinate set(s) were parsed in 0.09s.\n"
     ]
    },
    {
     "name": "stdout",
     "output_type": "stream",
     "text": [
      "./Nbs/6yz5.pdb-chain F-chain E\n",
      "./Nbs/6zbp.pdb-chain F-chain E\n"
     ]
    },
    {
     "name": "stderr",
     "output_type": "stream",
     "text": [
      "@> Secondary structures were assigned to 180 residues.\n",
      "@> 3770 atoms and 1 coordinate set(s) were parsed in 0.05s.\n",
      "@> Secondary structures were assigned to 252 residues.\n",
      "@> 2760 atoms and 1 coordinate set(s) were parsed in 0.05s.\n",
      "@> Secondary structures were assigned to 170 residues.\n"
     ]
    },
    {
     "name": "stdout",
     "output_type": "stream",
     "text": [
      "./Nbs/7oap.pdb-chain A-chain E\n",
      "./Nbs/7oao.pdb-chain F-chain E\n",
      "./Nbs/7oay.pdb-chain B-chain A\n"
     ]
    },
    {
     "name": "stderr",
     "output_type": "stream",
     "text": [
      "@> 15699 atoms and 1 coordinate set(s) were parsed in 0.22s.\n",
      "@> Secondary structures were assigned to 1076 residues.\n",
      "@> 3770 atoms and 1 coordinate set(s) were parsed in 0.05s.\n",
      "@> Secondary structures were assigned to 252 residues.\n",
      "@> 2519 atoms and 1 coordinate set(s) were parsed in 0.03s.\n",
      "@> Secondary structures were assigned to 169 residues.\n"
     ]
    },
    {
     "name": "stdout",
     "output_type": "stream",
     "text": [
      "./Nbs/7oap.pdb-chain F-chain E\n",
      "./Nbs/7c8w.pdb-chain A-chain B\n",
      "./Nbs/7km5.pdb-chain D-chain A\n"
     ]
    },
    {
     "name": "stderr",
     "output_type": "stream",
     "text": [
      "@> 4889 atoms and 1 coordinate set(s) were parsed in 0.05s.\n",
      "@> Secondary structures were assigned to 284 residues.\n"
     ]
    },
    {
     "name": "stdout",
     "output_type": "stream",
     "text": [
      "./Nbs/7kkk.pdb-chain B-chain A\n"
     ]
    },
    {
     "name": "stderr",
     "output_type": "stream",
     "text": [
      "@> 53064 atoms and 1 coordinate set(s) were parsed in 0.51s.\n",
      "@> Secondary structures were assigned to 2011 residues.\n",
      "@> 3392 atoms and 1 coordinate set(s) were parsed in 0.04s.\n",
      "@> Secondary structures were assigned to 142 residues.\n",
      "@> 3389 atoms and 1 coordinate set(s) were parsed in 0.04s.\n",
      "@> Secondary structures were assigned to 148 residues.\n"
     ]
    },
    {
     "name": "stdout",
     "output_type": "stream",
     "text": [
      "./Nbs/7mdw.pdb-chain B-chain R\n",
      "./Nbs/7me7.pdb-chain A-chain R\n",
      "./Nbs/7jvb.pdb-chain C-chain A\n"
     ]
    },
    {
     "name": "stderr",
     "output_type": "stream",
     "text": [
      "@> 4748 atoms and 1 coordinate set(s) were parsed in 0.07s.\n",
      "@> Secondary structures were assigned to 268 residues.\n",
      "@> 2431 atoms and 1 coordinate set(s) were parsed in 0.03s.\n",
      "@> Secondary structures were assigned to 136 residues.\n"
     ]
    },
    {
     "name": "stdout",
     "output_type": "stream",
     "text": [
      "./Nbs/7n9a.pdb-chain A-chain E\n",
      "./Nbs/7n9e.pdb-chain D-chain A\n"
     ]
    },
    {
     "name": "stderr",
     "output_type": "stream",
     "text": [
      "@> 21460 atoms and 1 coordinate set(s) were parsed in 0.22s.\n",
      "@> Secondary structures were assigned to 1607 residues.\n",
      "@> 6519 atoms and 1 coordinate set(s) were parsed in 0.07s.\n",
      "@> Secondary structures were assigned to 87 residues.\n",
      "@> 2496 atoms and 1 coordinate set(s) were parsed in 0.03s.\n"
     ]
    },
    {
     "name": "stdout",
     "output_type": "stream",
     "text": [
      "./Nbs/7mej.pdb-chain B-chain R\n",
      "./Nbs/nb95.pdb-chain H-chain A\n",
      "./Nbs/7nkt.pdb-chain B-chain A\n"
     ]
    },
    {
     "name": "stderr",
     "output_type": "stream",
     "text": [
      "@> 2680 atoms and 1 coordinate set(s) were parsed in 0.04s.\n",
      "@> Secondary structures were assigned to 169 residues.\n",
      "@> 4831 atoms and 1 coordinate set(s) were parsed in 0.08s.\n",
      "@> 3555 atoms and 1 coordinate set(s) were parsed in 0.05s.\n",
      "@> Secondary structures were assigned to 242 residues.\n"
     ]
    },
    {
     "name": "stdout",
     "output_type": "stream",
     "text": [
      "./Nbs/7b27.pdb-chain C-chain A\n",
      "./Nbs/7olz.pdb-chain C-chain A\n",
      "./Nbs/7olz.pdb-chain B-chain A\n"
     ]
    },
    {
     "name": "stderr",
     "output_type": "stream",
     "text": [
      "@> 3555 atoms and 1 coordinate set(s) were parsed in 0.05s.\n",
      "@> Secondary structures were assigned to 242 residues.\n",
      "@> 7768 atoms and 1 coordinate set(s) were parsed in 0.10s.\n",
      "@> Secondary structures were assigned to 502 residues.\n"
     ]
    },
    {
     "name": "stdout",
     "output_type": "stream",
     "text": [
      "./Nbs/7mfu.pdb-chain B-chain A\n",
      "./Nbs/7p77.pdb-chain A-chain B\n"
     ]
    },
    {
     "name": "stderr",
     "output_type": "stream",
     "text": [
      "@> 30582 atoms and 1 coordinate set(s) were parsed in 0.30s.\n",
      "@> Secondary structures were assigned to 2038 residues.\n",
      "@> 2466 atoms and 1 coordinate set(s) were parsed in 0.04s.\n",
      "@> Secondary structures were assigned to 159 residues.\n"
     ]
    },
    {
     "name": "stdout",
     "output_type": "stream",
     "text": [
      "./Nbs/7kgk.pdb-chain B-chain A\n",
      "./Nbs/7n0h.pdb-chain X-chain A\n"
     ]
    },
    {
     "name": "stderr",
     "output_type": "stream",
     "text": [
      "@> 27974 atoms and 1 coordinate set(s) were parsed in 0.38s.\n",
      "@> Secondary structures were assigned to 1941 residues.\n",
      "@> 7768 atoms and 1 coordinate set(s) were parsed in 0.15s.\n",
      "@> Secondary structures were assigned to 502 residues.\n"
     ]
    },
    {
     "name": "stdout",
     "output_type": "stream",
     "text": [
      "./Nbs/7mfu.pdb-chain C-chain A\n",
      "./Nbs/7a25.pdb-chain D-chain A\n"
     ]
    },
    {
     "name": "stderr",
     "output_type": "stream",
     "text": [
      "@> 28266 atoms and 1 coordinate set(s) were parsed in 0.46s.\n",
      "@> Secondary structures were assigned to 1885 residues.\n",
      "@> 2641 atoms and 1 coordinate set(s) were parsed in 0.04s.\n",
      "@> Secondary structures were assigned to 177 residues.\n",
      "@> 2890 atoms and 1 coordinate set(s) were parsed in 0.03s.\n",
      "@> Secondary structures were assigned to 184 residues.\n",
      "@> 2760 atoms and 1 coordinate set(s) were parsed in 0.03s.\n",
      "@> Secondary structures were assigned to 173 residues.\n"
     ]
    },
    {
     "name": "stdout",
     "output_type": "stream",
     "text": [
      "./Nbs/7kgj.pdb-chain B-chain A\n",
      "./Nbs/7d2z.pdb-chain A-chain B\n",
      "./Nbs/7c8v.pdb-chain A-chain B\n",
      "./Nbs/6zxn.pdb-chain D-chain A\n"
     ]
    },
    {
     "name": "stderr",
     "output_type": "stream",
     "text": [
      "@> 55845 atoms and 1 coordinate set(s) were parsed in 0.55s.\n",
      "@> Secondary structures were assigned to 1943 residues.\n",
      "@> 7271 atoms and 1 coordinate set(s) were parsed in 0.09s.\n",
      "@> Secondary structures were assigned to 507 residues.\n"
     ]
    },
    {
     "name": "stdout",
     "output_type": "stream",
     "text": [
      "./Nbs/7kn5.pdb-chain D-chain B\n",
      "./Nbs/7kn5.pdb-chain F-chain B\n"
     ]
    },
    {
     "name": "stderr",
     "output_type": "stream",
     "text": [
      "@> 7271 atoms and 1 coordinate set(s) were parsed in 0.09s.\n",
      "@> Secondary structures were assigned to 507 residues.\n",
      "@> 5539 atoms and 1 coordinate set(s) were parsed in 0.07s.\n",
      "@> Secondary structures were assigned to 419 residues.\n"
     ]
    },
    {
     "name": "stdout",
     "output_type": "stream",
     "text": [
      "./Nbs/7kn6.pdb-chain C-chain A\n",
      "./Nbs/7kn7.pdb-chain B-chain A\n"
     ]
    },
    {
     "name": "stderr",
     "output_type": "stream",
     "text": [
      "@> 5699 atoms and 1 coordinate set(s) were parsed in 0.08s.\n",
      "@> Secondary structures were assigned to 424 residues.\n",
      "@> 3485 atoms and 1 coordinate set(s) were parsed in 0.04s.\n",
      "@> Secondary structures were assigned to 236 residues.\n",
      "@> 3485 atoms and 1 coordinate set(s) were parsed in 0.04s.\n",
      "@> Secondary structures were assigned to 236 residues.\n"
     ]
    },
    {
     "name": "stdout",
     "output_type": "stream",
     "text": [
      "./Nbs/7lx5.pdb-chain A-chain B\n",
      "./Nbs/7lx5.pdb-chain C-chain B\n",
      "./Nbs/7my3.pdb-chain H-chain C\n"
     ]
    },
    {
     "name": "stderr",
     "output_type": "stream",
     "text": [
      "@> 26226 atoms and 1 coordinate set(s) were parsed in 0.28s.\n",
      "@> Secondary structures were assigned to 1893 residues.\n"
     ]
    },
    {
     "name": "stdout",
     "output_type": "stream",
     "text": [
      "./Nbs/7my2.pdb-chain H-chain E\n"
     ]
    },
    {
     "name": "stderr",
     "output_type": "stream",
     "text": [
      "@> 27884 atoms and 1 coordinate set(s) were parsed in 0.29s.\n",
      "@> Secondary structures were assigned to 1796 residues.\n"
     ]
    }
   ],
   "source": [
    "nb_contacts_all=[]\n",
    "\n",
    "\n",
    "for idx,row in seq_data.iterrows():\n",
    "    pdb = row['pdb']\n",
    "    name = row['Name']\n",
    "    Nb_chain = row['VH Chain']\n",
    "    Ag_chain = row['RBD Chain']\n",
    "    filename = os.path.join(\"./Nbs\",f\"{pdb.lower()}.pdb\")\n",
    "    Nb_chain = f'chain {Nb_chain}'\n",
    "    Ag_chain = f'chain {Ag_chain}'\n",
    "    print(f'{filename}-{Nb_chain}-{Ag_chain}')\n",
    "    struct = prody.parsePDB(filename)\n",
    "    Nb_struct = struct.select(Nb_chain).copy()\n",
    "    Ag_struct = struct.select(Ag_chain).copy()\n",
    "    contacts= list(prody.iterNeighbors(Ag_struct,4,Nb_struct))\n",
    "    summarized_contacts = summarizeContacts(contacts)\n",
    "    summarized_contacts['Name'] = name\n",
    "    nb_contacts_all.append(summarized_contacts)\n",
    "nb_contacts = pd.concat(nb_contacts_all)"
   ]
  },
  {
   "cell_type": "code",
   "execution_count": 7,
   "metadata": {},
   "outputs": [],
   "source": [
    "epitopes_info2 = nb_contacts.groupby(\"Name\").apply(lambda x: epitope_map2(x.groupby(\"resnum1\")['resnum2'].count()))\n",
    "names2 = np.array(epitopes_info2.index)\n",
    "matrics2 = epitopes_info2.values\n",
    "Nb_epitopes2 = pd.DataFrame(np.vstack(matrics2),columns=np.arange(319,542),index=names2)\n",
    "#Nb_epitopes2 = Nb_epitopes2.set_index('name')\n",
    "#Nb_epitopes2 = Nb_epitopes2.merge(Nb_name,'left',on='name')\n",
    "#Nb_epitopes2.index=Nb_epitopes2['Nb name']\n",
    "#Nb_epitopes2.drop([\"Nb name\",\"name\"],1,inplace=True)\n",
    "#Z = single(pdist(Nb_epitopes2.values,metric='correlation'))\n",
    "#clus_ids = fcluster(Z,criterion=b\"maxclust\",t=3)\n",
    "#Nb_epitopes2['name'] = names2\n",
    "#Nb_epitopes2['cluster_id'] = clus_ids\n",
    "#Nb_epitopes2.sort_values(\"cluster_id\",inplace=True,ascending=True)\n",
    "#Nb_epitopes2 = pd.concat([Nb_epitopes2[Nb_epitopes2['cluster_id']==3],Nb_epitopes2[Nb_epitopes2['cluster_id']==1],Nb_epitopes2[Nb_epitopes2['cluster_id']==2]])"
   ]
  },
  {
   "cell_type": "code",
   "execution_count": 7,
   "metadata": {},
   "outputs": [],
   "source": [
    "Nb_epitopes2.to_csv(\"Nb_map_#atom.csv\")"
   ]
  },
  {
   "cell_type": "code",
   "execution_count": 13,
   "metadata": {},
   "outputs": [
    {
     "name": "stderr",
     "output_type": "stream",
     "text": [
      "@> 4950 atoms and 1 coordinate set(s) were parsed in 0.06s.\n",
      "@> Secondary structures were assigned to 103 residues.\n"
     ]
    },
    {
     "name": "stdout",
     "output_type": "stream",
     "text": [
      "./Nbs/5p182_real_space_refined_066-coot-0.pdb-chain A-chain R\n",
      "./Nbs/4p74.pdb-chain A-chain R\n"
     ]
    },
    {
     "name": "stderr",
     "output_type": "stream",
     "text": [
      "@> 4895 atoms and 1 coordinate set(s) were parsed in 0.05s.\n",
      "@> Secondary structures were assigned to 137 residues.\n",
      "@> 2751 atoms and 1 coordinate set(s) were parsed in 0.06s.\n",
      "@> 2470 atoms and 1 coordinate set(s) were parsed in 0.03s.\n",
      "@> Secondary structures were assigned to 136 residues.\n",
      "@> 4964 atoms and 1 coordinate set(s) were parsed in 0.05s.\n"
     ]
    },
    {
     "name": "stdout",
     "output_type": "stream",
     "text": [
      "./Nbs/nb117.pdb-chain B-chain A\n",
      "./Nbs/5p38.pdb-chain A-chain R\n",
      "./Nbs/5p60.pdb-chain A-chain R\n"
     ]
    },
    {
     "name": "stderr",
     "output_type": "stream",
     "text": [
      "@> 3480 atoms and 1 coordinate set(s) were parsed in 0.05s.\n",
      "@> 2518 atoms and 1 coordinate set(s) were parsed in 0.04s.\n"
     ]
    },
    {
     "name": "stdout",
     "output_type": "stream",
     "text": [
      "./Nbs/5p35.pdb-chain A-chain R\n",
      "./Nbs/5p118.pdb-chain B-chain A\n",
      "./Nbs/5p93.pdb-chain C-chain R\n"
     ]
    },
    {
     "name": "stderr",
     "output_type": "stream",
     "text": [
      "@> 4969 atoms and 1 coordinate set(s) were parsed in 0.05s.\n",
      "@> Secondary structures were assigned to 98 residues.\n",
      "@> 2458 atoms and 1 coordinate set(s) were parsed in 0.02s.\n",
      "@> 2438 atoms and 1 coordinate set(s) were parsed in 0.03s.\n",
      "@> Secondary structures were assigned to 134 residues.\n",
      "@> 4858 atoms and 1 coordinate set(s) were parsed in 0.05s.\n"
     ]
    },
    {
     "name": "stdout",
     "output_type": "stream",
     "text": [
      "./Nbs/4p56.pdb-chain A-chain R\n",
      "./Nbs/5p132.pdb-chain A-chain R\n",
      "./Nbs/nb113.pdb-chain A-chain R\n",
      "./Nbs/5p179.pdb-chain F-chain A\n"
     ]
    },
    {
     "name": "stderr",
     "output_type": "stream",
     "text": [
      "@> 2427 atoms and 1 coordinate set(s) were parsed in 0.03s.\n",
      "@> Secondary structures were assigned to 117 residues.\n",
      "@> 4914 atoms and 1 coordinate set(s) were parsed in 0.05s.\n",
      "@> Secondary structures were assigned to 88 residues.\n",
      "@> 4918 atoms and 1 coordinate set(s) were parsed in 0.05s.\n"
     ]
    },
    {
     "name": "stdout",
     "output_type": "stream",
     "text": [
      "./Nbs/5p64.pdb-chain D-chain R\n",
      "./Nbs/5p182_old.pdb-chain A-chain R\n"
     ]
    },
    {
     "name": "stderr",
     "output_type": "stream",
     "text": [
      "@> 4912 atoms and 1 coordinate set(s) were parsed in 0.05s.\n",
      "@> Secondary structures were assigned to 139 residues.\n"
     ]
    },
    {
     "name": "stdout",
     "output_type": "stream",
     "text": [
      "./Nbs/4p16_rbd_real_space_refined_065.pdb-chain D-chain A\n"
     ]
    }
   ],
   "source": [
    "seq_data = pd.read_excel(\"SARS2_PanNbs.xlsx\")\n",
    "nb_contacts_all=[]\n",
    "\n",
    "\n",
    "for idx,row in seq_data.iterrows():\n",
    "    pdb = row['pdb']\n",
    "    name = row['Name']\n",
    "    Nb_chain = row['VH Chain']\n",
    "    Ag_chain = row['RBD Chain']\n",
    "    filename = os.path.join(\"./Nbs\",f\"{pdb.lower()}\")\n",
    "    Nb_chain = f'chain {Nb_chain}'\n",
    "    Ag_chain = f'chain {Ag_chain}'\n",
    "    print(f'{filename}-{Nb_chain}-{Ag_chain}')\n",
    "    struct = prody.parsePDB(filename)\n",
    "    Nb_struct = struct.select(Nb_chain).copy()\n",
    "    Ag_struct = struct.select(Ag_chain).copy()\n",
    "    contacts= list(prody.iterNeighbors(Ag_struct,4,Nb_struct))\n",
    "    summarized_contacts = summarizeContacts(contacts)\n",
    "    summarized_contacts['Name'] = name\n",
    "    nb_contacts_all.append(summarized_contacts)\n",
    "nb_contacts = pd.concat(nb_contacts_all)\n",
    "epitopes_info2 = nb_contacts.groupby(\"Name\").apply(lambda x: epitope_map2(x.groupby(\"resnum1\")['resnum2'].count()))\n",
    "names2 = np.array(epitopes_info2.index)\n",
    "matrics2 = epitopes_info2.values\n",
    "Nb_epitopes2 = pd.DataFrame(np.vstack(matrics2),columns=np.arange(319,542),index=names2)\n",
    "Nb_epitopes2.to_csv(\"PanNb_map_#atom.csv\")"
   ]
  },
  {
   "cell_type": "code",
   "execution_count": null,
   "metadata": {},
   "outputs": [],
   "source": []
  },
  {
   "cell_type": "code",
   "execution_count": 22,
   "metadata": {},
   "outputs": [
    {
     "data": {
      "text/plain": [
       "'369,375,377,378,379,380,381,382,383,384,385,408,411,412,413,414,427'"
      ]
     },
     "execution_count": 22,
     "metadata": {},
     "output_type": "execute_result"
    }
   ],
   "source": [
    "\",\".join(list(Nb_epitopes2.loc['5p118'][Nb_epitopes2.loc['5p118']!=0].index.astype(str)))"
   ]
  },
  {
   "cell_type": "code",
   "execution_count": 16,
   "metadata": {
    "collapsed": true
   },
   "outputs": [
    {
     "name": "stderr",
     "output_type": "stream",
     "text": [
      "@> 3555 atoms and 1 coordinate set(s) were parsed in 0.05s.\n",
      "@> Secondary structures were assigned to 242 residues.\n",
      "@> 3555 atoms and 1 coordinate set(s) were parsed in 0.04s.\n",
      "@> Secondary structures were assigned to 242 residues.\n"
     ]
    },
    {
     "name": "stdout",
     "output_type": "stream",
     "text": [
      "./Nbs/7olz.pdb-chain C-chain A\n",
      "./Nbs/7olz.pdb-chain B-chain A\n"
     ]
    },
    {
     "name": "stderr",
     "output_type": "stream",
     "text": [
      "@> 15699 atoms and 1 coordinate set(s) were parsed in 0.16s.\n"
     ]
    },
    {
     "name": "stdout",
     "output_type": "stream",
     "text": [
      "./Nbs/7oay.pdb-chain B-chain A\n"
     ]
    },
    {
     "name": "stderr",
     "output_type": "stream",
     "text": [
      "@> Secondary structures were assigned to 1076 residues.\n",
      "@> 3770 atoms and 1 coordinate set(s) were parsed in 0.04s.\n",
      "@> Secondary structures were assigned to 252 residues.\n",
      "@> 3770 atoms and 1 coordinate set(s) were parsed in 0.04s.\n",
      "@> Secondary structures were assigned to 252 residues.\n"
     ]
    },
    {
     "name": "stdout",
     "output_type": "stream",
     "text": [
      "./Nbs/7oap.pdb-chain F-chain E\n",
      "./Nbs/7oap.pdb-chain A-chain E\n",
      "./Nbs/7oao.pdb-chain F-chain E\n"
     ]
    },
    {
     "name": "stderr",
     "output_type": "stream",
     "text": [
      "@> 2760 atoms and 1 coordinate set(s) were parsed in 0.03s.\n",
      "@> Secondary structures were assigned to 170 residues.\n",
      "@> 3485 atoms and 1 coordinate set(s) were parsed in 0.04s.\n",
      "@> Secondary structures were assigned to 236 residues.\n",
      "@> 3485 atoms and 1 coordinate set(s) were parsed in 0.03s.\n",
      "@> Secondary structures were assigned to 236 residues.\n"
     ]
    },
    {
     "name": "stdout",
     "output_type": "stream",
     "text": [
      "./Nbs/7lx5.pdb-chain C-chain B\n",
      "./Nbs/7lx5.pdb-chain A-chain B\n",
      "./Nbs/7my3.pdb-chain H-chain C\n"
     ]
    },
    {
     "name": "stderr",
     "output_type": "stream",
     "text": [
      "@> 26226 atoms and 1 coordinate set(s) were parsed in 0.25s.\n",
      "@> Secondary structures were assigned to 1893 residues.\n"
     ]
    },
    {
     "name": "stdout",
     "output_type": "stream",
     "text": [
      "./Nbs/7my2.pdb-chain H-chain E\n"
     ]
    },
    {
     "name": "stderr",
     "output_type": "stream",
     "text": [
      "@> 27884 atoms and 1 coordinate set(s) were parsed in 0.23s.\n",
      "@> Secondary structures were assigned to 1796 residues.\n",
      "@> 7271 atoms and 1 coordinate set(s) were parsed in 0.08s.\n",
      "@> Secondary structures were assigned to 507 residues.\n"
     ]
    },
    {
     "name": "stdout",
     "output_type": "stream",
     "text": [
      "./Nbs/7kn5.pdb-chain C-chain B\n",
      "./Nbs/7kn5.pdb-chain F-chain B\n"
     ]
    },
    {
     "name": "stderr",
     "output_type": "stream",
     "text": [
      "@> 7271 atoms and 1 coordinate set(s) were parsed in 0.08s.\n",
      "@> Secondary structures were assigned to 507 residues.\n",
      "@> 5539 atoms and 1 coordinate set(s) were parsed in 0.07s.\n",
      "@> Secondary structures were assigned to 419 residues.\n"
     ]
    },
    {
     "name": "stdout",
     "output_type": "stream",
     "text": [
      "./Nbs/7kn6.pdb-chain C-chain A\n",
      "./Nbs/7kn7.pdb-chain B-chain A\n"
     ]
    },
    {
     "name": "stderr",
     "output_type": "stream",
     "text": [
      "@> 5699 atoms and 1 coordinate set(s) were parsed in 0.07s.\n",
      "@> Secondary structures were assigned to 424 residues.\n",
      "@> 4889 atoms and 1 coordinate set(s) were parsed in 0.04s.\n",
      "@> Secondary structures were assigned to 284 residues.\n",
      "@> 2680 atoms and 1 coordinate set(s) were parsed in 0.03s.\n",
      "@> Secondary structures were assigned to 169 residues.\n"
     ]
    },
    {
     "name": "stdout",
     "output_type": "stream",
     "text": [
      "./Nbs/7km5.pdb-chain D-chain A\n",
      "./Nbs/7nkt.pdb-chain B-chain A\n",
      "./Nbs/7b27.pdb-chain C-chain A\n"
     ]
    },
    {
     "name": "stderr",
     "output_type": "stream",
     "text": [
      "@> 4859 atoms and 1 coordinate set(s) were parsed in 0.05s.\n",
      "@> Secondary structures were assigned to 304 residues.\n"
     ]
    },
    {
     "name": "stdout",
     "output_type": "stream",
     "text": [
      "./Nbs/7kkk.pdb-chain B-chain A\n"
     ]
    },
    {
     "name": "stderr",
     "output_type": "stream",
     "text": [
      "@> 53064 atoms and 1 coordinate set(s) were parsed in 0.46s.\n",
      "@> Secondary structures were assigned to 2011 residues.\n",
      "@> 3389 atoms and 1 coordinate set(s) were parsed in 0.03s.\n",
      "@> Secondary structures were assigned to 148 residues.\n",
      "@> 3392 atoms and 1 coordinate set(s) were parsed in 0.04s.\n",
      "@> Secondary structures were assigned to 142 residues.\n"
     ]
    },
    {
     "name": "stdout",
     "output_type": "stream",
     "text": [
      "./Nbs/7me7.pdb-chain A-chain R\n",
      "./Nbs/7mdw.pdb-chain B-chain R\n",
      "./Nbs/7jvb.pdb-chain C-chain A\n"
     ]
    },
    {
     "name": "stderr",
     "output_type": "stream",
     "text": [
      "@> 4748 atoms and 1 coordinate set(s) were parsed in 0.07s.\n",
      "@> Secondary structures were assigned to 268 residues.\n",
      "@> 2431 atoms and 1 coordinate set(s) were parsed in 0.03s.\n",
      "@> Secondary structures were assigned to 136 residues.\n"
     ]
    },
    {
     "name": "stdout",
     "output_type": "stream",
     "text": [
      "./Nbs/7n9a.pdb-chain A-chain E\n",
      "./Nbs/7n9e.pdb-chain D-chain A\n"
     ]
    },
    {
     "name": "stderr",
     "output_type": "stream",
     "text": [
      "@> 21460 atoms and 1 coordinate set(s) were parsed in 0.20s.\n",
      "@> Secondary structures were assigned to 1607 residues.\n",
      "@> 6519 atoms and 1 coordinate set(s) were parsed in 0.06s.\n",
      "@> Secondary structures were assigned to 87 residues.\n",
      "@> 2496 atoms and 1 coordinate set(s) were parsed in 0.02s.\n"
     ]
    },
    {
     "name": "stdout",
     "output_type": "stream",
     "text": [
      "./Nbs/7mej.pdb-chain B-chain R\n",
      "./Nbs/nb95.pdb-chain H-chain A\n",
      "./Nbs/7a25.pdb-chain D-chain A\n"
     ]
    },
    {
     "name": "stderr",
     "output_type": "stream",
     "text": [
      "@> 28266 atoms and 1 coordinate set(s) were parsed in 0.23s.\n",
      "@> Secondary structures were assigned to 1885 residues.\n",
      "@> 2641 atoms and 1 coordinate set(s) were parsed in 0.03s.\n",
      "@> Secondary structures were assigned to 177 residues.\n",
      "@> 7768 atoms and 1 coordinate set(s) were parsed in 0.09s.\n"
     ]
    },
    {
     "name": "stdout",
     "output_type": "stream",
     "text": [
      "./Nbs/7kgj.pdb-chain B-chain A\n",
      "./Nbs/7mfu.pdb-chain B-chain A\n"
     ]
    },
    {
     "name": "stderr",
     "output_type": "stream",
     "text": [
      "@> Secondary structures were assigned to 502 residues.\n"
     ]
    },
    {
     "name": "stdout",
     "output_type": "stream",
     "text": [
      "./Nbs/7p77.pdb-chain A-chain B\n"
     ]
    },
    {
     "name": "stderr",
     "output_type": "stream",
     "text": [
      "@> 30582 atoms and 1 coordinate set(s) were parsed in 0.25s.\n",
      "@> Secondary structures were assigned to 2038 residues.\n",
      "@> 2466 atoms and 1 coordinate set(s) were parsed in 0.03s.\n",
      "@> Secondary structures were assigned to 159 residues.\n"
     ]
    },
    {
     "name": "stdout",
     "output_type": "stream",
     "text": [
      "./Nbs/7kgk.pdb-chain B-chain A\n",
      "./Nbs/7n0h.pdb-chain X-chain A\n"
     ]
    },
    {
     "name": "stderr",
     "output_type": "stream",
     "text": [
      "@> 27974 atoms and 1 coordinate set(s) were parsed in 0.24s.\n",
      "@> Secondary structures were assigned to 1941 residues.\n",
      "@> 7768 atoms and 1 coordinate set(s) were parsed in 0.08s.\n",
      "@> Secondary structures were assigned to 502 residues.\n",
      "@> 2760 atoms and 1 coordinate set(s) were parsed in 0.03s.\n"
     ]
    },
    {
     "name": "stdout",
     "output_type": "stream",
     "text": [
      "./Nbs/7mfu.pdb-chain C-chain A\n",
      "./Nbs/7c8v.pdb-chain A-chain B\n"
     ]
    },
    {
     "name": "stderr",
     "output_type": "stream",
     "text": [
      "@> Secondary structures were assigned to 173 residues.\n",
      "@> 2890 atoms and 1 coordinate set(s) were parsed in 0.03s.\n",
      "@> Secondary structures were assigned to 184 residues.\n",
      "@> 2519 atoms and 1 coordinate set(s) were parsed in 0.02s.\n",
      "@> Secondary structures were assigned to 169 residues.\n"
     ]
    },
    {
     "name": "stdout",
     "output_type": "stream",
     "text": [
      "./Nbs/7d2z.pdb-chain A-chain B\n",
      "./Nbs/7c8w.pdb-chain A-chain B\n",
      "./Nbs/6zxn.pdb-chain D-chain A\n"
     ]
    },
    {
     "name": "stderr",
     "output_type": "stream",
     "text": [
      "@> 55845 atoms and 1 coordinate set(s) were parsed in 0.48s.\n",
      "@> Secondary structures were assigned to 1943 residues.\n",
      "@> 2852 atoms and 1 coordinate set(s) were parsed in 0.03s.\n",
      "@> Secondary structures were assigned to 176 residues.\n",
      "@> 5111 atoms and 1 coordinate set(s) were parsed in 0.05s.\n",
      "@> Secondary structures were assigned to 180 residues.\n"
     ]
    },
    {
     "name": "stdout",
     "output_type": "stream",
     "text": [
      "./Nbs/6yz5.pdb-chain F-chain E\n",
      "./Nbs/6zbp.pdb-chain F-chain E\n"
     ]
    },
    {
     "name": "stderr",
     "output_type": "stream",
     "text": [
      "@> 3480 atoms and 1 coordinate set(s) were parsed in 0.03s.\n",
      "@> 4833 atoms and 1 coordinate set(s) were parsed in 0.04s.\n"
     ]
    },
    {
     "name": "stdout",
     "output_type": "stream",
     "text": [
      "./Nbs/5p35.pdb-chain A-chain R\n",
      "./Nbs/5p38.pdb-chain A-chain R\n",
      "./Nbs/5p60.pdb-chain A-chain R\n"
     ]
    },
    {
     "name": "stderr",
     "output_type": "stream",
     "text": [
      "@> 4964 atoms and 1 coordinate set(s) were parsed in 0.04s.\n",
      "@> 4858 atoms and 1 coordinate set(s) were parsed in 0.04s.\n",
      "@> 2528 atoms and 1 coordinate set(s) were parsed in 0.02s.\n"
     ]
    },
    {
     "name": "stdout",
     "output_type": "stream",
     "text": [
      "./Nbs/nb113.pdb-chain A-chain R\n",
      "./Nbs/5p118.pdb-chain A-chain R\n"
     ]
    }
   ],
   "source": [
    "epitopes = []\n",
    "pdbs=[]\n",
    "names=[]\n",
    "for idx,row in seq_data.iterrows():\n",
    "    pdb = row['pdb']\n",
    "    name = row['Name']\n",
    "    Nb_chain = row['VH Chain']\n",
    "    Ag_chain = row['RBD Chain']\n",
    "    filename = os.path.join(\"./Nbs\",f\"{pdb.lower()}.pdb\")\n",
    "    if not os.path.exists(filename):\n",
    "        print(f\"{pdb_i} does not exist, next\")\n",
    "        continue\n",
    "    Nb_chain = f'chain {Nb_chain}'\n",
    "    Ag_chain = f'chain {Ag_chain}'\n",
    "    print(f'{filename}-{Nb_chain}-{Ag_chain}')\n",
    "    struct = prody.parsePDB(filename)\n",
    "    Nb_struct = struct.select(Nb_chain).copy()\n",
    "    Ag_struct = struct.select(Ag_chain).copy()\n",
    "    epitope_map = Epitope(Nb_struct,Ag_struct)\n",
    "    epitopes.append(epitope_map)\n",
    "    pdbs.append(pdb)\n",
    "    names.append(name)"
   ]
  },
  {
   "cell_type": "code",
   "execution_count": 18,
   "metadata": {},
   "outputs": [],
   "source": [
    "epitopes_arr.to_csv(\"Nb_map.csv\")"
   ]
  }
 ],
 "metadata": {
  "kernelspec": {
   "display_name": "Python 3",
   "language": "python",
   "name": "python3"
  },
  "language_info": {
   "codemirror_mode": {
    "name": "ipython",
    "version": 3
   },
   "file_extension": ".py",
   "mimetype": "text/x-python",
   "name": "python",
   "nbconvert_exporter": "python",
   "pygments_lexer": "ipython3",
   "version": "3.8.10"
  }
 },
 "nbformat": 4,
 "nbformat_minor": 4
}
