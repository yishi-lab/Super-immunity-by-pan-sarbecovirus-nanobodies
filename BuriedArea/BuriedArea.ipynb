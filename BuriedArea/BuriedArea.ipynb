{
 "cells": [
  {
   "cell_type": "code",
   "execution_count": 1,
   "metadata": {},
   "outputs": [],
   "source": [
    "from Bio.PDB import PDBParser\n",
    "parser = PDBParser()\n",
    "import os\n",
    "import prody\n",
    "import pandas as pd\n",
    "import freesasa\n",
    "import matplotlib.pyplot as plt\n",
    "import seaborn as sns\n",
    "from scipy.stats import ttest_ind\n",
    "import traceback"
   ]
  },
  {
   "cell_type": "code",
   "execution_count": 2,
   "metadata": {},
   "outputs": [],
   "source": [
    "sns.set_context(\"talk\")\n",
    "plt.rcParams['font.family'] =\"Arial\"\n",
    "plt.rcParams['pdf.fonttype'] = 'truetype'"
   ]
  },
  {
   "cell_type": "code",
   "execution_count": 8,
   "metadata": {},
   "outputs": [],
   "source": [
    "seq_data = pd.read_excel(\"SARS2_Nbs.xlsx\")\n",
    "seq_data_pan = pd.read_excel(\"SARS2_PanNbs.xlsx\")"
   ]
  },
  {
   "cell_type": "code",
   "execution_count": 4,
   "metadata": {
    "scrolled": false
   },
   "outputs": [
    {
     "name": "stderr",
     "output_type": "stream",
     "text": [
      "@> 2852 atoms and 1 coordinate set(s) were parsed in 0.04s.\n",
      "@> Secondary structures were assigned to 176 residues.\n",
      "@> 5111 atoms and 1 coordinate set(s) were parsed in 0.07s.\n",
      "@> Secondary structures were assigned to 180 residues.\n",
      "@> 3770 atoms and 1 coordinate set(s) were parsed in 0.06s.\n",
      "@> Secondary structures were assigned to 252 residues.\n",
      "@> 2760 atoms and 1 coordinate set(s) were parsed in 0.04s.\n",
      "@> Secondary structures were assigned to 170 residues.\n",
      "@> 15699 atoms and 1 coordinate set(s) were parsed in 0.19s.\n",
      "@> Secondary structures were assigned to 1076 residues.\n",
      "@> 3770 atoms and 1 coordinate set(s) were parsed in 0.05s.\n",
      "@> Secondary structures were assigned to 252 residues.\n",
      "@> 2519 atoms and 1 coordinate set(s) were parsed in 0.03s.\n",
      "@> Secondary structures were assigned to 169 residues.\n",
      "@> 4889 atoms and 1 coordinate set(s) were parsed in 0.06s.\n",
      "@> Secondary structures were assigned to 284 residues.\n",
      "@> 53064 atoms and 1 coordinate set(s) were parsed in 0.54s.\n",
      "@> Secondary structures were assigned to 2011 residues.\n",
      "@> 3392 atoms and 1 coordinate set(s) were parsed in 0.04s.\n",
      "@> Secondary structures were assigned to 142 residues.\n",
      "@> 3389 atoms and 1 coordinate set(s) were parsed in 0.03s.\n",
      "@> Secondary structures were assigned to 148 residues.\n",
      "@> 4748 atoms and 1 coordinate set(s) were parsed in 0.06s.\n",
      "@> Secondary structures were assigned to 268 residues.\n",
      "@> 2431 atoms and 1 coordinate set(s) were parsed in 0.03s.\n",
      "@> Secondary structures were assigned to 136 residues.\n",
      "@> 21460 atoms and 1 coordinate set(s) were parsed in 0.21s.\n",
      "@> Secondary structures were assigned to 1607 residues.\n",
      "@> 6519 atoms and 1 coordinate set(s) were parsed in 0.07s.\n",
      "@> Secondary structures were assigned to 87 residues.\n",
      "@> 2496 atoms and 1 coordinate set(s) were parsed in 0.03s.\n",
      "@> 2680 atoms and 1 coordinate set(s) were parsed in 0.03s.\n",
      "@> Secondary structures were assigned to 169 residues.\n",
      "@> 4831 atoms and 1 coordinate set(s) were parsed in 0.05s.\n",
      "@> 3555 atoms and 1 coordinate set(s) were parsed in 0.05s.\n",
      "@> Secondary structures were assigned to 242 residues.\n",
      "@> 3555 atoms and 1 coordinate set(s) were parsed in 0.05s.\n",
      "@> Secondary structures were assigned to 242 residues.\n",
      "@> 7768 atoms and 1 coordinate set(s) were parsed in 0.10s.\n",
      "@> Secondary structures were assigned to 502 residues.\n",
      "@> 30582 atoms and 1 coordinate set(s) were parsed in 0.30s.\n",
      "@> Secondary structures were assigned to 2038 residues.\n",
      "@> 2466 atoms and 1 coordinate set(s) were parsed in 0.04s.\n",
      "@> Secondary structures were assigned to 159 residues.\n",
      "@> 27974 atoms and 1 coordinate set(s) were parsed in 0.27s.\n",
      "@> Secondary structures were assigned to 1941 residues.\n",
      "@> 7768 atoms and 1 coordinate set(s) were parsed in 0.10s.\n",
      "@> Secondary structures were assigned to 502 residues.\n",
      "@> 28266 atoms and 1 coordinate set(s) were parsed in 0.37s.\n",
      "@> Secondary structures were assigned to 1885 residues.\n",
      "@> 2641 atoms and 1 coordinate set(s) were parsed in 0.04s.\n",
      "@> Secondary structures were assigned to 177 residues.\n",
      "@> 2890 atoms and 1 coordinate set(s) were parsed in 0.03s.\n",
      "@> Secondary structures were assigned to 184 residues.\n",
      "@> 2760 atoms and 1 coordinate set(s) were parsed in 0.03s.\n",
      "@> Secondary structures were assigned to 173 residues.\n",
      "@> 55845 atoms and 1 coordinate set(s) were parsed in 0.55s.\n",
      "@> Secondary structures were assigned to 1943 residues.\n",
      "@> 7271 atoms and 1 coordinate set(s) were parsed in 0.10s.\n",
      "@> Secondary structures were assigned to 507 residues.\n",
      "@> 7271 atoms and 1 coordinate set(s) were parsed in 0.09s.\n",
      "@> Secondary structures were assigned to 507 residues.\n",
      "@> 5539 atoms and 1 coordinate set(s) were parsed in 0.09s.\n",
      "@> Secondary structures were assigned to 419 residues.\n",
      "@> 5699 atoms and 1 coordinate set(s) were parsed in 0.07s.\n",
      "@> Secondary structures were assigned to 424 residues.\n",
      "@> 3485 atoms and 1 coordinate set(s) were parsed in 0.04s.\n",
      "@> Secondary structures were assigned to 236 residues.\n",
      "@> 3485 atoms and 1 coordinate set(s) were parsed in 0.03s.\n",
      "@> Secondary structures were assigned to 236 residues.\n",
      "@> 26226 atoms and 1 coordinate set(s) were parsed in 0.44s.\n",
      "@> Secondary structures were assigned to 1893 residues.\n",
      "@> 27884 atoms and 1 coordinate set(s) were parsed in 0.34s.\n",
      "@> Secondary structures were assigned to 1796 residues.\n"
     ]
    }
   ],
   "source": [
    "Nb_area = []\n",
    "name1 =[]\n",
    "\n",
    "for idx,row in seq_data.iterrows():\n",
    "    try:\n",
    "        pdb = row['pdb']\n",
    "        name = row['Name']\n",
    "        VH_chain = row['VH Chain']\n",
    "        Ag_chain = row['RBD Chain']\n",
    "        \n",
    "        VH_Ag_chains = f'chain {VH_chain} {Ag_chain}'\n",
    "        VH_chain = f'chain {VH_chain}'\n",
    "        Ag_chain = f'chain {Ag_chain}'\n",
    "        \n",
    "        filename = os.path.join(\"Nbs\",f\"{pdb.lower()}.pdb\")\n",
    "        \n",
    "        struct = prody.parsePDB(filename)\n",
    "        \n",
    "#         complex_strcture = freesasa.Structure(filename)\n",
    "#         complex_structure_result = freesasa.calc(complex_strcture)\n",
    "        \n",
    "#         VH_area_complex = freesasa.selectArea([f\"s1,chain {Nb_chain}\"],complex_strcture,complex_structure_result)['s1']\n",
    "\n",
    "#         VH_chain = struct.select(f\"chain {Nb_chain}\").copy()\n",
    "        \n",
    "#         prody.writePDB(f\"BuriedArea/{pdb}_Nb_H.pdb\",VH_chain)\n",
    "        \n",
    "#         H_chain_structure = freesasa.Structure(f\"BuriedArea/{pdb}_Nb_H.pdb\")\n",
    "#         VH_area_tot = freesasa.calc(H_chain_structure).totalArea()\n",
    "\n",
    "\n",
    "#         BuriedArea = VH_area_tot-VH_area_complex\n",
    "\n",
    "        strcut_RBD    = struct.select(Ag_chain).copy()\n",
    "        struct_RBD_VH = struct.select(VH_Ag_chains).copy()\n",
    "        strcut_VH    = struct.select(VH_chain).copy()\n",
    "        prody.writePDB(f\"BuriedArea/annotated_{pdb}_A.pdb\",strcut_RBD)\n",
    "        prody.writePDB(f\"BuriedArea/annotated_{pdb}_A_H.pdb\",struct_RBD_VH)\n",
    "        prody.writePDB(f\"BuriedArea/annotated_{pdb}_H.pdb\",strcut_VH)\n",
    "\n",
    "        RBD_struct = freesasa.Structure(f\"BuriedArea/annotated_{pdb}_A.pdb\")\n",
    "        RBD_apo_area = freesasa.calc(RBD_struct).totalArea()\n",
    "\n",
    "        VH_apo_struct = freesasa.Structure(f\"BuriedArea/annotated_{pdb}_H.pdb\")\n",
    "        VH_apo_area = freesasa.calc(VH_apo_struct).totalArea()\n",
    "\n",
    "        VH_bound_struct = freesasa.Structure(f\"BuriedArea/annotated_{pdb}_A_H.pdb\")\n",
    "        VH_bound_area = freesasa.calc(VH_bound_struct).totalArea()\n",
    "\n",
    "        VH_buried = (RBD_apo_area+VH_apo_area-VH_bound_area)/2\n",
    "            #name2.append(name)\n",
    "        \n",
    "        #print(f'{name}:{VH_area_tot}-{VH_area_complex}')\n",
    "        Nb_area.append(VH_buried)\n",
    "        name1.append(name)\n",
    "    except Exception as e:\n",
    "        print(f\"sth wrong with {pdb}\")\n",
    "        print(traceback.print_exc())"
   ]
  },
  {
   "cell_type": "code",
   "execution_count": 9,
   "metadata": {
    "scrolled": true
   },
   "outputs": [
    {
     "name": "stderr",
     "output_type": "stream",
     "text": [
      "@> 4950 atoms and 1 coordinate set(s) were parsed in 0.05s.\n",
      "@> Secondary structures were assigned to 103 residues.\n",
      "@> 4895 atoms and 1 coordinate set(s) were parsed in 0.05s.\n",
      "@> Secondary structures were assigned to 137 residues.\n"
     ]
    },
    {
     "name": "stdout",
     "output_type": "stream",
     "text": [
      "5p182\n",
      "10980.753191038491,6788.340753679161,16449.15368013941\n"
     ]
    },
    {
     "name": "stderr",
     "output_type": "stream",
     "text": [
      "@> 2751 atoms and 1 coordinate set(s) were parsed in 0.04s.\n"
     ]
    },
    {
     "name": "stdout",
     "output_type": "stream",
     "text": [
      "4p74\n",
      "11087.245043957675,6604.526075161074,16207.06049846071\n"
     ]
    },
    {
     "name": "stderr",
     "output_type": "stream",
     "text": [
      "@> 2470 atoms and 1 coordinate set(s) were parsed in 0.03s.\n",
      "@> Secondary structures were assigned to 136 residues.\n"
     ]
    },
    {
     "name": "stdout",
     "output_type": "stream",
     "text": [
      "Nb117\n",
      "10077.685869810242,6199.549508019335,14944.273100900566\n"
     ]
    },
    {
     "name": "stderr",
     "output_type": "stream",
     "text": [
      "@> 4964 atoms and 1 coordinate set(s) were parsed in 0.05s.\n"
     ]
    },
    {
     "name": "stdout",
     "output_type": "stream",
     "text": [
      "5p38\n",
      "10284.785715389795,6393.139828467808,15539.022653187032\n"
     ]
    },
    {
     "name": "stderr",
     "output_type": "stream",
     "text": [
      "@> 3480 atoms and 1 coordinate set(s) were parsed in 0.03s.\n"
     ]
    },
    {
     "name": "stdout",
     "output_type": "stream",
     "text": [
      "5p60\n",
      "10415.63446383517,6468.241524755075,15262.230880945408\n"
     ]
    },
    {
     "name": "stderr",
     "output_type": "stream",
     "text": [
      "@> 2518 atoms and 1 coordinate set(s) were parsed in 0.04s.\n"
     ]
    },
    {
     "name": "stdout",
     "output_type": "stream",
     "text": [
      "5p35\n",
      "10888.218507609936,6949.8207935259625,16568.212538985128\n"
     ]
    },
    {
     "name": "stderr",
     "output_type": "stream",
     "text": [
      "@> 4969 atoms and 1 coordinate set(s) were parsed in 0.05s.\n",
      "@> Secondary structures were assigned to 98 residues.\n"
     ]
    },
    {
     "name": "stdout",
     "output_type": "stream",
     "text": [
      "5p118\n",
      "10049.103117897917,6104.623762604543,14674.941948332767\n"
     ]
    },
    {
     "name": "stderr",
     "output_type": "stream",
     "text": [
      "@> 2458 atoms and 1 coordinate set(s) were parsed in 0.02s.\n"
     ]
    },
    {
     "name": "stdout",
     "output_type": "stream",
     "text": [
      "5p93\n",
      "10719.785338485692,6775.558569436359,16229.96151670374\n"
     ]
    },
    {
     "name": "stderr",
     "output_type": "stream",
     "text": [
      "@> 2438 atoms and 1 coordinate set(s) were parsed in 0.02s.\n",
      "@> Secondary structures were assigned to 134 residues.\n"
     ]
    },
    {
     "name": "stdout",
     "output_type": "stream",
     "text": [
      "4p56\n",
      "10605.36349275978,6549.283273861441,15953.549913334735\n"
     ]
    },
    {
     "name": "stderr",
     "output_type": "stream",
     "text": [
      "@> 4858 atoms and 1 coordinate set(s) were parsed in 0.05s.\n"
     ]
    },
    {
     "name": "stdout",
     "output_type": "stream",
     "text": [
      "5p132\n",
      "10614.425213739496,6421.34760066651,15446.910855783488\n"
     ]
    },
    {
     "name": "stderr",
     "output_type": "stream",
     "text": [
      "@> 2427 atoms and 1 coordinate set(s) were parsed in 0.02s.\n",
      "@> Secondary structures were assigned to 117 residues.\n"
     ]
    },
    {
     "name": "stdout",
     "output_type": "stream",
     "text": [
      "Nb113\n",
      "10589.936455029534,6729.174601014233,15849.999358503213\n"
     ]
    },
    {
     "name": "stderr",
     "output_type": "stream",
     "text": [
      "@> 4914 atoms and 1 coordinate set(s) were parsed in 0.05s.\n",
      "@> Secondary structures were assigned to 88 residues.\n"
     ]
    },
    {
     "name": "stdout",
     "output_type": "stream",
     "text": [
      "5p179\n",
      "9455.715226727481,6053.405992442459,14669.773801979007\n"
     ]
    },
    {
     "name": "stderr",
     "output_type": "stream",
     "text": [
      "@> 4918 atoms and 1 coordinate set(s) were parsed in 0.05s.\n"
     ]
    },
    {
     "name": "stdout",
     "output_type": "stream",
     "text": [
      "5p64\n",
      "10893.23743469216,6616.244759147303,16118.260665971464\n",
      "5p182_old\n",
      "10582.073945417033,6120.087557872787,16060.696453969687\n"
     ]
    }
   ],
   "source": [
    "Pan_Nb_area = []\n",
    "pan_name1 =[]\n",
    "\n",
    "for idx,row in seq_data_pan.iterrows():\n",
    "    try:\n",
    "        pdb = row['pdb']\n",
    "        name = row['Name']\n",
    "        VH_chain = row['VH Chain']\n",
    "        Ag_chain = row['RBD Chain']\n",
    "        filename = os.path.join(\"Nbs\",f\"{pdb.lower()}\")\n",
    "        VH_Ag_chains = f'chain {VH_chain} {Ag_chain}'\n",
    "        VH_chain = f'chain {VH_chain}'\n",
    "        Ag_chain = f'chain {Ag_chain}'\n",
    "        \n",
    "        filename = os.path.join(\"Nbs\",f\"{pdb.lower()}\")\n",
    "        \n",
    "        struct_RBD_VHL= prody.parsePDB(filename)\n",
    "        \n",
    "        strcut_RBD    = struct_RBD_VHL.select(Ag_chain).copy()\n",
    "        struct_RBD_VH = struct_RBD_VHL.select(VH_Ag_chains).copy()\n",
    "        strcut_VH    = struct_RBD_VHL.select(VH_chain).copy()\n",
    "        prody.writePDB(f\"BuriedArea/annotated_{pdb}_A.pdb\",strcut_RBD)\n",
    "        prody.writePDB(f\"BuriedArea/annotated_{pdb}_A_H.pdb\",struct_RBD_VH)\n",
    "        prody.writePDB(f\"BuriedArea/annotated_{pdb}_H.pdb\",strcut_VH)\n",
    "\n",
    "        RBD_struct = freesasa.Structure(f\"BuriedArea/annotated_{pdb}_A.pdb\")\n",
    "        RBD_apo_area = freesasa.calc(RBD_struct).totalArea()\n",
    "\n",
    "        VH_apo_struct = freesasa.Structure(f\"BuriedArea/annotated_{pdb}_H.pdb\")\n",
    "        VH_apo_area = freesasa.calc(VH_apo_struct).totalArea()\n",
    "\n",
    "        VH_bound_struct = freesasa.Structure(f\"BuriedArea/annotated_{pdb}_A_H.pdb\")\n",
    "        VH_bound_area = freesasa.calc(VH_bound_struct).totalArea()\n",
    "        print(name)\n",
    "        print(f\"{RBD_apo_area},{VH_apo_area},{VH_bound_area}\")\n",
    "        VH_buried = (RBD_apo_area+VH_apo_area-VH_bound_area)/2\n",
    "        \n",
    "        Pan_Nb_area.append(VH_buried)\n",
    "        pan_name1.append(name)\n",
    "    except Exception as e:\n",
    "        print(f\"sth wrong with {pdb}\")\n",
    "        print(traceback.print_exc())"
   ]
  },
  {
   "cell_type": "code",
   "execution_count": 11,
   "metadata": {},
   "outputs": [],
   "source": [
    "#Nb_area = pd.DataFrame({\"Name\":name1,'BuriedArea':Nb_area})\n",
    "#Nb_area['RBS'] = Nb_area['Name'].apply(lambda x: Nb_class[x])\n",
    "Pan_Nb_area = pd.DataFrame({\"Name\":pan_name1,'BuriedArea':Pan_Nb_area})"
   ]
  },
  {
   "cell_type": "code",
   "execution_count": 12,
   "metadata": {},
   "outputs": [
    {
     "data": {
      "text/html": [
       "<div>\n",
       "<style scoped>\n",
       "    .dataframe tbody tr th:only-of-type {\n",
       "        vertical-align: middle;\n",
       "    }\n",
       "\n",
       "    .dataframe tbody tr th {\n",
       "        vertical-align: top;\n",
       "    }\n",
       "\n",
       "    .dataframe thead th {\n",
       "        text-align: right;\n",
       "    }\n",
       "</style>\n",
       "<table border=\"1\" class=\"dataframe\">\n",
       "  <thead>\n",
       "    <tr style=\"text-align: right;\">\n",
       "      <th></th>\n",
       "      <th>Name</th>\n",
       "      <th>BuriedArea</th>\n",
       "    </tr>\n",
       "  </thead>\n",
       "  <tbody>\n",
       "    <tr>\n",
       "      <th>0</th>\n",
       "      <td>5p182</td>\n",
       "      <td>659.970132</td>\n",
       "    </tr>\n",
       "    <tr>\n",
       "      <th>1</th>\n",
       "      <td>4p74</td>\n",
       "      <td>742.355310</td>\n",
       "    </tr>\n",
       "    <tr>\n",
       "      <th>2</th>\n",
       "      <td>Nb117</td>\n",
       "      <td>666.481138</td>\n",
       "    </tr>\n",
       "    <tr>\n",
       "      <th>3</th>\n",
       "      <td>5p38</td>\n",
       "      <td>569.451445</td>\n",
       "    </tr>\n",
       "    <tr>\n",
       "      <th>4</th>\n",
       "      <td>5p60</td>\n",
       "      <td>810.822554</td>\n",
       "    </tr>\n",
       "    <tr>\n",
       "      <th>5</th>\n",
       "      <td>5p35</td>\n",
       "      <td>634.913381</td>\n",
       "    </tr>\n",
       "    <tr>\n",
       "      <th>6</th>\n",
       "      <td>5p118</td>\n",
       "      <td>739.392466</td>\n",
       "    </tr>\n",
       "    <tr>\n",
       "      <th>7</th>\n",
       "      <td>5p93</td>\n",
       "      <td>632.691196</td>\n",
       "    </tr>\n",
       "    <tr>\n",
       "      <th>8</th>\n",
       "      <td>4p56</td>\n",
       "      <td>600.548427</td>\n",
       "    </tr>\n",
       "    <tr>\n",
       "      <th>9</th>\n",
       "      <td>5p132</td>\n",
       "      <td>794.430979</td>\n",
       "    </tr>\n",
       "    <tr>\n",
       "      <th>10</th>\n",
       "      <td>Nb113</td>\n",
       "      <td>734.555849</td>\n",
       "    </tr>\n",
       "    <tr>\n",
       "      <th>11</th>\n",
       "      <td>5p179</td>\n",
       "      <td>419.673709</td>\n",
       "    </tr>\n",
       "    <tr>\n",
       "      <th>12</th>\n",
       "      <td>5p64</td>\n",
       "      <td>695.610764</td>\n",
       "    </tr>\n",
       "    <tr>\n",
       "      <th>13</th>\n",
       "      <td>5p182_old</td>\n",
       "      <td>320.732525</td>\n",
       "    </tr>\n",
       "  </tbody>\n",
       "</table>\n",
       "</div>"
      ],
      "text/plain": [
       "         Name  BuriedArea\n",
       "0       5p182  659.970132\n",
       "1        4p74  742.355310\n",
       "2       Nb117  666.481138\n",
       "3        5p38  569.451445\n",
       "4        5p60  810.822554\n",
       "5        5p35  634.913381\n",
       "6       5p118  739.392466\n",
       "7        5p93  632.691196\n",
       "8        4p56  600.548427\n",
       "9       5p132  794.430979\n",
       "10      Nb113  734.555849\n",
       "11      5p179  419.673709\n",
       "12       5p64  695.610764\n",
       "13  5p182_old  320.732525"
      ]
     },
     "execution_count": 12,
     "metadata": {},
     "output_type": "execute_result"
    }
   ],
   "source": [
    "Pan_Nb_area"
   ]
  },
  {
   "cell_type": "code",
   "execution_count": 39,
   "metadata": {},
   "outputs": [
    {
     "data": {
      "image/png": "[encoded data removed]",
      "text/plain": [
       "<Figure size 576x288 with 1 Axes>"
      ]
     },
     "metadata": {
      "needs_background": "light"
     },
     "output_type": "display_data"
    }
   ],
   "source": [
    "plt.figure(figsize=(8,4))\n",
    "plt.boxplot([list(Pan_Nb_area['BuriedArea']),list(Nb_area[Nb_area['RBS']!=1]['BuriedArea']),list(Nb_area[Nb_area['RBS']==1]['BuriedArea'])])\n",
    "plt.xticks([1,2,3],['PanNb','Nb_NonRBS','Nb_RBS'])\n",
    "plt.ylabel(\"BuriedArea($A^2$)\")\n",
    "sns.despine()"
   ]
  },
  {
   "cell_type": "code",
   "execution_count": 10,
   "metadata": {},
   "outputs": [],
   "source": [
    "pd.concat([Nb_area,Pan_Nb_area]).to_csv(\"BuriedArea.csv\")"
   ]
  },
  {
   "cell_type": "code",
   "execution_count": 83,
   "metadata": {},
   "outputs": [],
   "source": [
    "seq_data_Ab = pd.read_excel(\"SARS2_Abs.xlsx\")"
   ]
  },
  {
   "cell_type": "code",
   "execution_count": 46,
   "metadata": {},
   "outputs": [
    {
     "data": {
      "text/plain": [
       "Index(['Name', 'Ab or Nb', 'Binds to', 'Doesn't Bind to', 'Neutralising Vs',\n",
       "       'Not Neutralising Vs', 'Protein + Epitope', 'Origin', 'VH or VHH', 'VL',\n",
       "       'Heavy V Gene', 'Heavy J Gene', 'Light V Gene', 'Light J Gene', 'CDRH3',\n",
       "       'CDRL3', 'Structures', 'Sources', 'Date Added', 'Last Updated',\n",
       "       'Update Description', 'Notes/Following Up?', 'Species', 'Pan', 'pdb'],\n",
       "      dtype='object')"
      ]
     },
     "execution_count": 46,
     "metadata": {},
     "output_type": "execute_result"
    }
   ],
   "source": [
    "seq_data_Ab.columns"
   ]
  },
  {
   "cell_type": "code",
   "execution_count": 107,
   "metadata": {
    "scrolled": true
   },
   "outputs": [
    {
     "name": "stderr",
     "output_type": "stream",
     "text": [
      "@> 4936 atoms and 1 coordinate set(s) were parsed in 0.05s.\n"
     ]
    },
    {
     "name": "stdout",
     "output_type": "stream",
     "text": [
      "CR3022\n",
      "chain C-chain H-chain L\n",
      "CR3022:10502.77+20193.01-28718.55 = 988.61\n",
      "CR3022:10502.77+11845.36-21141.54 = 603.30\n",
      "CR3022:10502.77+12091.52-21737.35 = 428.47\n",
      "S309\n",
      "chain A-chain H-chain L\n"
     ]
    },
    {
     "name": "stderr",
     "output_type": "stream",
     "text": [
      "@> 28116 atoms and 1 coordinate set(s) were parsed in 0.22s.\n",
      "@> 9584 atoms and 1 coordinate set(s) were parsed in 0.08s.\n"
     ]
    },
    {
     "name": "stdout",
     "output_type": "stream",
     "text": [
      "S309:48291.65+10159.08-56897.25 = 776.74\n",
      "S309:48291.65+6384.80-53387.35 = 644.55\n",
      "S309:48291.65+5217.49-53132.82 = 188.16\n",
      "CC12.1\n",
      "chain A-chain H-chain L\n"
     ]
    },
    {
     "name": "stderr",
     "output_type": "stream",
     "text": [
      "@> 10309 atoms and 1 coordinate set(s) were parsed in 0.09s.\n"
     ]
    },
    {
     "name": "stdout",
     "output_type": "stream",
     "text": [
      "CC12.1:10104.08+18895.31-26362.32 = 1318.53\n",
      "CC12.1:10104.08+11168.33-19668.53 = 801.94\n",
      "CC12.1:10104.08+11332.25-20259.59 = 588.37\n",
      "CC12.3\n",
      "chain A-chain H-chain L\n",
      "CC12.3:10927.52+19774.80-28929.74 = 886.29\n",
      "CC12.3:10927.52+11709.44-21229.68 = 703.64\n",
      "CC12.3:10927.52+11434.02-21996.24 = 182.65\n",
      "C105\n",
      "chain C-chain H-chain L\n"
     ]
    },
    {
     "name": "stderr",
     "output_type": "stream",
     "text": [
      "@> 26760 atoms and 1 coordinate set(s) were parsed in 0.25s.\n",
      "@> Secondary structures were assigned to 1577 residues.\n",
      "@> 7998 atoms and 1 coordinate set(s) were parsed in 0.07s.\n"
     ]
    },
    {
     "name": "stdout",
     "output_type": "stream",
     "text": [
      "C105:50432.09+9904.59-58524.34 = 906.17\n",
      "C105:50432.09+6019.04-55117.31 = 666.91\n",
      "C105:50432.09+5752.24-55648.56 = 267.88\n",
      "REGN10933\n",
      "chain E-chain B-chain D\n"
     ]
    },
    {
     "name": "stderr",
     "output_type": "stream",
     "text": [
      "@> 7998 atoms and 1 coordinate set(s) were parsed in 0.09s.\n"
     ]
    },
    {
     "name": "stdout",
     "output_type": "stream",
     "text": [
      "REGN10933:10999.91+20267.22-29426.38 = 920.37\n",
      "REGN10933:10999.91+11610.84-21073.10 = 768.82\n",
      "REGN10933:10999.91+11797.08-22426.13 = 185.43\n",
      "REGN10987\n",
      "chain E-chain C-chain A\n"
     ]
    },
    {
     "name": "stderr",
     "output_type": "stream",
     "text": [
      "@> 4897 atoms and 1 coordinate set(s) were parsed in 0.05s.\n"
     ]
    },
    {
     "name": "stdout",
     "output_type": "stream",
     "text": [
      "REGN10987:10999.91+19670.27-29483.15 = 593.52\n",
      "REGN10987:10999.91+11657.32-21652.98 = 502.12\n",
      "REGN10987:10999.91+11469.36-22240.92 = 114.17\n",
      "CV30\n",
      "chain E-chain H-chain L\n",
      "CV30:11394.01+19389.05-28746.89 = 1018.08\n",
      "CV30:11394.01+11428.48-21301.17 = 760.66\n",
      "CV30:11394.01+11337.41-22193.34 = 269.04\n",
      "Fab2-4\n",
      "chain A-chain H-chain L\n"
     ]
    },
    {
     "name": "stderr",
     "output_type": "stream",
     "text": [
      "@> 28482 atoms and 1 coordinate set(s) were parsed in 0.30s.\n",
      "@> 9239 atoms and 1 coordinate set(s) were parsed in 0.09s.\n"
     ]
    },
    {
     "name": "stdout",
     "output_type": "stream",
     "text": [
      "Fab2-4:50127.69+10791.28-59381.85 = 768.57\n",
      "Fab2-4:50127.69+6541.37-55280.32 = 694.37\n",
      "Fab2-4:50127.69+5863.04-55718.32 = 136.21\n",
      "CV07-270\n",
      "chain A-chain H-chain L\n"
     ]
    },
    {
     "name": "stderr",
     "output_type": "stream",
     "text": [
      "@> 4525 atoms and 1 coordinate set(s) were parsed in 0.04s.\n"
     ]
    },
    {
     "name": "stdout",
     "output_type": "stream",
     "text": [
      "CV07-270:9756.80+18643.66-26813.45 = 793.50\n",
      "CV07-270:9756.80+11281.28-19601.16 = 718.46\n",
      "CV07-270:9756.80+10643.13-20169.21 = 115.36\n",
      "CV07-250\n",
      "chain A-chain H-chain L\n"
     ]
    },
    {
     "name": "stderr",
     "output_type": "stream",
     "text": [
      "@> 5839 atoms and 1 coordinate set(s) were parsed in 0.06s.\n"
     ]
    },
    {
     "name": "stdout",
     "output_type": "stream",
     "text": [
      "CV07-250:8294.66+19031.42-25563.42 = 881.33\n",
      "CV07-250:8294.66+11503.84-18968.04 = 415.23\n",
      "CV07-250:8294.66+10851.79-18041.39 = 552.53\n",
      "EY6A\n",
      "chain E-chain H-chain L\n",
      "EY6A:10250.40+20081.02-28427.06 = 952.18\n",
      "EY6A:10250.40+12397.13-21442.23 = 602.64\n",
      "EY6A:10250.40+11655.62-21009.12 = 448.45\n",
      "47D11\n",
      "chain B-chain H-chain L\n"
     ]
    },
    {
     "name": "stderr",
     "output_type": "stream",
     "text": [
      "@> 27358 atoms and 1 coordinate set(s) were parsed in 0.23s.\n",
      "@> 9536 atoms and 1 coordinate set(s) were parsed in 0.08s.\n"
     ]
    },
    {
     "name": "stdout",
     "output_type": "stream",
     "text": [
      "47D11:56233.46+11473.20-66076.93 = 814.87\n",
      "47D11:56233.46+7074.70-62098.57 = 604.80\n",
      "47D11:56233.46+6007.69-61765.15 = 238.00\n",
      "STE90-C11\n",
      "chain E-chain H-chain L\n"
     ]
    },
    {
     "name": "stderr",
     "output_type": "stream",
     "text": [
      "@> 5041 atoms and 1 coordinate set(s) were parsed in 0.04s.\n"
     ]
    },
    {
     "name": "stdout",
     "output_type": "stream",
     "text": [
      "STE90-C11:9521.53+19560.46-26796.80 = 1142.60\n",
      "STE90-C11:9521.53+11158.25-19322.71 = 678.54\n",
      "STE90-C11:9521.53+11584.89-20165.91 = 470.25\n",
      "COVOX-150\n",
      "chain E-chain H-chain L\n"
     ]
    },
    {
     "name": "stderr",
     "output_type": "stream",
     "text": [
      "@> 4883 atoms and 1 coordinate set(s) were parsed in 0.04s.\n"
     ]
    },
    {
     "name": "stdout",
     "output_type": "stream",
     "text": [
      "COVOX-150:10206.01+20043.16-27800.04 = 1224.57\n",
      "COVOX-150:10206.01+11580.56-20290.09 = 748.24\n",
      "COVOX-150:10206.01+11768.68-20950.73 = 511.98\n",
      "COVOX-158\n",
      "chain E-chain H-chain L\n"
     ]
    },
    {
     "name": "stderr",
     "output_type": "stream",
     "text": [
      "@> 13534 atoms and 1 coordinate set(s) were parsed in 0.13s.\n"
     ]
    },
    {
     "name": "stdout",
     "output_type": "stream",
     "text": [
      "COVOX-158:10222.46+19244.14-27274.64 = 1095.98\n",
      "COVOX-158:10222.46+11170.96-20073.91 = 659.75\n",
      "COVOX-158:10222.46+11311.26-20621.43 = 456.14\n",
      "COVOX-45\n",
      "chain X-chain C-chain D\n"
     ]
    },
    {
     "name": "stderr",
     "output_type": "stream",
     "text": [
      "@> 3318 atoms and 1 coordinate set(s) were parsed in 0.03s.\n"
     ]
    },
    {
     "name": "stdout",
     "output_type": "stream",
     "text": [
      "COVOX-45:10262.24+19599.15-27744.45 = 1058.47\n",
      "COVOX-45:10262.24+11450.67-20275.92 = 718.50\n",
      "COVOX-45:10262.24+11295.68-20820.81 = 368.56\n",
      "COVOX-269\n",
      "chain E-chain H-chain L\n"
     ]
    },
    {
     "name": "stderr",
     "output_type": "stream",
     "text": [
      "@> 16420 atoms and 1 coordinate set(s) were parsed in 0.14s.\n"
     ]
    },
    {
     "name": "stdout",
     "output_type": "stream",
     "text": [
      "COVOX-269:10201.75+10518.72-18219.29 = 1250.59\n",
      "COVOX-269:10201.75+6177.95-14771.44 = 804.13\n",
      "COVOX-269:10201.75+5822.20-15066.97 = 478.49\n",
      "COVOX-253\n",
      "chain E-chain H-chain L\n",
      "COVOX-253:9560.34+19652.52-27863.52 = 674.67\n",
      "COVOX-253:9560.34+11561.87-20024.50 = 548.85\n",
      "COVOX-253:9560.34+11421.21-20626.72 = 177.41\n",
      "COVOX-75\n",
      "chain R-chain A-chain B\n"
     ]
    },
    {
     "name": "stderr",
     "output_type": "stream",
     "text": [
      "@> 16280 atoms and 1 coordinate set(s) were parsed in 0.26s.\n",
      "@> 4820 atoms and 1 coordinate set(s) were parsed in 0.04s.\n"
     ]
    },
    {
     "name": "stdout",
     "output_type": "stream",
     "text": [
      "COVOX-75:9961.34+20210.92-28697.12 = 737.57\n",
      "COVOX-75:9961.34+12013.47-21060.28 = 457.27\n",
      "COVOX-75:9961.34+11499.46-20734.61 = 363.10\n",
      "P2B-2F6\n",
      "chain E-chain H-chain L\n",
      "P2B-2F6:10196.32+19468.35-28440.38 = 612.14\n",
      "P2B-2F6:10196.32+11626.98-20825.27 = 499.01\n",
      "P2B-2F6:10196.32+11509.92-21418.44 = 143.90\n",
      "BD23\n",
      "chain B-chain H-chain L\n"
     ]
    },
    {
     "name": "stderr",
     "output_type": "stream",
     "text": [
      "@> 24497 atoms and 1 coordinate set(s) were parsed in 0.22s.\n",
      "@> 5320 atoms and 1 coordinate set(s) were parsed in 0.05s.\n"
     ]
    },
    {
     "name": "stdout",
     "output_type": "stream",
     "text": [
      "BD23:52121.68+10069.06-60650.06 = 770.34\n",
      "BD23:52121.68+6240.93-56879.87 = 741.37\n",
      "BD23:52121.68+5489.03-57546.08 = 32.32\n",
      "B38\n",
      "chain A-chain H-chain L\n"
     ]
    },
    {
     "name": "stderr",
     "output_type": "stream",
     "text": [
      "@> 9670 atoms and 1 coordinate set(s) were parsed in 0.08s.\n"
     ]
    },
    {
     "name": "stdout",
     "output_type": "stream",
     "text": [
      "B38:10215.62+19945.17-27709.43 = 1225.69\n",
      "B38:10215.62+11560.25-20322.78 = 726.54\n",
      "B38:10215.62+11570.19-20778.01 = 503.91\n",
      "CB6\n",
      "chain A-chain H-chain L\n",
      "CB6:10199.34+18929.07-26989.52 = 1069.45\n",
      "CB6:10199.34+11258.44-19970.63 = 743.58\n",
      "CB6:10199.34+11279.28-20800.16 = 339.23\n",
      "H014\n",
      "chain A-chain E-chain D\n"
     ]
    },
    {
     "name": "stderr",
     "output_type": "stream",
     "text": [
      "@> 31254 atoms and 1 coordinate set(s) were parsed in 0.27s.\n",
      "@> 4715 atoms and 1 coordinate set(s) were parsed in 0.05s.\n"
     ]
    },
    {
     "name": "stdout",
     "output_type": "stream",
     "text": [
      "H014:52101.20+18469.29-68615.60 = 977.44\n",
      "H014:52101.20+10762.34-61467.87 = 697.83\n",
      "H014:52101.20+11371.09-62838.17 = 317.05\n",
      "P2C-1F11\n",
      "chain E-chain H-chain L\n"
     ]
    },
    {
     "name": "stderr",
     "output_type": "stream",
     "text": [
      "@> 4770 atoms and 1 coordinate set(s) were parsed in 0.04s.\n"
     ]
    },
    {
     "name": "stdout",
     "output_type": "stream",
     "text": [
      "P2C-1F11:10104.60+19457.44-27671.43 = 945.31\n",
      "P2C-1F11:10104.60+10998.12-19592.16 = 755.28\n",
      "P2C-1F11:10104.60+11785.17-21439.25 = 225.26\n",
      "P2C-1A3\n",
      "chain E-chain H-chain L\n"
     ]
    },
    {
     "name": "stderr",
     "output_type": "stream",
     "text": [
      "@> 4729 atoms and 1 coordinate set(s) were parsed in 0.04s.\n"
     ]
    },
    {
     "name": "stdout",
     "output_type": "stream",
     "text": [
      "P2C-1A3:10430.57+19035.35-27734.39 = 865.77\n",
      "P2C-1A3:10430.57+11107.89-20303.80 = 617.33\n",
      "P2C-1A3:10430.57+11219.80-21028.97 = 310.70\n",
      "BD-604\n",
      "chain R-chain H-chain L\n"
     ]
    },
    {
     "name": "stderr",
     "output_type": "stream",
     "text": [
      "@> 4687 atoms and 1 coordinate set(s) were parsed in 0.04s.\n"
     ]
    },
    {
     "name": "stdout",
     "output_type": "stream",
     "text": [
      "BD-604:9910.81+19571.14-27249.76 = 1116.10\n",
      "BD-604:9910.81+11548.51-19930.85 = 764.24\n",
      "BD-604:9910.81+11611.19-20771.86 = 375.07\n",
      "BD-629\n",
      "chain R-chain H-chain L\n"
     ]
    },
    {
     "name": "stderr",
     "output_type": "stream",
     "text": [
      "@> 4893 atoms and 1 coordinate set(s) were parsed in 0.04s.\n"
     ]
    },
    {
     "name": "stdout",
     "output_type": "stream",
     "text": [
      "BD-629:9932.21+19260.30-27087.21 = 1052.65\n",
      "BD-629:9932.21+11017.13-19222.95 = 863.20\n",
      "BD-629:9932.21+11392.98-20946.00 = 189.60\n",
      "BD-236\n",
      "chain R-chain H-chain L\n",
      "BD-236:9874.51+19311.09-27008.07 = 1088.77\n",
      "BD-236:9874.51+11177.21-19634.69 = 708.52\n",
      "BD-236:9874.51+11441.51-20453.43 = 431.29\n",
      "BD-368-2\n",
      "chain A-chain D-chain E\n"
     ]
    },
    {
     "name": "stderr",
     "output_type": "stream",
     "text": [
      "@> 29029 atoms and 1 coordinate set(s) were parsed in 0.27s.\n",
      "@> 9551 atoms and 1 coordinate set(s) were parsed in 0.08s.\n"
     ]
    },
    {
     "name": "stdout",
     "output_type": "stream",
     "text": [
      "BD-368-2:53379.67+11571.17-63510.80 = 720.02\n",
      "BD-368-2:53379.67+6612.48-58842.27 = 574.94\n",
      "BD-368-2:53379.67+6345.19-59428.90 = 147.98\n",
      "P5A-1D2\n",
      "chain E-chain H-chain L\n"
     ]
    },
    {
     "name": "stderr",
     "output_type": "stream",
     "text": [
      "@> 5078 atoms and 1 coordinate set(s) were parsed in 0.05s.\n"
     ]
    },
    {
     "name": "stdout",
     "output_type": "stream",
     "text": [
      "P5A-1D2:10277.36+19115.37-27397.66 = 997.53\n",
      "P5A-1D2:10277.36+11572.41-20167.68 = 841.05\n",
      "P5A-1D2:10277.36+10963.84-20879.01 = 181.09\n",
      "P5A-3C8\n",
      "chain E-chain H-chain L\n"
     ]
    },
    {
     "name": "stderr",
     "output_type": "stream",
     "text": [
      "@> 5002 atoms and 1 coordinate set(s) were parsed in 0.04s.\n"
     ]
    },
    {
     "name": "stdout",
     "output_type": "stream",
     "text": [
      "P5A-3C8:10768.01+19916.90-28314.60 = 1185.15\n",
      "P5A-3C8:10768.01+11736.19-21095.21 = 704.49\n",
      "P5A-3C8:10768.01+11861.05-21575.58 = 526.74\n",
      "P22A-1D1\n",
      "chain E-chain H-chain L\n"
     ]
    },
    {
     "name": "stderr",
     "output_type": "stream",
     "text": [
      "@> 5398 atoms and 1 coordinate set(s) were parsed in 0.06s.\n"
     ]
    },
    {
     "name": "stdout",
     "output_type": "stream",
     "text": [
      "P22A-1D1:9943.00+19209.26-26888.61 = 1131.82\n",
      "P22A-1D1:9943.00+10942.88-19393.39 = 746.24\n",
      "P22A-1D1:9943.00+11662.70-20773.69 = 416.00\n",
      "P4A1\n",
      "chain C-chain A-chain B\n"
     ]
    },
    {
     "name": "stderr",
     "output_type": "stream",
     "text": [
      "@> 4985 atoms and 1 coordinate set(s) were parsed in 0.05s.\n"
     ]
    },
    {
     "name": "stdout",
     "output_type": "stream",
     "text": [
      "P4A1:10153.66+19772.30-27572.70 = 1176.63\n",
      "P4A1:10153.66+11803.64-20371.84 = 792.73\n",
      "P4A1:10153.66+11405.02-20714.94 = 421.88\n",
      "Regdanvimab\n",
      "chain A-chain H-chain L\n",
      "Regdanvimab:10572.14+20416.42-29144.73 = 921.91\n",
      "Regdanvimab:10572.14+12343.13-21215.71 = 849.78\n",
      "Regdanvimab:10572.14+11866.37-22200.52 = 119.00\n",
      "P17\n",
      "chain A-chain H-chain L\n"
     ]
    },
    {
     "name": "stderr",
     "output_type": "stream",
     "text": [
      "@> 30760 atoms and 1 coordinate set(s) were parsed in 0.25s.\n"
     ]
    },
    {
     "name": "stdout",
     "output_type": "stream",
     "text": [
      "P17:55227.02+10584.87-64103.04 = 854.43\n",
      "P17:55227.02+6773.75-60672.31 = 664.23\n",
      "P17:55227.02+5507.58-60248.64 = 242.98\n",
      "HB27\n",
      "chain A-chain E-chain D\n"
     ]
    },
    {
     "name": "stderr",
     "output_type": "stream",
     "text": [
      "@> 29979 atoms and 1 coordinate set(s) were parsed in 0.26s.\n"
     ]
    },
    {
     "name": "stdout",
     "output_type": "stream",
     "text": [
      "HB27:51930.88+10508.63-61068.35 = 685.58\n",
      "HB27:51930.88+6258.61-57212.40 = 488.54\n",
      "HB27:51930.88+5834.36-57300.89 = 232.17\n",
      "P2B-1A1\n",
      "chain A-chain H-chain L\n"
     ]
    },
    {
     "name": "stderr",
     "output_type": "stream",
     "text": [
      "@> 30946 atoms and 1 coordinate set(s) were parsed in 0.30s.\n"
     ]
    },
    {
     "name": "stdout",
     "output_type": "stream",
     "text": [
      "P2B-1A1:53238.27+19808.71-70927.21 = 1059.89\n",
      "P2B-1A1:53238.27+11732.16-64340.85 = 314.79\n",
      "P2B-1A1:53238.27+11461.23-63128.33 = 785.58\n",
      "P2B-1A10\n",
      "chain A-chain H-chain K\n"
     ]
    },
    {
     "name": "stderr",
     "output_type": "stream",
     "text": [
      "@> 31016 atoms and 1 coordinate set(s) were parsed in 0.29s.\n"
     ]
    },
    {
     "name": "stdout",
     "output_type": "stream",
     "text": [
      "P2B-1A10:53211.10+19966.58-70584.09 = 1296.79\n",
      "P2B-1A10:53211.10+11613.88-63221.71 = 801.64\n",
      "P2B-1A10:53211.10+12039.82-64237.15 = 506.88\n",
      "P5A-2G9\n",
      "chain A-chain H-chain L\n"
     ]
    },
    {
     "name": "stderr",
     "output_type": "stream",
     "text": [
      "@> 31060 atoms and 1 coordinate set(s) were parsed in 0.28s.\n"
     ]
    },
    {
     "name": "stdout",
     "output_type": "stream",
     "text": [
      "P5A-2G9:53225.91+20056.44-70872.98 = 1204.69\n",
      "P5A-2G9:53225.91+11768.95-64131.20 = 431.83\n",
      "P5A-2G9:53225.91+11711.61-63339.37 = 799.08\n",
      "P5A-1B6\n",
      "chain A-chain H-chain K\n"
     ]
    },
    {
     "name": "stderr",
     "output_type": "stream",
     "text": [
      "@> 31120 atoms and 1 coordinate set(s) were parsed in 0.27s.\n"
     ]
    },
    {
     "name": "stdout",
     "output_type": "stream",
     "text": [
      "P5A-1B6:53202.33+20740.24-72148.43 = 897.08\n",
      "P5A-1B6:53202.33+12049.28-64193.58 = 529.02\n",
      "P5A-1B6:53202.33+12242.45-64637.93 = 403.43\n",
      "P5A-2G7\n",
      "chain A-chain H-chain L\n"
     ]
    },
    {
     "name": "stderr",
     "output_type": "stream",
     "text": [
      "@> 31004 atoms and 1 coordinate set(s) were parsed in 0.29s.\n"
     ]
    },
    {
     "name": "stdout",
     "output_type": "stream",
     "text": [
      "P5A-2G7:53350.37+20021.18-71895.93 = 737.81\n",
      "P5A-2G7:53350.37+12058.54-64034.93 = 686.99\n",
      "P5A-2G7:53350.37+11602.30-64780.43 = 86.12\n",
      "P5A-1B9\n",
      "chain A-chain H-chain K\n"
     ]
    },
    {
     "name": "stderr",
     "output_type": "stream",
     "text": [
      "@> 34879 atoms and 1 coordinate set(s) were parsed in 0.29s.\n"
     ]
    },
    {
     "name": "stdout",
     "output_type": "stream",
     "text": [
      "P5A-1B9:53365.13+20468.20-72160.03 = 836.65\n",
      "P5A-1B9:53365.13+12211.49-64135.36 = 720.63\n",
      "P5A-1B9:53365.13+12125.26-65122.53 = 183.93\n",
      "P5A-2F11\n",
      "chain A-chain H-chain K\n"
     ]
    },
    {
     "name": "stderr",
     "output_type": "stream",
     "text": [
      "@> 31186 atoms and 1 coordinate set(s) were parsed in 0.25s.\n"
     ]
    },
    {
     "name": "stdout",
     "output_type": "stream",
     "text": [
      "P5A-2F11:53326.67+20971.74-72846.64 = 725.89\n",
      "P5A-2F11:53326.67+12089.53-64297.22 = 559.49\n",
      "P5A-2F11:53326.67+12371.55-65321.34 = 188.44\n",
      "P5A-1B8\n",
      "chain A-chain H-chain K\n"
     ]
    },
    {
     "name": "stderr",
     "output_type": "stream",
     "text": [
      "@> 30886 atoms and 1 coordinate set(s) were parsed in 0.26s.\n"
     ]
    },
    {
     "name": "stdout",
     "output_type": "stream",
     "text": [
      "P5A-1B8:53264.39+19755.56-70982.46 = 1018.74\n",
      "P5A-1B8:53264.39+11328.19-63284.82 = 653.88\n",
      "P5A-1B8:53264.39+11861.78-64388.78 = 368.69\n",
      "P5A-3C12\n",
      "chain A-chain H-chain L\n"
     ]
    },
    {
     "name": "stderr",
     "output_type": "stream",
     "text": [
      "@> 26065 atoms and 1 coordinate set(s) were parsed in 0.22s.\n"
     ]
    },
    {
     "name": "stdout",
     "output_type": "stream",
     "text": [
      "P5A-3C12:53312.88+10542.95-62854.70 = 500.56\n",
      "P5A-3C12:53312.88+6335.05-58858.47 = 394.73\n",
      "P5A-3C12:53312.88+6213.82-59278.13 = 124.29\n",
      "P5A-3A1\n",
      "chain A-chain H-chain L\n"
     ]
    },
    {
     "name": "stderr",
     "output_type": "stream",
     "text": [
      "@> 30966 atoms and 1 coordinate set(s) were parsed in 0.25s.\n"
     ]
    },
    {
     "name": "stdout",
     "output_type": "stream",
     "text": [
      "P5A-3A1:53988.98+20142.98-72412.24 = 859.86\n",
      "P5A-3A1:53988.98+11433.59-64064.31 = 679.13\n",
      "P5A-3A1:53988.98+11891.38-65516.27 = 182.05\n",
      "3C1\n",
      "chain C-chain A-chain B\n"
     ]
    },
    {
     "name": "stderr",
     "output_type": "stream",
     "text": [
      "@> 31623 atoms and 1 coordinate set(s) were parsed in 0.28s.\n",
      "@> 3579 atoms and 1 coordinate set(s) were parsed in 0.03s.\n"
     ]
    },
    {
     "name": "stdout",
     "output_type": "stream",
     "text": [
      "3C1:57989.52+21451.93-77155.05 = 1143.20\n",
      "3C1:57989.52+13094.98-70244.16 = 420.17\n",
      "3C1:57989.52+12635.34-69172.22 = 726.32\n",
      "PR1077\n",
      "chain B-chain H-chain L\n"
     ]
    },
    {
     "name": "stderr",
     "output_type": "stream",
     "text": [
      "@> 3507 atoms and 1 coordinate set(s) were parsed in 0.03s.\n"
     ]
    },
    {
     "name": "stdout",
     "output_type": "stream",
     "text": [
      "PR1077:11016.98+10553.26-19654.76 = 957.74\n",
      "PR1077:11016.98+6335.34-15624.60 = 863.86\n",
      "PR1077:11016.98+6010.12-16621.92 = 202.59\n",
      "PR961\n",
      "chain A-chain H-chain L\n"
     ]
    },
    {
     "name": "stderr",
     "output_type": "stream",
     "text": [
      "@> 3409 atoms and 1 coordinate set(s) were parsed in 0.03s.\n"
     ]
    },
    {
     "name": "stdout",
     "output_type": "stream",
     "text": [
      "PR961:9993.76+10368.88-18801.78 = 780.43\n",
      "PR961:9993.76+6183.98-15000.86 = 588.44\n",
      "PR961:9993.76+5873.98-15271.55 = 298.10\n",
      "PR953\n",
      "chain A-chain H-chain L\n"
     ]
    },
    {
     "name": "stderr",
     "output_type": "stream",
     "text": [
      "@> 5188 atoms and 1 coordinate set(s) were parsed in 0.05s.\n"
     ]
    },
    {
     "name": "stdout",
     "output_type": "stream",
     "text": [
      "PR953:10280.90+10624.83-19776.91 = 564.41\n",
      "PR953:10280.90+6674.17-16172.40 = 391.34\n",
      "PR953:10280.90+5642.70-15456.52 = 233.54\n",
      "MW01\n",
      "chain C-chain A-chain B\n"
     ]
    },
    {
     "name": "stderr",
     "output_type": "stream",
     "text": [
      "@> 4786 atoms and 1 coordinate set(s) were parsed in 0.04s.\n"
     ]
    },
    {
     "name": "stdout",
     "output_type": "stream",
     "text": [
      "MW01:10219.17+19822.44-28110.21 = 965.70\n",
      "MW01:10219.17+12094.00-20773.87 = 769.65\n",
      "MW01:10219.17+11561.72-21283.29 = 248.80\n",
      "MW05\n",
      "chain C-chain A-chain B\n",
      "MW05:10311.01+19598.05-28064.40 = 922.33\n",
      "MW05:10311.01+11744.33-20478.91 = 788.21\n",
      "MW05:10311.01+11163.99-21063.26 = 205.87\n",
      "2H2\n",
      "chain A-chain a-chain b\n"
     ]
    },
    {
     "name": "stderr",
     "output_type": "stream",
     "text": [
      "@> 28144 atoms and 1 coordinate set(s) were parsed in 0.23s.\n",
      "@> 19571 atoms and 1 coordinate set(s) were parsed in 0.16s.\n"
     ]
    },
    {
     "name": "stdout",
     "output_type": "stream",
     "text": [
      "2H2:56333.20+20075.70-73486.05 = 1461.43\n",
      "2H2:56333.20+11787.85-66660.55 = 730.25\n",
      "2H2:56333.20+11903.47-66561.54 = 837.56\n",
      "MW06\n",
      "chain C-chain A-chain B\n"
     ]
    },
    {
     "name": "stderr",
     "output_type": "stream",
     "text": [
      "@> 3133 atoms and 1 coordinate set(s) were parsed in 0.03s.\n"
     ]
    },
    {
     "name": "stdout",
     "output_type": "stream",
     "text": [
      "MW06:10449.12+19526.47-28504.88 = 735.36\n",
      "MW06:10449.12+12006.16-21352.97 = 551.16\n",
      "MW06:10449.12+11592.28-21509.47 = 265.97\n",
      "CA521\n",
      "chain A-chain B-chain C\n"
     ]
    },
    {
     "name": "stderr",
     "output_type": "stream",
     "text": [
      "@> 9297 atoms and 1 coordinate set(s) were parsed in 0.08s.\n"
     ]
    },
    {
     "name": "stdout",
     "output_type": "stream",
     "text": [
      "CA521:10043.84+10724.85-19243.38 = 762.65\n",
      "CA521:10043.84+6587.75-15175.29 = 728.15\n",
      "CA521:10043.84+5769.62-15726.83 = 43.31\n",
      "2B11\n",
      "chain R-chain H-chain L\n"
     ]
    },
    {
     "name": "stderr",
     "output_type": "stream",
     "text": [
      "@> 9916 atoms and 1 coordinate set(s) were parsed in 0.09s.\n"
     ]
    },
    {
     "name": "stdout",
     "output_type": "stream",
     "text": [
      "2B11:9928.16+18994.19-26815.15 = 1053.60\n",
      "2B11:9928.16+10865.13-19163.71 = 814.79\n",
      "2B11:9928.16+11606.37-21056.92 = 238.81\n",
      "BD-623\n",
      "chain R-chain A-chain B\n"
     ]
    },
    {
     "name": "stderr",
     "output_type": "stream",
     "text": [
      "@> 4698 atoms and 1 coordinate set(s) were parsed in 0.04s.\n"
     ]
    },
    {
     "name": "stdout",
     "output_type": "stream",
     "text": [
      "BD-623:9897.63+19265.13-27973.46 = 594.65\n",
      "BD-623:9897.63+11553.36-20484.82 = 483.08\n",
      "BD-623:9897.63+11041.61-20551.80 = 193.72\n",
      "BD-508\n",
      "chain C-chain A-chain B\n"
     ]
    },
    {
     "name": "stderr",
     "output_type": "stream",
     "text": [
      "@> 18863 atoms and 1 coordinate set(s) were parsed in 0.16s.\n"
     ]
    },
    {
     "name": "stdout",
     "output_type": "stream",
     "text": [
      "BD-508:10072.05+19173.62-26955.78 = 1144.95\n",
      "BD-508:10072.05+10932.47-19471.42 = 766.55\n",
      "BD-508:10072.05+11551.19-20761.98 = 430.63\n",
      "BD-515\n",
      "chain C-chain A-chain B\n"
     ]
    },
    {
     "name": "stderr",
     "output_type": "stream",
     "text": [
      "@> 11084 atoms and 1 coordinate set(s) were parsed in 0.09s.\n"
     ]
    },
    {
     "name": "stdout",
     "output_type": "stream",
     "text": [
      "BD-515:9805.54+19187.35-27099.70 = 946.59\n",
      "BD-515:9805.54+11218.29-19656.72 = 683.56\n",
      "BD-515:9805.54+11285.15-20543.85 = 273.42\n",
      "7D6\n",
      "chain A-chain H-chain L\n"
     ]
    },
    {
     "name": "stderr",
     "output_type": "stream",
     "text": [
      "@> 9677 atoms and 1 coordinate set(s) were parsed in 0.08s.\n"
     ]
    },
    {
     "name": "stdout",
     "output_type": "stream",
     "text": [
      "7D6:11462.27+19669.97-29509.95 = 811.15\n",
      "7D6:11462.27+11672.66-21917.78 = 608.57\n",
      "7D6:11462.27+11549.65-22563.32 = 224.30\n",
      "6D6\n",
      "chain A-chain H-chain L\n"
     ]
    },
    {
     "name": "stderr",
     "output_type": "stream",
     "text": [
      "@> 3321 atoms and 1 coordinate set(s) were parsed in 0.03s.\n"
     ]
    },
    {
     "name": "stdout",
     "output_type": "stream",
     "text": [
      "6D6:10024.57+19506.79-27555.30 = 988.03\n",
      "6D6:10024.57+11903.63-20792.14 = 568.03\n",
      "6D6:10024.57+11190.08-20313.77 = 450.44\n",
      "RBD-chAb-25\n",
      "chain A-chain H-chain L\n"
     ]
    },
    {
     "name": "stderr",
     "output_type": "stream",
     "text": [
      "@> 3375 atoms and 1 coordinate set(s) were parsed in 0.03s.\n"
     ]
    },
    {
     "name": "stdout",
     "output_type": "stream",
     "text": [
      "RBD-chAb-25:11264.94+10931.19-20550.10 = 823.01\n",
      "RBD-chAb-25:11264.94+6520.25-17071.85 = 356.67\n",
      "RBD-chAb-25:11264.94+5962.33-16246.75 = 490.26\n",
      "RBD-chAb-45\n",
      "chain A-chain H-chain L\n"
     ]
    },
    {
     "name": "stderr",
     "output_type": "stream",
     "text": [
      "@> 4904 atoms and 1 coordinate set(s) were parsed in 0.04s.\n"
     ]
    },
    {
     "name": "stdout",
     "output_type": "stream",
     "text": [
      "RBD-chAb-45:11369.46+11989.57-22179.89 = 589.57\n",
      "RBD-chAb-45:11369.46+6872.49-17413.96 = 414.00\n",
      "RBD-chAb-45:11369.46+6726.24-17682.67 = 206.52\n",
      "COVA2-04\n",
      "chain A-chain H-chain L\n"
     ]
    },
    {
     "name": "stderr",
     "output_type": "stream",
     "text": [
      "@> 4907 atoms and 1 coordinate set(s) were parsed in 0.05s.\n"
     ]
    },
    {
     "name": "stdout",
     "output_type": "stream",
     "text": [
      "COVA2-04:10033.91+19557.60-27310.77 = 1140.37\n",
      "COVA2-04:10033.91+11565.45-19985.14 = 807.10\n",
      "COVA2-04:10033.91+11362.75-20641.44 = 377.61\n",
      "COVA2-39\n",
      "chain A-chain H-chain L\n"
     ]
    },
    {
     "name": "stderr",
     "output_type": "stream",
     "text": [
      "@> 4873 atoms and 1 coordinate set(s) were parsed in 0.04s.\n"
     ]
    },
    {
     "name": "stdout",
     "output_type": "stream",
     "text": [
      "COVA2-39:8977.95+18819.40-26441.65 = 677.85\n",
      "COVA2-39:8977.95+11185.01-18960.42 = 601.27\n",
      "COVA2-39:8977.95+10817.05-19505.93 = 144.54\n",
      "COVA1-16\n",
      "chain A-chain H-chain L\n"
     ]
    },
    {
     "name": "stderr",
     "output_type": "stream",
     "text": [
      "@> 2151 atoms and 1 coordinate set(s) were parsed in 0.02s.\n"
     ]
    },
    {
     "name": "stdout",
     "output_type": "stream",
     "text": [
      "COVA1-16:9680.10+20524.51-28599.46 = 802.57\n",
      "COVA1-16:9680.10+12716.93-21086.77 = 655.12\n",
      "COVA1-16:9680.10+11163.25-20529.47 = 156.94\n",
      "S2H13\n",
      "chain A-chain H-chain L\n"
     ]
    },
    {
     "name": "stderr",
     "output_type": "stream",
     "text": [
      "@> 3248 atoms and 1 coordinate set(s) were parsed in 0.03s.\n"
     ]
    },
    {
     "name": "stdout",
     "output_type": "stream",
     "text": [
      "S2H13:4559.07+10462.98-13673.21 = 674.42\n",
      "S2H13:4559.07+6599.01-10509.25 = 324.41\n",
      "S2H13:4559.07+5741.93-9495.54 = 402.73\n",
      "S2A4\n",
      "chain A-chain H-chain L\n",
      "S2A4:9818.76+10235.51-18513.14 = 770.57\n",
      "S2A4:9818.76+6116.37-15118.67 = 408.23\n",
      "S2A4:9818.76+5731.77-14599.02 = 475.75\n",
      "S304\n",
      "chain A-chain H-chain L\n"
     ]
    },
    {
     "name": "stderr",
     "output_type": "stream",
     "text": [
      "@> 26251 atoms and 1 coordinate set(s) were parsed in 0.22s.\n",
      "@> 11518 atoms and 1 coordinate set(s) were parsed in 0.10s.\n"
     ]
    },
    {
     "name": "stdout",
     "output_type": "stream",
     "text": [
      "S304:53090.24+22517.08-74848.20 = 379.56\n",
      "S304:53090.24+12287.32-65050.59 = 163.49\n",
      "S304:53090.24+11876.65-64531.32 = 217.79\n",
      "S2H14\n",
      "chain R-chain C-chain D\n",
      "S2H14:10632.91+19961.69-28839.01 = 877.80\n",
      "S2H14:10632.91+11761.98-21357.86 = 518.51\n",
      "S2H14:10632.91+11698.69-21505.71 = 412.94\n",
      "S2-M11\n",
      "chain A-chain H-chain L\n"
     ]
    },
    {
     "name": "stderr",
     "output_type": "stream",
     "text": [
      "@> 30390 atoms and 1 coordinate set(s) were parsed in 0.25s.\n",
      "@> 3038 atoms and 1 coordinate set(s) were parsed in 0.03s.\n"
     ]
    },
    {
     "name": "stdout",
     "output_type": "stream",
     "text": [
      "S2-M11:51616.59+10516.32-60831.73 = 650.59\n",
      "S2-M11:51616.59+6383.45-56756.97 = 621.53\n",
      "S2-M11:51616.59+5708.19-57207.49 = 58.64\n",
      "S2-E12\n",
      "chain B-chain H-chain L\n"
     ]
    },
    {
     "name": "stderr",
     "output_type": "stream",
     "text": [
      "@> 4730 atoms and 1 coordinate set(s) were parsed in 0.04s.\n"
     ]
    },
    {
     "name": "stdout",
     "output_type": "stream",
     "text": [
      "S2-E12:9531.05+10096.05-18327.65 = 649.72\n",
      "S2-E12:9531.05+6177.83-14771.17 = 468.85\n",
      "S2-E12:9531.05+5506.00-14564.22 = 236.41\n",
      "C102\n",
      "chain E-chain A-chain B\n",
      "C102:9805.43+19325.85-27029.42 = 1050.93\n",
      "C102:9805.43+11308.59-19471.93 = 821.04\n",
      "C102:9805.43+11442.90-20741.33 = 253.50\n",
      "C110\n",
      "chain A-chain H-chain L\n"
     ]
    },
    {
     "name": "stderr",
     "output_type": "stream",
     "text": [
      "@> 26248 atoms and 1 coordinate set(s) were parsed in 0.26s.\n",
      "@> Secondary structures were assigned to 1708 residues.\n"
     ]
    },
    {
     "name": "stdout",
     "output_type": "stream",
     "text": [
      "C110:50605.43+11622.99-61020.94 = 603.73\n",
      "C110:50605.43+6413.30-56492.89 = 262.92\n",
      "C110:50605.43+6150.30-56067.90 = 343.92\n",
      "C135\n",
      "chain A-chain H-chain L\n"
     ]
    },
    {
     "name": "stderr",
     "output_type": "stream",
     "text": [
      "@> 26015 atoms and 1 coordinate set(s) were parsed in 0.23s.\n",
      "@> Secondary structures were assigned to 1915 residues.\n"
     ]
    },
    {
     "name": "stdout",
     "output_type": "stream",
     "text": [
      "C135:48884.95+9937.98-57831.98 = 495.47\n",
      "C135:48884.95+6030.09-54271.60 = 321.72\n",
      "C135:48884.95+5444.74-53915.93 = 206.88\n",
      "C002\n",
      "chain A-chain H-chain L\n"
     ]
    },
    {
     "name": "stderr",
     "output_type": "stream",
     "text": [
      "@> 29649 atoms and 1 coordinate set(s) were parsed in 0.24s.\n"
     ]
    },
    {
     "name": "stdout",
     "output_type": "stream",
     "text": [
      "C002:51800.68+10657.74-60676.18 = 891.12\n",
      "C002:51800.68+6725.47-57045.49 = 740.33\n",
      "C002:51800.68+5412.17-56819.31 = 196.77\n",
      "C119\n",
      "chain A-chain H-chain L\n"
     ]
    },
    {
     "name": "stderr",
     "output_type": "stream",
     "text": [
      "@> 26487 atoms and 1 coordinate set(s) were parsed in 0.22s.\n"
     ]
    },
    {
     "name": "stdout",
     "output_type": "stream",
     "text": [
      "C119:50751.21+11258.83-60300.95 = 854.54\n",
      "C119:50751.21+7055.73-56667.37 = 569.78\n",
      "C119:50751.21+5688.23-55858.46 = 290.49\n",
      "C121\n",
      "chain A-chain E-chain G\n"
     ]
    },
    {
     "name": "stderr",
     "output_type": "stream",
     "text": [
      "@> 27399 atoms and 1 coordinate set(s) were parsed in 0.22s.\n"
     ]
    },
    {
     "name": "stdout",
     "output_type": "stream",
     "text": [
      "C121:53147.00+11027.56-62652.95 = 760.81\n",
      "C121:53147.00+6883.48-58598.62 = 715.93\n",
      "C121:53147.00+5683.87-58695.85 = 67.51\n",
      "C144\n",
      "chain B-chain H-chain L\n"
     ]
    },
    {
     "name": "stderr",
     "output_type": "stream",
     "text": [
      "@> 28863 atoms and 1 coordinate set(s) were parsed in 0.24s.\n",
      "@> 8055 atoms and 1 coordinate set(s) were parsed in 0.07s.\n"
     ]
    },
    {
     "name": "stdout",
     "output_type": "stream",
     "text": [
      "C144:51189.53+10880.27-60535.80 = 767.00\n",
      "C144:51189.53+7106.47-56893.02 = 701.49\n",
      "C144:51189.53+5552.74-56543.59 = 99.34\n",
      "Fab-52\n",
      "chain E-chain H-chain L\n"
     ]
    },
    {
     "name": "stderr",
     "output_type": "stream",
     "text": [
      "@> 8055 atoms and 1 coordinate set(s) were parsed in 0.07s.\n"
     ]
    },
    {
     "name": "stdout",
     "output_type": "stream",
     "text": [
      "Fab-52:10403.44+20176.92-28843.22 = 868.57\n",
      "Fab-52:10403.44+11847.37-21024.18 = 613.32\n",
      "Fab-52:10403.44+11659.89-21505.07 = 279.13\n",
      "Fab-298\n",
      "chain E-chain B-chain A\n"
     ]
    },
    {
     "name": "stderr",
     "output_type": "stream",
     "text": [
      "@> 16121 atoms and 1 coordinate set(s) were parsed in 0.14s.\n"
     ]
    },
    {
     "name": "stdout",
     "output_type": "stream",
     "text": [
      "Fab-298:10403.44+20303.85-29380.52 = 663.38\n",
      "Fab-298:10403.44+11871.15-21440.55 = 417.02\n",
      "Fab-298:10403.44+12108.80-21912.62 = 299.81\n",
      "C1A-B3\n",
      "chain A-chain H-chain L\n"
     ]
    },
    {
     "name": "stderr",
     "output_type": "stream",
     "text": [
      "@> 14854 atoms and 1 coordinate set(s) were parsed in 0.12s.\n"
     ]
    },
    {
     "name": "stdout",
     "output_type": "stream",
     "text": [
      "C1A-B3:10176.79+19465.35-27351.49 = 1145.32\n",
      "C1A-B3:10176.79+11815.71-20308.80 = 841.85\n",
      "C1A-B3:10176.79+11439.78-20831.12 = 392.73\n",
      "C1A-B12\n",
      "chain A-chain H-chain L\n"
     ]
    },
    {
     "name": "stderr",
     "output_type": "stream",
     "text": [
      "@> 5191 atoms and 1 coordinate set(s) were parsed in 0.05s.\n"
     ]
    },
    {
     "name": "stdout",
     "output_type": "stream",
     "text": [
      "C1A-B12:10193.69+19000.02-26962.61 = 1115.55\n",
      "C1A-B12:10193.69+11516.75-20119.11 = 795.66\n",
      "C1A-B12:10193.69+11319.35-20750.81 = 381.12\n",
      "C1A-C2\n",
      "chain A-chain H-chain L\n"
     ]
    },
    {
     "name": "stderr",
     "output_type": "stream",
     "text": [
      "@> 5382 atoms and 1 coordinate set(s) were parsed in 0.05s.\n"
     ]
    },
    {
     "name": "stdout",
     "output_type": "stream",
     "text": [
      "C1A-C2:10392.73+20094.50-28182.95 = 1152.14\n",
      "C1A-C2:10392.73+12117.69-20796.23 = 857.09\n",
      "C1A-C2:10392.73+11635.56-21302.68 = 362.81\n",
      "C1A-F10\n",
      "chain A-chain H-chain L\n"
     ]
    },
    {
     "name": "stderr",
     "output_type": "stream",
     "text": [
      "@> 9569 atoms and 1 coordinate set(s) were parsed in 0.08s.\n"
     ]
    },
    {
     "name": "stdout",
     "output_type": "stream",
     "text": [
      "C1A-F10:10310.72+19898.95-27970.01 = 1119.83\n",
      "C1A-F10:10310.72+11831.97-20523.09 = 809.80\n",
      "C1A-F10:10310.72+11735.06-21299.55 = 373.11\n",
      "Bamlanivimab\n",
      "chain F-chain D-chain E\n"
     ]
    },
    {
     "name": "stderr",
     "output_type": "stream",
     "text": [
      "@> 4910 atoms and 1 coordinate set(s) were parsed in 0.04s.\n"
     ]
    },
    {
     "name": "stdout",
     "output_type": "stream",
     "text": [
      "Bamlanivimab:9742.90+19389.89-27495.33 = 818.73\n",
      "Bamlanivimab:9742.90+11764.88-20249.82 = 628.98\n",
      "Bamlanivimab:9742.90+11416.40-20625.09 = 267.10\n",
      "LY-CoV488\n",
      "chain C-chain A-chain B\n"
     ]
    },
    {
     "name": "stderr",
     "output_type": "stream",
     "text": [
      "@> 5278 atoms and 1 coordinate set(s) were parsed in 0.04s.\n"
     ]
    },
    {
     "name": "stdout",
     "output_type": "stream",
     "text": [
      "LY-CoV488:10118.39+18579.26-26877.77 = 909.94\n",
      "LY-CoV488:10118.39+10807.32-19592.54 = 666.59\n",
      "LY-CoV488:10118.39+11068.23-20663.75 = 261.43\n",
      "LY-CoV481\n",
      "chain C-chain A-chain B\n",
      "LY-CoV481:10151.09+19005.42-26986.00 = 1085.25\n",
      "LY-CoV481:10151.09+11349.22-20204.05 = 648.13\n",
      "LY-CoV481:10151.09+11223.74-20438.31 = 468.26\n",
      "910-30\n",
      "chain B-chain H-chain L\n"
     ]
    },
    {
     "name": "stderr",
     "output_type": "stream",
     "text": [
      "@> 25355 atoms and 1 coordinate set(s) were parsed in 0.21s.\n"
     ]
    },
    {
     "name": "stdout",
     "output_type": "stream",
     "text": [
      "910-30:51715.22+10321.90-59761.47 = 1137.83\n",
      "910-30:51715.22+6008.70-56361.09 = 681.41\n",
      "910-30:51715.22+5712.80-56469.99 = 479.01\n",
      "Fab_15033-7\n",
      "chain A-chain H-chain L\n"
     ]
    },
    {
     "name": "stderr",
     "output_type": "stream",
     "text": [
      "@> 34083 atoms and 1 coordinate set(s) were parsed in 0.29s.\n",
      "@> 7102 atoms and 1 coordinate set(s) were parsed in 0.06s.\n"
     ]
    },
    {
     "name": "stdout",
     "output_type": "stream",
     "text": [
      "Fab_15033-7:52088.09+19030.10-69423.61 = 847.29\n",
      "Fab_15033-7:52088.09+11296.20-62588.53 = 397.88\n",
      "Fab_15033-7:52088.09+11406.36-62468.14 = 513.15\n",
      "CR3014-C8\n",
      "chain C-chain H-chain L\n"
     ]
    },
    {
     "name": "stderr",
     "output_type": "stream",
     "text": [
      "@> 7102 atoms and 1 coordinate set(s) were parsed in 0.06s.\n"
     ]
    },
    {
     "name": "stdout",
     "output_type": "stream",
     "text": [
      "CR3014-C8:9767.69+18906.57-27286.12 = 694.07\n",
      "CR3014-C8:9767.69+10882.01-20155.88 = 246.91\n",
      "CR3014-C8:9767.69+11279.86-20102.47 = 472.54\n",
      "CR3022-B6\n",
      "chain C-chain A-chain B\n",
      "CR3022-B6:9767.69+18992.38-27439.11 = 660.48\n",
      "CR3022-B6:9767.69+10632.52-19982.91 = 208.65\n",
      "CR3022-B6:9767.69+10700.32-19486.71 = 490.65\n",
      "Fab2-43\n",
      "chain A-chain H-chain L\n"
     ]
    },
    {
     "name": "stderr",
     "output_type": "stream",
     "text": [
      "@> 26583 atoms and 1 coordinate set(s) were parsed in 0.23s.\n",
      "@> 18103 atoms and 1 coordinate set(s) were parsed in 0.15s.\n"
     ]
    },
    {
     "name": "stdout",
     "output_type": "stream",
     "text": [
      "Fab2-43:50069.28+11035.36-59553.12 = 775.76\n",
      "Fab2-43:50069.28+6795.00-55536.15 = 664.07\n",
      "Fab2-43:50069.28+5939.59-55686.48 = 161.20\n",
      "H4\n",
      "chain B-chain H-chain L\n"
     ]
    },
    {
     "name": "stderr",
     "output_type": "stream",
     "text": [
      "@> 4569 atoms and 1 coordinate set(s) were parsed in 0.04s.\n"
     ]
    },
    {
     "name": "stdout",
     "output_type": "stream",
     "text": [
      "H4:60851.35+12417.28-72734.47 = 267.08\n",
      "H4:60851.35+6996.80-67364.76 = 241.69\n",
      "H4:60851.35+6259.71-67060.29 = 25.39\n",
      "Fab2-15\n",
      "chain A-chain H-chain L\n",
      "Fab2-15:10110.89+20558.10-28905.39 = 881.80\n",
      "Fab2-15:10110.89+12216.17-20904.74 = 711.16\n",
      "Fab2-15:10110.89+11586.05-21300.67 = 198.14\n",
      "DH1041\n",
      "chain A-chain H-chain L\n"
     ]
    },
    {
     "name": "stderr",
     "output_type": "stream",
     "text": [
      "@> 46691 atoms and 1 coordinate set(s) were parsed in 0.39s.\n"
     ]
    },
    {
     "name": "stdout",
     "output_type": "stream",
     "text": [
      "DH1041:50835.86+20159.52-69571.17 = 712.11\n",
      "DH1041:50835.86+11970.95-61511.74 = 647.54\n",
      "DH1041:50835.86+12130.74-62805.99 = 80.31\n",
      "DH1047\n",
      "chain B-chain H-chain L\n"
     ]
    },
    {
     "name": "stderr",
     "output_type": "stream",
     "text": [
      "@> 29456 atoms and 1 coordinate set(s) were parsed in 0.24s.\n"
     ]
    },
    {
     "name": "stdout",
     "output_type": "stream",
     "text": [
      "DH1047:49553.03+17884.39-65875.58 = 780.92\n",
      "DH1047:49553.03+10634.95-59081.37 = 553.31\n",
      "DH1047:49553.03+10107.10-59176.04 = 242.05\n",
      "DH1043\n",
      "chain A-chain S-chain T\n"
     ]
    },
    {
     "name": "stderr",
     "output_type": "stream",
     "text": [
      "@> 26291 atoms and 1 coordinate set(s) were parsed in 0.25s.\n",
      "@> 5541 atoms and 1 coordinate set(s) were parsed in 0.05s.\n"
     ]
    },
    {
     "name": "stdout",
     "output_type": "stream",
     "text": [
      "DH1043:50638.75+18556.14-67196.63 = 999.13\n",
      "DH1043:50638.75+11565.94-60763.43 = 720.63\n",
      "DH1043:50638.75+10954.11-60950.02 = 321.42\n",
      "CV38-142\n",
      "chain A-chain H-chain L\n"
     ]
    },
    {
     "name": "stderr",
     "output_type": "stream",
     "text": [
      "@> 17650 atoms and 1 coordinate set(s) were parsed in 0.14s.\n"
     ]
    },
    {
     "name": "stdout",
     "output_type": "stream",
     "text": [
      "CV38-142:9803.65+19208.04-27672.03 = 669.83\n",
      "CV38-142:9803.65+11954.86-20696.71 = 530.90\n",
      "CV38-142:9803.65+11510.92-20945.06 = 184.75\n",
      "CV05-163\n",
      "chain A-chain H-chain L\n"
     ]
    },
    {
     "name": "stderr",
     "output_type": "stream",
     "text": [
      "@> 4912 atoms and 1 coordinate set(s) were parsed in 0.04s.\n"
     ]
    },
    {
     "name": "stdout",
     "output_type": "stream",
     "text": [
      "CV05-163:10226.57+20205.01-28836.73 = 797.42\n",
      "CV05-163:10226.57+12047.40-21384.06 = 444.95\n",
      "CV05-163:10226.57+11761.97-21054.83 = 466.86\n",
      "A23-58-1\n",
      "chain C-chain D-chain E\n",
      "A23-58-1:11313.55+21905.60-32041.16 = 588.99\n",
      "A23-58-1:11313.55+12420.04-22825.02 = 454.28\n",
      "A23-58-1:11313.55+12530.16-23521.04 = 161.33\n",
      "Fab1-57\n",
      "chain A-chain H-chain L\n"
     ]
    },
    {
     "name": "stderr",
     "output_type": "stream",
     "text": [
      "@> 32226 atoms and 1 coordinate set(s) were parsed in 0.26s.\n",
      "@> 20582 atoms and 1 coordinate set(s) were parsed in 0.17s.\n"
     ]
    },
    {
     "name": "stdout",
     "output_type": "stream",
     "text": [
      "Fab1-57:54114.32+10834.36-63505.55 = 721.56\n",
      "Fab1-57:54114.32+6773.23-59792.99 = 547.28\n",
      "Fab1-57:54114.32+5647.75-59293.07 = 234.50\n",
      "Fab2-7\n",
      "chain B-chain H-chain L\n"
     ]
    },
    {
     "name": "stderr",
     "output_type": "stream",
     "text": [
      "@> 9856 atoms and 1 coordinate set(s) were parsed in 0.08s.\n"
     ]
    },
    {
     "name": "stdout",
     "output_type": "stream",
     "text": [
      "Fab2-7:49760.27+10038.25-58293.34 = 752.59\n",
      "Fab2-7:49760.27+6198.90-55027.31 = 465.93\n",
      "Fab2-7:49760.27+5598.28-54638.47 = 360.04\n",
      "CV2-75\n",
      "chain R-chain H-chain L\n"
     ]
    },
    {
     "name": "stderr",
     "output_type": "stream",
     "text": [
      "@> 8221 atoms and 1 coordinate set(s) were parsed in 0.07s.\n"
     ]
    },
    {
     "name": "stdout",
     "output_type": "stream",
     "text": [
      "CV2-75:12093.06+19655.09-30238.36 = 754.89\n",
      "CV2-75:12093.06+10973.09-22078.93 = 493.61\n",
      "CV2-75:12093.06+11929.92-23320.89 = 351.04\n",
      "BG4-25\n",
      "chain C-chain H-chain L\n",
      "BG4-25:10591.79+19742.96-28160.26 = 1087.25\n",
      "BG4-25:10591.79+11578.07-20468.65 = 850.61\n",
      "BG4-25:10591.79+11750.19-21819.49 = 261.24\n",
      "BG10-19\n",
      "chain A-chain H-chain L\n"
     ]
    },
    {
     "name": "stderr",
     "output_type": "stream",
     "text": [
      "@> 29796 atoms and 1 coordinate set(s) were parsed in 0.26s.\n",
      "@> 24256 atoms and 1 coordinate set(s) were parsed in 0.20s.\n"
     ]
    },
    {
     "name": "stdout",
     "output_type": "stream",
     "text": [
      "BG10-19:51941.57+10485.22-60486.77 = 970.01\n",
      "BG10-19:51941.57+6403.50-56631.45 = 856.81\n",
      "BG10-19:51941.57+5682.93-57352.20 = 136.15\n",
      "BG1-22\n",
      "chain A-chain H-chain L\n",
      "BG1-22:50683.79+11415.09-60992.01 = 553.44\n",
      "BG1-22:50683.79+6609.25-56409.65 = 441.69\n",
      "BG1-22:50683.79+5676.34-56136.65 = 111.74\n",
      "BG7-15\n",
      "chain C-chain H-chain L\n"
     ]
    },
    {
     "name": "stderr",
     "output_type": "stream",
     "text": [
      "@> 26290 atoms and 1 coordinate set(s) were parsed in 0.22s.\n"
     ]
    },
    {
     "name": "stdout",
     "output_type": "stream",
     "text": [
      "BG7-15:52837.62+10909.19-62214.15 = 766.33\n",
      "BG7-15:52837.62+6281.41-58084.13 = 517.45\n",
      "BG7-15:52837.62+6009.14-58307.18 = 269.79\n",
      "BG7-20\n",
      "chain B-chain D-chain F\n"
     ]
    },
    {
     "name": "stderr",
     "output_type": "stream",
     "text": [
      "@> 27379 atoms and 1 coordinate set(s) were parsed in 0.24s.\n"
     ]
    },
    {
     "name": "stdout",
     "output_type": "stream",
     "text": [
      "BG7-20:51799.59+10854.56-60850.05 = 902.05\n",
      "BG7-20:51799.59+6932.56-57083.46 = 824.35\n",
      "BG7-20:51799.59+5520.28-57081.15 = 119.36\n",
      "BG1-24\n",
      "chain C-chain H-chain L\n"
     ]
    },
    {
     "name": "stderr",
     "output_type": "stream",
     "text": [
      "@> 27359 atoms and 1 coordinate set(s) were parsed in 0.23s.\n",
      "@> 6646 atoms and 1 coordinate set(s) were parsed in 0.06s.\n"
     ]
    },
    {
     "name": "stdout",
     "output_type": "stream",
     "text": [
      "BG1-24:52356.98+11142.82-61778.28 = 860.76\n",
      "BG1-24:52356.98+7155.33-58162.99 = 674.66\n",
      "BG1-24:52356.98+5622.80-57544.90 = 217.44\n",
      "Asarnow_5A6\n",
      "chain A-chain H-chain L\n"
     ]
    },
    {
     "name": "stderr",
     "output_type": "stream",
     "text": [
      "@> 4898 atoms and 1 coordinate set(s) were parsed in 0.04s.\n"
     ]
    },
    {
     "name": "stdout",
     "output_type": "stream",
     "text": [
      "Asarnow_5A6:11730.42+19011.15-29077.84 = 831.87\n",
      "Asarnow_5A6:11730.42+11798.54-22162.79 = 683.08\n",
      "Asarnow_5A6:11730.42+11476.02-22685.93 = 260.26\n",
      "Asarnow_3D11\n",
      "chain A-chain H-chain L\n"
     ]
    },
    {
     "name": "stderr",
     "output_type": "stream",
     "text": [
      "@> 16275 atoms and 1 coordinate set(s) were parsed in 0.14s.\n"
     ]
    },
    {
     "name": "stdout",
     "output_type": "stream",
     "text": [
      "Asarnow_3D11:12168.70+19625.85-30320.52 = 737.01\n",
      "Asarnow_3D11:12168.70+11582.44-23029.21 = 360.96\n",
      "Asarnow_3D11:12168.70+11346.12-22597.43 = 458.69\n",
      "S2H97\n",
      "chain S-chain C-chain D\n"
     ]
    },
    {
     "name": "stderr",
     "output_type": "stream",
     "text": [
      "@> 4972 atoms and 1 coordinate set(s) were parsed in 0.05s.\n"
     ]
    },
    {
     "name": "stdout",
     "output_type": "stream",
     "text": [
      "S2H97:10357.56+20217.40-29013.76 = 780.60\n",
      "S2H97:10357.56+11987.35-21201.56 = 571.67\n",
      "S2H97:10357.56+11827.20-21660.30 = 262.23\n",
      "Zhou_47D1\n",
      "chain A-chain H-chain L\n"
     ]
    },
    {
     "name": "stderr",
     "output_type": "stream",
     "text": [
      "@> 4788 atoms and 1 coordinate set(s) were parsed in 0.04s.\n"
     ]
    },
    {
     "name": "stdout",
     "output_type": "stream",
     "text": [
      "Zhou_47D1:10043.16+19236.17-27866.58 = 706.38\n",
      "Zhou_47D1:10043.16+11529.03-20171.38 = 700.41\n",
      "Zhou_47D1:10043.16+11181.52-21157.01 = 33.84\n",
      "ab1\n",
      "chain A-chain H-chain L\n"
     ]
    },
    {
     "name": "stderr",
     "output_type": "stream",
     "text": [
      "@> 3192 atoms and 1 coordinate set(s) were parsed in 0.03s.\n"
     ]
    },
    {
     "name": "stdout",
     "output_type": "stream",
     "text": [
      "ab1:10590.52+18990.36-27474.78 = 1053.05\n",
      "ab1:10590.52+10854.31-19885.76 = 779.53\n",
      "ab1:10590.52+11320.65-21312.21 = 299.48\n",
      "SARS2-38\n",
      "chain A-chain H-chain L\n"
     ]
    },
    {
     "name": "stderr",
     "output_type": "stream",
     "text": [
      "@> 9116 atoms and 1 coordinate set(s) were parsed in 0.08s.\n"
     ]
    },
    {
     "name": "stdout",
     "output_type": "stream",
     "text": [
      "SARS2-38:11995.61+12302.32-23336.36 = 480.79\n",
      "SARS2-38:11995.61+7133.41-18852.44 = 138.29\n",
      "SARS2-38:11995.61+6368.89-17648.24 = 358.13\n",
      "LY-CoV1404\n",
      "chain F-chain D-chain E\n"
     ]
    },
    {
     "name": "stderr",
     "output_type": "stream",
     "text": [
      "@> 5244 atoms and 1 coordinate set(s) were parsed in 0.04s.\n"
     ]
    },
    {
     "name": "stdout",
     "output_type": "stream",
     "text": [
      "LY-CoV1404:9513.55+19067.93-27122.67 = 729.40\n",
      "LY-CoV1404:9513.55+10925.05-19562.93 = 437.83\n",
      "LY-CoV1404:9513.55+11527.50-20278.80 = 381.12\n",
      "C098\n",
      "chain C-chain H-chain L\n"
     ]
    },
    {
     "name": "stderr",
     "output_type": "stream",
     "text": [
      "@> 7189 atoms and 1 coordinate set(s) were parsed in 0.06s.\n"
     ]
    },
    {
     "name": "stdout",
     "output_type": "stream",
     "text": [
      "C098:10119.55+19061.65-26920.80 = 1130.20\n",
      "C098:10119.55+11171.97-19776.56 = 757.48\n",
      "C098:10119.55+11378.01-20693.30 = 402.13\n",
      "G32R7\n",
      "chain B-chain H-chain L\n",
      "G32R7:10493.03+19726.38-27984.62 = 1117.39\n",
      "G32R7:10493.03+12019.53-20292.39 = 1110.09\n",
      "G32R7:10493.03+11241.58-21696.69 = 18.96\n",
      "COVOX-88\n",
      "chain C-chain H-chain L\n"
     ]
    },
    {
     "name": "stderr",
     "output_type": "stream",
     "text": [
      "@> 29848 atoms and 1 coordinate set(s) were parsed in 0.24s.\n"
     ]
    },
    {
     "name": "stdout",
     "output_type": "stream",
     "text": [
      "COVOX-88:52285.87+11344.60-62104.79 = 762.84\n",
      "COVOX-88:52285.87+6953.54-58446.83 = 396.29\n",
      "COVOX-88:52285.87+6050.09-57520.73 = 407.61\n",
      "COVOX-40\n",
      "chain B-chain H-chain L\n"
     ]
    },
    {
     "name": "stderr",
     "output_type": "stream",
     "text": [
      "@> 26732 atoms and 1 coordinate set(s) were parsed in 0.21s.\n"
     ]
    },
    {
     "name": "stdout",
     "output_type": "stream",
     "text": [
      "COVOX-40:51013.03+20108.83-68844.57 = 1138.65\n",
      "COVOX-40:51013.03+11800.72-61496.45 = 658.65\n",
      "COVOX-40:51013.03+11737.07-61744.97 = 502.56\n",
      "COVOX-316\n",
      "chain A-chain H-chain L\n"
     ]
    },
    {
     "name": "stderr",
     "output_type": "stream",
     "text": [
      "@> 29591 atoms and 1 coordinate set(s) were parsed in 0.24s.\n"
     ]
    },
    {
     "name": "stdout",
     "output_type": "stream",
     "text": [
      "COVOX-316:51898.50+10354.59-60745.37 = 753.86\n",
      "COVOX-316:51898.50+6274.52-56894.86 = 639.08\n",
      "COVOX-316:51898.50+5666.07-57204.91 = 179.83\n",
      "COVOX-384\n",
      "chain B-chain H-chain L\n"
     ]
    },
    {
     "name": "stderr",
     "output_type": "stream",
     "text": [
      "@> 27659 atoms and 1 coordinate set(s) were parsed in 0.23s.\n"
     ]
    },
    {
     "name": "stdout",
     "output_type": "stream",
     "text": [
      "COVOX-384:51785.24+19757.54-70438.67 = 552.05\n",
      "COVOX-384:51785.24+12380.16-63276.82 = 444.29\n",
      "COVOX-384:51785.24+11107.48-62534.74 = 178.99\n",
      "COVOX-253H55L\n",
      "chain C-chain H-chain L\n"
     ]
    },
    {
     "name": "stderr",
     "output_type": "stream",
     "text": [
      "@> 27721 atoms and 1 coordinate set(s) were parsed in 0.23s.\n"
     ]
    },
    {
     "name": "stdout",
     "output_type": "stream",
     "text": [
      "COVOX-253H55L:52543.83+19395.47-70590.57 = 674.37\n",
      "COVOX-253H55L:52543.83+11435.24-62835.32 = 571.88\n",
      "COVOX-253H55L:52543.83+11416.23-63679.90 = 140.08\n",
      "COVOX-253H165L\n",
      "chain B-chain H-chain L\n"
     ]
    },
    {
     "name": "stderr",
     "output_type": "stream",
     "text": [
      "@> 27184 atoms and 1 coordinate set(s) were parsed in 0.23s.\n"
     ]
    },
    {
     "name": "stdout",
     "output_type": "stream",
     "text": [
      "COVOX-253H165L:52077.23+19460.62-70503.22 = 517.32\n",
      "COVOX-253H165L:52077.23+11564.05-62817.34 = 411.97\n",
      "COVOX-253H165L:52077.23+11345.14-63172.02 = 125.17\n",
      "COVOX-159\n",
      "chain B-chain H-chain L\n"
     ]
    },
    {
     "name": "stderr",
     "output_type": "stream",
     "text": [
      "@> 30645 atoms and 1 coordinate set(s) were parsed in 0.26s.\n",
      "@> 8384 atoms and 1 coordinate set(s) were parsed in 0.07s.\n"
     ]
    },
    {
     "name": "stdout",
     "output_type": "stream",
     "text": [
      "COVOX-159:54531.90+10260.95-64026.24 = 383.31\n",
      "COVOX-159:54531.90+6046.34-59858.93 = 359.65\n",
      "COVOX-159:54531.90+5534.02-59993.88 = 36.02\n",
      "COVOX-222\n",
      "chain E-chain A-chain B\n"
     ]
    },
    {
     "name": "stderr",
     "output_type": "stream",
     "text": [
      "@> 8248 atoms and 1 coordinate set(s) were parsed in 0.07s.\n"
     ]
    },
    {
     "name": "stdout",
     "output_type": "stream",
     "text": [
      "COVOX-222:10220.64+18876.30-26876.82 = 1110.06\n",
      "COVOX-222:10220.64+10874.17-19699.55 = 697.64\n",
      "COVOX-222:10220.64+11214.41-20550.15 = 442.45\n",
      "COVOX-278\n",
      "chain E-chain H-chain L\n"
     ]
    },
    {
     "name": "stderr",
     "output_type": "stream",
     "text": [
      "@> 8911 atoms and 1 coordinate set(s) were parsed in 0.08s.\n"
     ]
    },
    {
     "name": "stdout",
     "output_type": "stream",
     "text": [
      "COVOX-278:10307.69+19800.48-28447.14 = 830.52\n",
      "COVOX-278:10307.69+11400.82-20866.18 = 421.16\n",
      "COVOX-278:10307.69+11536.37-20882.23 = 480.91\n",
      "S2X35\n",
      "chain R-chain H-chain L\n"
     ]
    },
    {
     "name": "stderr",
     "output_type": "stream",
     "text": [
      "@> 2790 atoms and 1 coordinate set(s) were parsed in 0.02s.\n"
     ]
    },
    {
     "name": "stdout",
     "output_type": "stream",
     "text": [
      "S2X35:10111.49+20034.19-28294.58 = 925.55\n",
      "S2X35:10111.49+12045.42-20757.25 = 699.83\n",
      "S2X35:10111.49+11450.83-20973.53 = 294.39\n",
      "S2D106\n",
      "chain E-chain H-chain L\n"
     ]
    },
    {
     "name": "stderr",
     "output_type": "stream",
     "text": [
      "@> 8251 atoms and 1 coordinate set(s) were parsed in 0.07s.\n"
     ]
    },
    {
     "name": "stdout",
     "output_type": "stream",
     "text": [
      "S2D106:9612.03+10165.87-18255.13 = 761.38\n",
      "S2D106:9612.03+6613.00-15052.72 = 586.16\n",
      "S2D106:9612.03+5240.70-14410.98 = 220.88\n",
      "C099\n",
      "chain E-chain H-chain L\n",
      "C099:10107.15+18743.64-26602.25 = 1124.28\n",
      "C099:10107.15+11010.73-19625.83 = 746.03\n",
      "C099:10107.15+11103.37-20378.98 = 415.77\n",
      "C032\n",
      "chain B-chain H-chain L\n"
     ]
    },
    {
     "name": "stderr",
     "output_type": "stream",
     "text": [
      "@> 26323 atoms and 1 coordinate set(s) were parsed in 0.21s.\n"
     ]
    },
    {
     "name": "stdout",
     "output_type": "stream",
     "text": [
      "C032:49959.83+10418.81-58765.27 = 806.68\n",
      "C032:49959.83+6582.77-55335.88 = 603.36\n",
      "C032:49959.83+5614.27-55036.52 = 268.79\n",
      "C051\n",
      "chain A-chain H-chain L\n"
     ]
    },
    {
     "name": "stderr",
     "output_type": "stream",
     "text": [
      "@> 29719 atoms and 1 coordinate set(s) were parsed in 0.24s.\n"
     ]
    },
    {
     "name": "stdout",
     "output_type": "stream",
     "text": [
      "C051:52177.83+11064.29-61374.67 = 933.73\n",
      "C051:52177.83+7107.01-57623.79 = 830.53\n",
      "C051:52177.83+5887.35-57785.25 = 139.96\n",
      "C548\n",
      "chain B-chain H-chain L\n"
     ]
    },
    {
     "name": "stderr",
     "output_type": "stream",
     "text": [
      "@> 29952 atoms and 1 coordinate set(s) were parsed in 0.25s.\n",
      "@> 2847 atoms and 1 coordinate set(s) were parsed in 0.03s.\n"
     ]
    },
    {
     "name": "stdout",
     "output_type": "stream",
     "text": [
      "C548:52415.47+11028.89-61605.16 = 919.60\n",
      "C548:52415.47+6778.02-58343.03 = 425.23\n",
      "C548:52415.47+6231.16-57537.14 = 554.74\n",
      "S2X259\n",
      "chain B-chain H-chain L\n",
      "S2X259:8725.82+10414.14-17309.83 = 915.06\n",
      "S2X259:8725.82+6594.00-14032.81 = 643.50\n",
      "S2X259:8725.82+5517.82-13635.58 = 304.03\n"
     ]
    }
   ],
   "source": [
    "\n",
    "AbHL_area=[]\n",
    "AbH_area=[]\n",
    "AbL_area=[]\n",
    "\n",
    "name2 =[]\n",
    "\n",
    "\n",
    "for idx,row in seq_data_Ab.iterrows():\n",
    "    \n",
    "    pdb = row['pdb']\n",
    "    name = row['Name']\n",
    "    filename = os.path.join(\"Abs\",f\"{pdb.lower()}.pdb\")\n",
    "    VH_chain = row['VH chain']\n",
    "    VL_chain = row['VL chain']\n",
    "    Ag_chain = row['RBD chain']\n",
    "    Ab_Ag_chains = f'chain {VH_chain} {VL_chain} {Ag_chain}'\n",
    "    VH_Ag_chains = f'chain {VH_chain} {Ag_chain}'\n",
    "    VL_Ag_chains = f'chain {VL_chain} {Ag_chain}'\n",
    "    Ab_chains = f'chain {VH_chain} {VL_chain}'\n",
    "    VH_chain = f'chain {VH_chain}'\n",
    "    VL_chain = f'chain {VL_chain}'\n",
    "    Ag_chain = f'chain {Ag_chain}'\n",
    "    print(name)\n",
    "    print(f'{Ag_chain}-{VH_chain}-{VL_chain}')\n",
    "    \n",
    "    struct_RBD_VHL = prody.parsePDB(filename)\n",
    "    \n",
    "    strcut_RBD    = struct_RBD_VHL.select(Ag_chain).copy()\n",
    "    strcut_VHL    = struct_RBD_VHL.select(Ab_chains).copy()\n",
    "    struct_RBD_VHL = struct_RBD_VHL.select(Ab_Ag_chains).copy()\n",
    "    struct_RBD_VH = struct_RBD_VHL.select(VH_Ag_chains).copy()\n",
    "    struct_RBD_VL = struct_RBD_VHL.select(VL_Ag_chains).copy()\n",
    "    strcut_VH    = struct_RBD_VHL.select(VH_chain).copy()\n",
    "    struct_VL = struct_RBD_VHL.select(VL_chain).copy()\n",
    "    prody.writePDB(f\"BuriedArea/annotated_{pdb}_A.pdb\",strcut_RBD)\n",
    "    prody.writePDB(f\"BuriedArea/annotated_{pdb}_HL.pdb\",strcut_VHL)\n",
    "    prody.writePDB(f\"BuriedArea/annotated_{pdb}_A_HL.pdb\",struct_RBD_VHL)\n",
    "    prody.writePDB(f\"BuriedArea/annotated_{pdb}_A_H.pdb\",struct_RBD_VH)\n",
    "    prody.writePDB(f\"BuriedArea/annotated_{pdb}_A_L.pdb\",struct_RBD_VL)\n",
    "    prody.writePDB(f\"BuriedArea/annotated_{pdb}_H.pdb\",strcut_VH)\n",
    "    prody.writePDB(f\"BuriedArea/annotated_{pdb}_L.pdb\",struct_VL)\n",
    "\n",
    "    RBD_struct = freesasa.Structure(f\"BuriedArea/annotated_{pdb}_A.pdb\")\n",
    "    RBD_apo_area = freesasa.calc(RBD_struct).totalArea()\n",
    "\n",
    "    VH_apo_struct = freesasa.Structure(f\"BuriedArea/annotated_{pdb}_H.pdb\")\n",
    "    VH_apo_area = freesasa.calc(VH_apo_struct).totalArea()\n",
    "    \n",
    "    VL_apo_struct = freesasa.Structure(f\"BuriedArea/annotated_{pdb}_L.pdb\")\n",
    "    VL_apo_area = freesasa.calc(VL_apo_struct).totalArea()\n",
    "    \n",
    "    \n",
    "    VHL_apo_struct = freesasa.Structure(f\"BuriedArea/annotated_{pdb}_HL.pdb\")\n",
    "    VHL_apo_area = freesasa.calc(VHL_apo_struct).totalArea()\n",
    "\n",
    "    VHL_bound_struct = freesasa.Structure(f\"BuriedArea/annotated_{pdb}_A_HL.pdb\")\n",
    "    VHL_bound_area = freesasa.calc(VHL_bound_struct).totalArea()\n",
    "    \n",
    "    VH_bound_struct = freesasa.Structure(f\"BuriedArea/annotated_{pdb}_A_H.pdb\")\n",
    "    VH_bound_area = freesasa.calc(VH_bound_struct).totalArea()\n",
    "    \n",
    "    VL_bound_struct = freesasa.Structure(f\"BuriedArea/annotated_{pdb}_A_L.pdb\")\n",
    "    VL_bound_area = freesasa.calc(VL_bound_struct).totalArea()\n",
    "\n",
    "    VHL_buried = (RBD_apo_area+VHL_apo_area-VHL_bound_area)/2\n",
    "    AbHL_area.append(VHL_buried)\n",
    "    #name2.append(name)\n",
    "    \n",
    "    VH_buried = (RBD_apo_area+VH_apo_area-VH_bound_area)/2\n",
    "    AbH_area.append(VH_buried)\n",
    "    #name2.append(name)\n",
    "    \n",
    "    VL_buried = (RBD_apo_area+VL_apo_area-VL_bound_area)/2\n",
    "    AbL_area.append(VL_buried)\n",
    "    name2.append(name)\n",
    "    \n",
    "    print(f\"{name}:{RBD_apo_area:.2f}+{VHL_apo_area:.2f}-{VHL_bound_area:.2f} = {VHL_buried:.2f}\")\n",
    "    print(f\"{name}:{RBD_apo_area:.2f}+{VH_apo_area:.2f}-{VH_bound_area:.2f} = {VH_buried:.2f}\")\n",
    "    print(f\"{name}:{RBD_apo_area:.2f}+{VL_apo_area:.2f}-{VL_bound_area:.2f} = {VL_buried:.2f}\")\n",
    "# for pdb in Ab_set['name']:\n",
    "#     try:\n",
    "#         filename = f\"annotated_{pdb}.pdb\"\n",
    "        \n",
    "#         struct_RBD_VHL = prody.parsePDB(f'Abs/{filename}')\n",
    "#         print(struct_RBD_VHL)\n",
    "        \n",
    "#         strcut_RBD    = struct_RBD_VHL.select(Ab_chains).copy()\n",
    "#         strcut_VHL    = struct_RBD_VHL.select(Ag_struct).copy()\n",
    "#         prody.writePDB(f\"BuriedArea/annotated_{pdb}_A.pdb\",strcut_RBD)\n",
    "#         prody.writePDB(f\"BuriedArea/annotated_{pdb}_HL.pdb\",strcut_VHL)\n",
    "        \n",
    "#         RBD_struct = freesasa.Structure(f\"BuriedArea/annotated_{pdb}_A.pdb\")\n",
    "#         RBD_apo_area = freesasa.calc(RBD_struct).totalArea()\n",
    "\n",
    "        \n",
    "#         VHL_apo_struct = freesasa.Structure(f\"BuriedArea/annotated_{pdb}_HL.pdb\")\n",
    "#         VHL_apo_area = freesasa.calc(VHL_apo_struct).totalArea()\n",
    "        \n",
    "#         VHL_bound_struct = freesasa.Structure(f\"Abs/{filename}\")\n",
    "#         VHL_bound_area = freesasa.calc(VHL_bound_struct).totalArea()\n",
    "        \n",
    "# #         print(\"RBD_APO\\tVH/VL\\tBound\")\n",
    "# #         print(f\"{RBD_apo_area}\\t{VH_apo_area}\\t{VH_bound_area}\")\n",
    "# #         print(f\"{RBD_apo_area}\\t{VL_apo_area}\\t{VL_bound_area}\")\n",
    "# #         print(f\"{RBD_apo_area}\\t{VHL_apo_area}\\t{VHL_bound_area}\")\n",
    "\n",
    "#         VHL_buried = (RBD_apo_area+VHL_apo_area-VHL_bound_area)/2\n",
    "        \n",
    "\n",
    "#         AbH_area.append(VH_buried)\n",
    "#         AbL_area.append(VL_buried)\n",
    "        \n",
    "#         name2.append(filename)\n",
    "#     except Exception as e:\n",
    "#         print(f\"sth wrong with {pdb}\")\n",
    "#         print(traceback.print_exc())"
   ]
  },
  {
   "cell_type": "code",
   "execution_count": 104,
   "metadata": {},
   "outputs": [],
   "source": [
    "AbHL_area = pd.DataFrame({\"Name\":name2,'BuriedArea(VHL)':AbHL_area,'BuriedArea(VH)':AbH_area,'BuriedArea(VL)':AbL_area})\n",
    "\n",
    "#Nb_area['RBS'] = Nb_area['Name'].apply(lambda x: Nb_class[x])\n",
    "#Pan_Nb_area = pd.DataFrame({\"Name\":pan_name1,'BuriedArea':Pan_Nb_area})"
   ]
  },
  {
   "cell_type": "code",
   "execution_count": 80,
   "metadata": {},
   "outputs": [],
   "source": [
    "AbHL_area.to_csv(\"AbBuriedArea.csv\")"
   ]
  },
  {
   "cell_type": "markdown",
   "metadata": {},
   "source": [
    "## RBD"
   ]
  },
  {
   "cell_type": "code",
   "execution_count": 9,
   "metadata": {},
   "outputs": [],
   "source": [
    "rbd_ace2=freesasa.Structure(f\"6m0j.pdb\")"
   ]
  },
  {
   "cell_type": "code",
   "execution_count": 10,
   "metadata": {},
   "outputs": [],
   "source": [
    "result = freesasa.calc(rbd_ace2)"
   ]
  },
  {
   "cell_type": "code",
   "execution_count": 27,
   "metadata": {},
   "outputs": [
    {
     "name": "stdout",
     "output_type": "stream",
     "text": [
      "183.0349214345777\n",
      "111.65993234503809\n",
      "127.63301194811831\n",
      "11.64029609652972\n",
      "52.792801133589315\n",
      "13.405262917686708\n",
      "43.32538203829244\n",
      "101.6265874763742\n",
      "11.252156699080805\n",
      "19.309833191211734\n",
      "124.35834737868063\n",
      "33.21683613061526\n",
      "132.62824502645253\n",
      "162.10618075391034\n",
      "9.34986101218782\n",
      "22.92957846935525\n",
      "16.280807595695876\n",
      "0.0\n",
      "36.48611164390304\n",
      "31.459867839854006\n",
      "5.788374478751631\n",
      "83.33204395196636\n",
      "84.0374036117367\n",
      "71.94264268912099\n",
      "143.1989402964016\n",
      "1.042242658238256\n",
      "32.73051062512463\n",
      "109.20186173089091\n",
      "14.76850460961754\n",
      "49.24184369930978\n",
      "1.1043825719165283\n",
      "64.77562837580471\n",
      "11.060971415613167\n",
      "31.435444874027652\n",
      "91.11263914926795\n",
      "21.854699797296703\n",
      "96.50329103237044\n",
      "112.89264481778227\n",
      "58.31059183743747\n",
      "103.05698868243977\n",
      "71.4389646876497\n",
      "51.14737165732988\n",
      "73.5952662666924\n",
      "28.14850015029701\n",
      "20.931112511481977\n",
      "110.47530234269647\n",
      "35.07540872870006\n",
      "68.53660640389218\n",
      "67.73481829749608\n",
      "58.344828232341655\n",
      "41.00202477384921\n",
      "14.620038946112878\n",
      "82.26533156158159\n",
      "135.47241481798574\n",
      "4.933586682961071\n",
      "23.055312268323494\n",
      "121.60866467359008\n",
      "73.83588681388625\n",
      "51.453824507463594\n",
      "22.79407278573026\n",
      "6.056077863239858\n",
      "10.809738282051246\n",
      "0.0\n",
      "44.49837085051863\n",
      "1.232414772136836\n",
      "0.34625633764314023\n",
      "11.668057416195794\n",
      "0.0\n",
      "0.0\n",
      "0.0\n",
      "56.01111025544981\n",
      "17.59582924002385\n",
      "54.84350067007357\n",
      "19.04029549428708\n",
      "19.126128842137128\n",
      "168.58626861674912\n",
      "26.24412948143695\n",
      "3.372971566649371\n",
      "10.417193599405012\n",
      "32.132296506678664\n",
      "52.749776719500744\n",
      "64.81307024144198\n",
      "108.90019932540064\n",
      "26.006638207262434\n",
      "81.39502569757184\n",
      "0.0\n",
      "1.3113471446755764\n",
      "28.715626263093434\n",
      "39.1466814548499\n",
      "0.8560022134826406\n",
      "0.8105680107609377\n",
      "35.89264622457485\n",
      "2.115068284041081\n",
      "21.58874168166959\n",
      "122.00204103015191\n",
      "121.22528366696864\n",
      "15.351468786044457\n",
      "78.78135230911568\n",
      "0.6259822108569286\n",
      "2.9254489639051178\n",
      "3.141851731137064\n",
      "0.0\n",
      "0.026182399405030806\n",
      "38.80866286343667\n",
      "52.001956180286925\n",
      "0.2794748029407656\n",
      "27.315693720837956\n",
      "122.99733043871852\n",
      "106.38020160497078\n",
      "4.24807031298698\n",
      "13.78480572328875\n",
      "124.88427862081963\n",
      "134.14310156302673\n",
      "60.512358203649214\n",
      "6.603596738157806\n",
      "21.40139781374534\n",
      "124.26366582387809\n",
      "56.19304887058799\n",
      "2.966440075081814\n",
      "43.30510098735768\n",
      "38.23072025218482\n",
      "4.895200261701651\n",
      "41.371228974487636\n",
      "54.25773055274559\n",
      "51.21607472635794\n",
      "146.10600066711302\n",
      "66.64538608675493\n",
      "90.49746256270778\n",
      "9.604061220327937\n",
      "146.70163220205086\n",
      "64.82552923895287\n",
      "57.76774629253304\n",
      "55.88976094241486\n",
      "102.79806948787855\n",
      "24.947033381329927\n",
      "106.9111490036644\n",
      "53.3961017825976\n",
      "81.0000447948539\n",
      "116.9459954045065\n",
      "22.618313647519543\n",
      "52.45859221549465\n",
      "69.59090677807397\n",
      "52.65065921381697\n",
      "24.766972747985314\n",
      "102.32013195334825\n",
      "84.98175673737617\n",
      "94.41624583311463\n",
      "15.027688585018218\n",
      "133.98837820792926\n",
      "62.11197794053936\n",
      "100.7352453017071\n",
      "112.64317629046901\n",
      "43.52766328828761\n",
      "180.142003736017\n",
      "42.490639895028565\n",
      "5.956775335077069\n",
      "87.20335284753361\n",
      "67.31970708611935\n",
      "3.2154364967517965\n",
      "5.964782799010234\n",
      "77.02694944472864\n",
      "43.038363677781746\n",
      "9.719784690528776\n",
      "26.670327523628167\n",
      "1.8699930498004382\n",
      "57.103127512484704\n",
      "48.93412224788298\n",
      "128.49777647105594\n",
      "35.992689954952276\n",
      "47.24673804419772\n",
      "95.46009409571116\n",
      "19.440944742320216\n",
      "120.71480572412679\n",
      "21.288944966768113\n",
      "0.0\n",
      "21.77845345898919\n",
      "5.060874905562537\n",
      "0.0\n",
      "0.0\n",
      "0.2052146366581456\n",
      "1.9939397223363926\n",
      "13.410427762426272\n",
      "16.963891129204335\n",
      "44.98690300672614\n",
      "121.99390456158915\n",
      "109.4840532951651\n",
      "196.8562833116435\n",
      "59.683387529664344\n",
      "110.31142929141843\n",
      "44.63143159310618\n",
      "43.21875858019097\n",
      "1.5482498609178073\n",
      "44.271560876481615\n",
      "54.37644285941519\n"
     ]
    }
   ],
   "source": [
    "for i in range(333,527):\n",
    "    print(result.residueAreas()['E'][str(i)].total)"
   ]
  }
 ],
 "metadata": {
  "kernelspec": {
   "display_name": "Python 3",
   "language": "python",
   "name": "python3"
  },
  "language_info": {
   "codemirror_mode": {
    "name": "ipython",
    "version": 3
   },
   "file_extension": ".py",
   "mimetype": "text/x-python",
   "name": "python",
   "nbconvert_exporter": "python",
   "pygments_lexer": "ipython3",
   "version": "3.8.10"
  }
 },
 "nbformat": 4,
 "nbformat_minor": 4
}
