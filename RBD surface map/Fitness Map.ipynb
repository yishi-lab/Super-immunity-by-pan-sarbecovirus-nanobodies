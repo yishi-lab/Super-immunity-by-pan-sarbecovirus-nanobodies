{
 "cells": [
  {
   "cell_type": "code",
   "execution_count": 78,
   "id": "9e0cb5c9",
   "metadata": {},
   "outputs": [],
   "source": [
    "import  pandas as pd\n",
    "import numpy as np\n",
    "import prody\n",
    "from scipy.stats.mstats import gmean,hmean\n",
    "from Bio import SeqIO\n",
    "import matplotlib.pyplot as plt"
   ]
  },
  {
   "cell_type": "code",
   "execution_count": 161,
   "id": "16771f76",
   "metadata": {},
   "outputs": [],
   "source": [
    "burial = pd.read_csv(\"../6M0J.csv\")"
   ]
  },
  {
   "cell_type": "code",
   "execution_count": 165,
   "id": "c93c6112",
   "metadata": {},
   "outputs": [],
   "source": [
    "burial['exposure'] = burial['depth'].apply(lambda x: int(x<3))"
   ]
  },
  {
   "cell_type": "code",
   "execution_count": 69,
   "id": "9495b40b",
   "metadata": {},
   "outputs": [],
   "source": [
    "mutation_effect = pd.read_csv(\"../Epitopes/single_mut_effects.csv\")\n",
    "mutation_effect = mutation_effect.groupby(\"site_SARS2\")[['bind_avg','expr_avg']].mean().T"
   ]
  },
  {
   "cell_type": "code",
   "execution_count": 70,
   "id": "61a8249f",
   "metadata": {},
   "outputs": [],
   "source": [
    "consurf_data = pd.read_csv(\"/Users/zhesang/Dropbox/RBD_Nb_structures (1)/Manuscript/Figures/Figure 6/Figures_Zhe/consurf_sarb.csv\")\n",
    "consurf_data = consurf_data[(consurf_data['POS1']>=15)&(consurf_data['POS1']<=208)].copy()\n",
    "consurf_data['POS1'] = (consurf_data['POS1'] + 318).astype(int)\n",
    "consurf_data['SCORE1'] = consurf_data['SCORE1'].astype(float)\n",
    "data2_consurf = consurf_data.T\n",
    "data2_consurf.columns = np.arange(333,527)"
   ]
  },
  {
   "cell_type": "code",
   "execution_count": 83,
   "id": "02f7cf76",
   "metadata": {},
   "outputs": [
    {
     "data": {
      "text/plain": [
       "[<matplotlib.lines.Line2D at 0x7f8d5298a880>]"
      ]
     },
     "execution_count": 83,
     "metadata": {},
     "output_type": "execute_result"
    },
    {
     "data": {
      "image/png": "[encoded data removed]",
      "text/plain": [
       "<Figure size 432x288 with 1 Axes>"
      ]
     },
     "metadata": {
      "needs_background": "light"
     },
     "output_type": "display_data"
    }
   ],
   "source": [
    "plt.plot(data2_consurf.loc['SCORE2'].values,mutation_effect[np.arange(333,527)].loc['expr_avg'].values,'.')"
   ]
  },
  {
   "cell_type": "code",
   "execution_count": 168,
   "id": "339df95d",
   "metadata": {},
   "outputs": [
    {
     "data": {
      "text/plain": [
       "array([1, 1, 1, 1, 1, 1, 1, 1, 1, 1, 1, 1, 1, 1, 1, 1, 0, 0, 0, 1, 0, 1,\n",
       "       1, 1, 1, 1, 1, 1, 1, 1, 1, 1, 0, 1, 1, 1, 1, 1, 1, 1, 1, 1, 1, 1,\n",
       "       1, 1, 1, 1, 1, 1, 1, 1, 1, 1, 0, 1, 1, 1, 1, 1, 1, 0, 0, 1, 1, 0,\n",
       "       1, 0, 0, 0, 1, 1, 1, 1, 1, 1, 1, 1, 1, 1, 1, 1, 1, 1, 1, 0, 0, 1,\n",
       "       0, 0, 0, 0, 0, 1, 1, 1, 1, 1, 0, 0, 1, 0, 0, 1, 1, 1, 1, 1, 1, 1,\n",
       "       1, 1, 1, 1, 1, 1, 1, 1, 0, 1, 0, 0, 0, 1, 1, 1, 1, 1, 0, 1, 1, 1,\n",
       "       1, 1, 1, 1, 1, 1, 1, 1, 1, 1, 1, 1, 1, 1, 1, 1, 1, 1, 1, 1, 1, 1,\n",
       "       1, 1, 1, 1, 0, 1, 1, 1, 1, 1, 1, 0, 1, 1, 1, 1, 1, 1, 1, 0, 0, 0,\n",
       "       0, 0, 0, 0, 0, 1, 1, 1, 1, 1, 1, 1, 1, 1, 1, 0, 1, 1])"
      ]
     },
     "execution_count": 168,
     "metadata": {},
     "output_type": "execute_result"
    }
   ],
   "source": []
  },
  {
   "cell_type": "code",
   "execution_count": 170,
   "id": "08ddaf98",
   "metadata": {},
   "outputs": [],
   "source": [
    "pd.DataFrame({'19RBD':Sarb_19_id.loc['Identity'].values,\\\n",
    "              'exposure':burial['exposure'].values,\\\n",
    "              'consurf':data2_consurf.loc['SCORE2'].values,\\\n",
    "              'fitness':mutation_effect[np.arange(333,527)].loc['expr_avg'].values})\\\n",
    ".to_csv(\"consurf_fitness.csv\")"
   ]
  },
  {
   "cell_type": "code",
   "execution_count": 97,
   "id": "61fded29",
   "metadata": {},
   "outputs": [
    {
     "data": {
      "text/html": [
       "<div>\n",
       "<style scoped>\n",
       "    .dataframe tbody tr th:only-of-type {\n",
       "        vertical-align: middle;\n",
       "    }\n",
       "\n",
       "    .dataframe tbody tr th {\n",
       "        vertical-align: top;\n",
       "    }\n",
       "\n",
       "    .dataframe thead th {\n",
       "        text-align: right;\n",
       "    }\n",
       "</style>\n",
       "<table border=\"1\" class=\"dataframe\">\n",
       "  <thead>\n",
       "    <tr style=\"text-align: right;\">\n",
       "      <th></th>\n",
       "      <th>333</th>\n",
       "      <th>334</th>\n",
       "      <th>335</th>\n",
       "      <th>336</th>\n",
       "      <th>337</th>\n",
       "      <th>338</th>\n",
       "      <th>339</th>\n",
       "      <th>340</th>\n",
       "      <th>341</th>\n",
       "      <th>342</th>\n",
       "      <th>...</th>\n",
       "      <th>517</th>\n",
       "      <th>518</th>\n",
       "      <th>519</th>\n",
       "      <th>520</th>\n",
       "      <th>521</th>\n",
       "      <th>522</th>\n",
       "      <th>523</th>\n",
       "      <th>524</th>\n",
       "      <th>525</th>\n",
       "      <th>526</th>\n",
       "    </tr>\n",
       "  </thead>\n",
       "  <tbody>\n",
       "    <tr>\n",
       "      <th>Identity</th>\n",
       "      <td>0.0</td>\n",
       "      <td>0.333333</td>\n",
       "      <td>0.333333</td>\n",
       "      <td>0.0</td>\n",
       "      <td>0.0</td>\n",
       "      <td>0.0</td>\n",
       "      <td>0.666667</td>\n",
       "      <td>0.333333</td>\n",
       "      <td>0.0</td>\n",
       "      <td>0.0</td>\n",
       "      <td>...</td>\n",
       "      <td>0.0</td>\n",
       "      <td>0.0</td>\n",
       "      <td>1.0</td>\n",
       "      <td>0.0</td>\n",
       "      <td>0.0</td>\n",
       "      <td>0.0</td>\n",
       "      <td>0.0</td>\n",
       "      <td>0.0</td>\n",
       "      <td>0.0</td>\n",
       "      <td>0.0</td>\n",
       "    </tr>\n",
       "  </tbody>\n",
       "</table>\n",
       "<p>1 rows × 194 columns</p>\n",
       "</div>"
      ],
      "text/plain": [
       "          333       334       335  336  337  338       339       340  341  \\\n",
       "Identity  0.0  0.333333  0.333333  0.0  0.0  0.0  0.666667  0.333333  0.0   \n",
       "\n",
       "          342  ...  517  518  519  520  521  522  523  524  525  526  \n",
       "Identity  0.0  ...  0.0  0.0  1.0  0.0  0.0  0.0  0.0  0.0  0.0  0.0  \n",
       "\n",
       "[1 rows x 194 columns]"
      ]
     },
     "execution_count": 97,
     "metadata": {},
     "output_type": "execute_result"
    }
   ],
   "source": [
    "Sarb_4_id"
   ]
  },
  {
   "cell_type": "code",
   "execution_count": 9,
   "id": "1a0b178b",
   "metadata": {},
   "outputs": [
    {
     "name": "stderr",
     "output_type": "stream",
     "text": [
      "@> 1559 atoms and 1 coordinate set(s) were parsed in 0.02s.\n"
     ]
    },
    {
     "data": {
      "text/plain": [
       "'RBD_fitness.pdb'"
      ]
     },
     "execution_count": 9,
     "metadata": {},
     "output_type": "execute_result"
    }
   ],
   "source": [
    "#Spike_struct = prody.parsePDB(\"spike.pdb\")\n",
    "RBD_struct = prody.parsePDB(\"RBD.pdb\")\n",
    "\n",
    "# beta = []\n",
    "# for resi in Spike_struct.getResnums():\n",
    "#     count = SpikeMap[resi]\n",
    "#     if count > 500:\n",
    "#         count=500\n",
    "#     beta.append(count)\n",
    "    \n",
    "# Spike_struct.setBetas(beta)\n",
    "# prody.writePDB('spike_mutation_count.pdb', Spike_struct)\n",
    "\n",
    "beta = []\n",
    "for resi in RBD_struct.getResnums():\n",
    "    if not resi in mutation_effect.columns:\n",
    "        beta.append(-5)\n",
    "        continue\n",
    "    count = mutation_effect.loc['expr_avg',resi]\n",
    "    beta.append(count)\n",
    "RBD_struct.setBetas(beta)\n",
    "prody.writePDB('RBD_fitness.pdb', RBD_struct)"
   ]
  },
  {
   "cell_type": "code",
   "execution_count": 93,
   "id": "0a1e2915",
   "metadata": {},
   "outputs": [],
   "source": [
    "Sarb_4_data = np.zeros(201)\n",
    "reader = SeqIO.parse(\"../Epitopes/Sarb4.fas\",\"fasta\")\n",
    "sars2_align = next(reader).seq\n",
    "sars1_align = next(reader).seq\n",
    "RmY_align = next(reader).seq\n",
    "BM_align =  next(reader).seq\n",
    "for idx,(aa1,aa2,aa3,aa4) in enumerate(zip(sars2_align,sars1_align,RmY_align,BM_align)):\n",
    "    if aa1==aa2:\n",
    "        Sarb_4_data[idx]+=1\n",
    "    if aa1==aa3:\n",
    "        Sarb_4_data[idx]+=1\n",
    "    if aa1==aa4:\n",
    "        Sarb_4_data[idx]+=1\n",
    "Sarb_4_data = 1-(Sarb_4_data/3)\n",
    "Sarb_4_id = pd.DataFrame({\"Identity\":Sarb_4_data})\n",
    "Sarb_4_id = Sarb_4_id.T\n",
    "Sarb_4_id.columns = np.arange(331,532)\n",
    "Sarb_4_id = Sarb_4_id[np.arange(333,527)]"
   ]
  },
  {
   "cell_type": "code",
   "execution_count": null,
   "id": "d82c0bb8",
   "metadata": {},
   "outputs": [],
   "source": []
  },
  {
   "cell_type": "code",
   "execution_count": 138,
   "id": "6317ae1d",
   "metadata": {},
   "outputs": [],
   "source": [
    "sarb19data = pd.read_excel(\"19RBD_alignment.xlsx\")\n",
    "sarb19data = sarb19data[np.arange(331,532)]"
   ]
  },
  {
   "cell_type": "code",
   "execution_count": 143,
   "id": "93dfeb39",
   "metadata": {},
   "outputs": [],
   "source": [
    "sarb19data = pd.read_excel(\"19RBD_alignment.xlsx\")\n",
    "sarb19data = sarb19data[np.arange(331,532)]\n",
    "ref = sarb19data.values[0,:]\n",
    "others = sarb19data.values[1:,:]\n",
    "\n",
    "Sarb_19_data = np.ones(201)\n",
    "\n",
    "for idx,AA in enumerate(ref):\n",
    "    column = others[:,idx]\n",
    "    for aa in column:\n",
    "        if aa == AA:\n",
    "            Sarb_19_data[idx]+=1\n",
    "Sarb_19_id = pd.DataFrame({\"Identity\":Sarb_19_data/19},index=np.arange(331,532)).T\n",
    "Sarb_19_id = Sarb_19_id[np.arange(333,527)]\n"
   ]
  },
  {
   "cell_type": "code",
   "execution_count": 150,
   "id": "46c53fef",
   "metadata": {},
   "outputs": [],
   "source": []
  },
  {
   "cell_type": "code",
   "execution_count": 159,
   "id": "0042b8a0",
   "metadata": {},
   "outputs": [
    {
     "data": {
      "text/html": [
       "<div>\n",
       "<style scoped>\n",
       "    .dataframe tbody tr th:only-of-type {\n",
       "        vertical-align: middle;\n",
       "    }\n",
       "\n",
       "    .dataframe tbody tr th {\n",
       "        vertical-align: top;\n",
       "    }\n",
       "\n",
       "    .dataframe thead th {\n",
       "        text-align: right;\n",
       "    }\n",
       "</style>\n",
       "<table border=\"1\" class=\"dataframe\">\n",
       "  <thead>\n",
       "    <tr style=\"text-align: right;\">\n",
       "      <th></th>\n",
       "      <th>333</th>\n",
       "      <th>334</th>\n",
       "      <th>335</th>\n",
       "      <th>336</th>\n",
       "      <th>337</th>\n",
       "      <th>338</th>\n",
       "      <th>339</th>\n",
       "      <th>340</th>\n",
       "      <th>341</th>\n",
       "      <th>342</th>\n",
       "      <th>...</th>\n",
       "      <th>517</th>\n",
       "      <th>518</th>\n",
       "      <th>519</th>\n",
       "      <th>520</th>\n",
       "      <th>521</th>\n",
       "      <th>522</th>\n",
       "      <th>523</th>\n",
       "      <th>524</th>\n",
       "      <th>525</th>\n",
       "      <th>526</th>\n",
       "    </tr>\n",
       "  </thead>\n",
       "  <tbody>\n",
       "    <tr>\n",
       "      <th>Identity</th>\n",
       "      <td>1.0</td>\n",
       "      <td>0.947368</td>\n",
       "      <td>0.578947</td>\n",
       "      <td>1.0</td>\n",
       "      <td>1.0</td>\n",
       "      <td>1.0</td>\n",
       "      <td>0.421053</td>\n",
       "      <td>0.421053</td>\n",
       "      <td>0.947368</td>\n",
       "      <td>1.0</td>\n",
       "      <td>...</td>\n",
       "      <td>1.0</td>\n",
       "      <td>1.0</td>\n",
       "      <td>0.052632</td>\n",
       "      <td>0.947368</td>\n",
       "      <td>1.0</td>\n",
       "      <td>1.0</td>\n",
       "      <td>1.0</td>\n",
       "      <td>1.0</td>\n",
       "      <td>1.0</td>\n",
       "      <td>1.0</td>\n",
       "    </tr>\n",
       "  </tbody>\n",
       "</table>\n",
       "<p>1 rows × 194 columns</p>\n",
       "</div>"
      ],
      "text/plain": [
       "          333       334       335  336  337  338       339       340  \\\n",
       "Identity  1.0  0.947368  0.578947  1.0  1.0  1.0  0.421053  0.421053   \n",
       "\n",
       "               341  342  ...  517  518       519       520  521  522  523  \\\n",
       "Identity  0.947368  1.0  ...  1.0  1.0  0.052632  0.947368  1.0  1.0  1.0   \n",
       "\n",
       "          524  525  526  \n",
       "Identity  1.0  1.0  1.0  \n",
       "\n",
       "[1 rows x 194 columns]"
      ]
     },
     "execution_count": 159,
     "metadata": {},
     "output_type": "execute_result"
    }
   ],
   "source": [
    "Sarb_19_id"
   ]
  },
  {
   "cell_type": "code",
   "execution_count": 158,
   "id": "1a530017",
   "metadata": {},
   "outputs": [
    {
     "name": "stderr",
     "output_type": "stream",
     "text": [
      "@> 1559 atoms and 1 coordinate set(s) were parsed in 0.02s.\n"
     ]
    },
    {
     "data": {
      "text/plain": [
       "'RBD_Sar19RBD.pdb'"
      ]
     },
     "execution_count": 158,
     "metadata": {},
     "output_type": "execute_result"
    }
   ],
   "source": [
    "#Spike_struct = prody.parsePDB(\"spike.pdb\")\n",
    "RBD_struct = prody.parsePDB(\"RBD.pdb\")\n",
    "\n",
    "# beta = []\n",
    "# for resi in Spike_struct.getResnums():\n",
    "#     count = SpikeMap[resi]\n",
    "#     if count > 500:\n",
    "#         count=500\n",
    "#     beta.append(count)\n",
    "    \n",
    "# Spike_struct.setBetas(beta)\n",
    "# prody.writePDB('spike_mutation_count.pdb', Spike_struct)\n",
    "\n",
    "beta = []\n",
    "for resi in RBD_struct.getResnums():\n",
    "    if not resi in Sarb_19_id.columns:\n",
    "        beta.append(-5)\n",
    "        continue\n",
    "    identity = round(Sarb_19_id.loc['Identity',resi],1)\n",
    "    if identity<0.5:\n",
    "        identity=0.5\n",
    "    \n",
    "    beta.append(identity)\n",
    "RBD_struct.setBetas(beta)\n",
    "prody.writePDB('RBD_Sar19RBD.pdb', RBD_struct)"
   ]
  },
  {
   "cell_type": "code",
   "execution_count": 157,
   "id": "c8db684e",
   "metadata": {},
   "outputs": [
    {
     "data": {
      "text/plain": [
       "0.2"
      ]
     },
     "execution_count": 157,
     "metadata": {},
     "output_type": "execute_result"
    }
   ],
   "source": [
    "round(0.19,1)"
   ]
  },
  {
   "cell_type": "code",
   "execution_count": 141,
   "id": "b8dc7c84",
   "metadata": {},
   "outputs": [],
   "source": [
    "Sarb_4_data = np.zeros(201)\n",
    "reader = SeqIO.parse(\"../Epitopes/Sarb4.fas\",\"fasta\")\n",
    "sars2_align = next(reader).seq\n",
    "sars1_align = next(reader).seq\n",
    "RmY_align = next(reader).seq\n",
    "BM_align =  next(reader).seq\n",
    "for idx,(aa1,aa2,aa3,aa4) in enumerate(zip(sars2_align,sars1_align,RmY_align,BM_align)):\n",
    "    if aa1==aa2:\n",
    "        Sarb_4_data[idx]+=1\n",
    "    if aa1==aa3:\n",
    "        Sarb_4_data[idx]+=1\n",
    "    if aa1==aa4:\n",
    "        Sarb_4_data[idx]+=1\n",
    "Sarb_4_data = 1-(Sarb_4_data/3)\n",
    "Sarb_4_id = pd.DataFrame({\"Identity\":Sarb_4_data})\n",
    "Sarb_4_id = Sarb_4_id.T\n",
    "Sarb_4_id.columns = np.arange(331,532)\n",
    "Sarb_4_id = Sarb_4_id[np.arange(333,527)]"
   ]
  },
  {
   "cell_type": "code",
   "execution_count": 57,
   "id": "4be71a18",
   "metadata": {},
   "outputs": [
    {
     "data": {
      "text/html": [
       "<div>\n",
       "<style scoped>\n",
       "    .dataframe tbody tr th:only-of-type {\n",
       "        vertical-align: middle;\n",
       "    }\n",
       "\n",
       "    .dataframe tbody tr th {\n",
       "        vertical-align: top;\n",
       "    }\n",
       "\n",
       "    .dataframe thead th {\n",
       "        text-align: right;\n",
       "    }\n",
       "</style>\n",
       "<table border=\"1\" class=\"dataframe\">\n",
       "  <thead>\n",
       "    <tr style=\"text-align: right;\">\n",
       "      <th></th>\n",
       "      <th>333</th>\n",
       "      <th>334</th>\n",
       "      <th>335</th>\n",
       "      <th>336</th>\n",
       "      <th>337</th>\n",
       "      <th>338</th>\n",
       "      <th>339</th>\n",
       "      <th>340</th>\n",
       "      <th>341</th>\n",
       "      <th>342</th>\n",
       "      <th>...</th>\n",
       "      <th>517</th>\n",
       "      <th>518</th>\n",
       "      <th>519</th>\n",
       "      <th>520</th>\n",
       "      <th>521</th>\n",
       "      <th>522</th>\n",
       "      <th>523</th>\n",
       "      <th>524</th>\n",
       "      <th>525</th>\n",
       "      <th>526</th>\n",
       "    </tr>\n",
       "  </thead>\n",
       "  <tbody>\n",
       "    <tr>\n",
       "      <th>Identity</th>\n",
       "      <td>1.0</td>\n",
       "      <td>0.666667</td>\n",
       "      <td>0.666667</td>\n",
       "      <td>1.0</td>\n",
       "      <td>1.0</td>\n",
       "      <td>1.0</td>\n",
       "      <td>0.333333</td>\n",
       "      <td>0.666667</td>\n",
       "      <td>1.0</td>\n",
       "      <td>1.0</td>\n",
       "      <td>...</td>\n",
       "      <td>1.0</td>\n",
       "      <td>1.0</td>\n",
       "      <td>0.0</td>\n",
       "      <td>1.0</td>\n",
       "      <td>1.0</td>\n",
       "      <td>1.0</td>\n",
       "      <td>1.0</td>\n",
       "      <td>1.0</td>\n",
       "      <td>1.0</td>\n",
       "      <td>1.0</td>\n",
       "    </tr>\n",
       "  </tbody>\n",
       "</table>\n",
       "<p>1 rows × 194 columns</p>\n",
       "</div>"
      ],
      "text/plain": [
       "          333       334       335  336  337  338       339       340  341  \\\n",
       "Identity  1.0  0.666667  0.666667  1.0  1.0  1.0  0.333333  0.666667  1.0   \n",
       "\n",
       "          342  ...  517  518  519  520  521  522  523  524  525  526  \n",
       "Identity  1.0  ...  1.0  1.0  0.0  1.0  1.0  1.0  1.0  1.0  1.0  1.0  \n",
       "\n",
       "[1 rows x 194 columns]"
      ]
     },
     "execution_count": 57,
     "metadata": {},
     "output_type": "execute_result"
    }
   ],
   "source": [
    "Sarb_4_id"
   ]
  },
  {
   "cell_type": "code",
   "execution_count": 58,
   "id": "e4a515ff",
   "metadata": {},
   "outputs": [
    {
     "data": {
      "text/plain": [
       "1.0"
      ]
     },
     "execution_count": 58,
     "metadata": {},
     "output_type": "execute_result"
    }
   ],
   "source": [
    "Sarb_4_id.loc['Identity',333]"
   ]
  },
  {
   "cell_type": "code",
   "execution_count": 67,
   "id": "e979062d",
   "metadata": {},
   "outputs": [
    {
     "name": "stderr",
     "output_type": "stream",
     "text": [
      "@> 1559 atoms and 1 coordinate set(s) were parsed in 0.02s.\n"
     ]
    },
    {
     "data": {
      "text/plain": [
       "'RBD_Sar4RBD_2.pdb'"
      ]
     },
     "execution_count": 67,
     "metadata": {},
     "output_type": "execute_result"
    }
   ],
   "source": [
    "#Spike_struct = prody.parsePDB(\"spike.pdb\")\n",
    "RBD_struct = prody.parsePDB(\"RBD.pdb\")\n",
    "\n",
    "# beta = []\n",
    "# for resi in Spike_struct.getResnums():\n",
    "#     count = SpikeMap[resi]\n",
    "#     if count > 500:\n",
    "#         count=500\n",
    "#     beta.append(count)\n",
    "    \n",
    "# Spike_struct.setBetas(beta)\n",
    "# prody.writePDB('spike_mutation_count.pdb', Spike_struct)\n",
    "\n",
    "beta = []\n",
    "for resi in RBD_struct.getResnums():\n",
    "    if not resi in Sarb_4_id.columns:\n",
    "        beta.append(-5)\n",
    "        continue\n",
    "    identity = Sarb_4_id.loc['Identity',resi]  \n",
    "    beta.append(identity)\n",
    "RBD_struct.setBetas(beta)\n",
    "prody.writePDB('RBD_Sar4RBD_2.pdb', RBD_struct)"
   ]
  },
  {
   "cell_type": "code",
   "execution_count": null,
   "id": "bbf85f34",
   "metadata": {},
   "outputs": [],
   "source": []
  }
 ],
 "metadata": {
  "kernelspec": {
   "display_name": "Python 3",
   "language": "python",
   "name": "python3"
  },
  "language_info": {
   "codemirror_mode": {
    "name": "ipython",
    "version": 3
   },
   "file_extension": ".py",
   "mimetype": "text/x-python",
   "name": "python",
   "nbconvert_exporter": "python",
   "pygments_lexer": "ipython3",
   "version": "3.8.10"
  }
 },
 "nbformat": 4,
 "nbformat_minor": 5
}
