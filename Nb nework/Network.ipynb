{
 "cells": [
  {
   "cell_type": "code",
   "execution_count": 1,
   "id": "a64c7c80",
   "metadata": {
    "scrolled": true
   },
   "outputs": [],
   "source": [
    "import networkx as nx\n",
    "import Levenshtein as LD\n",
    "import numpy as np\n",
    "import pandas as pd\n",
    "#import pygraphviz\n",
    "import matplotlib.pyplot as plt\n",
    "from pyvis.network import Network\n",
    "from scipy.stats import *\n",
    "import seaborn as sns"
   ]
  },
  {
   "cell_type": "code",
   "execution_count": 4,
   "id": "9bcc4c8b",
   "metadata": {},
   "outputs": [],
   "source": [
    "def generate_dist_matrix(d):\n",
    "    num_CDR3 = len(d)\n",
    "    dist_mt = np.zeros((num_CDR3,num_CDR3))\n",
    "    for i, cdr3_i in enumerate(d):\n",
    "        for j,cdr3_j in enumerate(d):\n",
    "            if i!=j:\n",
    "                distance = LD.distance(cdr3_i,cdr3_j)\n",
    "                max_len = max(len(cdr3_i),len(cdr3_j))\n",
    "                r = distance/max_len\n",
    "                if r>0.3:\n",
    "                    continue\n",
    "                dist_mt[i,j] = r\n",
    "                dist_mt[j,i] = r\n",
    "    return pd.DataFrame(dist_mt,columns = d,index=d)\n",
    "def binding(x):\n",
    "    n = x.count('+')\n",
    "    if n==0:\n",
    "        return -6\n",
    "    if n>4:\n",
    "        n=4\n",
    "    return n-4"
   ]
  },
  {
   "cell_type": "code",
   "execution_count": 3,
   "id": "333d43be",
   "metadata": {},
   "outputs": [],
   "source": [
    "data = pd.read_excel(\"Pan.xlsx\")"
   ]
  },
  {
   "cell_type": "code",
   "execution_count": 16,
   "id": "d200bceb",
   "metadata": {},
   "outputs": [],
   "source": [
    "otherNb = pd.read_excel(\"OtherNb.xlsx\")"
   ]
  },
  {
   "cell_type": "code",
   "execution_count": 17,
   "id": "34d69c2f",
   "metadata": {},
   "outputs": [],
   "source": [
    "otherNb['SARS2 binding'] = otherNb['SARS-CoV-2'].apply(lambda x:binding(x))\n",
    "otherNb['SARS1 binding']= otherNb['SARS-CoV'].apply(lambda x:binding(x))\n",
    "otherNb['RmYN02 binding']= otherNb['RmYN02-CoV'].apply(lambda x:binding(x))\n",
    "otherNb['BM4831 binding']= otherNb['BM-4831-CoV'].apply(lambda x:binding(x))\n",
    "otherNb['binding score'] = (otherNb[[i for i in otherNb.columns if ' binding' in i]].mean(1)+6)/6"
   ]
  },
  {
   "cell_type": "code",
   "execution_count": 18,
   "id": "975c15b5",
   "metadata": {},
   "outputs": [],
   "source": [
    "otherNb.to_csv(\"otherNb_binding_score.csv\")"
   ]
  },
  {
   "cell_type": "code",
   "execution_count": 5,
   "id": "strong-encyclopedia",
   "metadata": {},
   "outputs": [],
   "source": [
    "data['SARS2 binding'] = data['SARS2'].apply(lambda x:binding(x))\n",
    "data['SARS1 binding']= data['SARS1'].apply(lambda x:binding(x))\n",
    "data['RmYN02 binding']= data['RmYN02'].apply(lambda x:binding(x))\n",
    "data['BM4831 binding']= data['BM4831'].apply(lambda x:binding(x))\n",
    "data['binding score'] = (data[[i for i in data.columns if ' binding' in i]].mean(1)+6)/6"
   ]
  },
  {
   "cell_type": "code",
   "execution_count": 6,
   "id": "050de09b",
   "metadata": {},
   "outputs": [],
   "source": [
    "data['log(Neut)'] = data['Neut(nM)'].apply(lambda x: np.log10(x))"
   ]
  },
  {
   "cell_type": "code",
   "execution_count": 7,
   "id": "7d402326",
   "metadata": {},
   "outputs": [],
   "source": [
    "#bmin = data['binding score'].min()\n",
    "#bmax = data['binding score'].max()\n",
    "data['Pan_1'] = data['binding score'].apply(lambda x: x)\n",
    "data['Pan_2'] = data['binding score'].apply(lambda x: np.exp(-x))"
   ]
  },
  {
   "cell_type": "code",
   "execution_count": 8,
   "id": "f30e64a8",
   "metadata": {},
   "outputs": [],
   "source": [
    "data.to_csv(\"psNb_binding_score.csv\")"
   ]
  },
  {
   "cell_type": "code",
   "execution_count": 70,
   "id": "6e19dbbe",
   "metadata": {},
   "outputs": [],
   "source": [
    "data = data[data['#']!='5p-77']\n",
    "data = data[data['#']!='4P-16']"
   ]
  },
  {
   "cell_type": "code",
   "execution_count": 16,
   "id": "bbda953a",
   "metadata": {},
   "outputs": [],
   "source": [
    "data = data.sort_values(['CDR','binding score'],ascending=False)"
   ]
  },
  {
   "cell_type": "code",
   "execution_count": 38,
   "id": "compatible-perspective",
   "metadata": {},
   "outputs": [],
   "source": [
    "data = data.drop_duplicates(\"CDR\")"
   ]
  },
  {
   "cell_type": "code",
   "execution_count": 49,
   "id": "german-listing",
   "metadata": {},
   "outputs": [],
   "source": [
    "all_CDR = data['CDR'].values\n",
    "names = data['#'].values\n",
    "CDR_Name_dict = dict(data[['CDR','#']].values)\n",
    "CDR_Name2_dict = dict(data[['CDR','New #']].values)\n",
    "CDR_Pan1_dict = dict(data[['CDR','Pan_1']].values)\n",
    "CDR_Pan2_dict = dict(data[['CDR','Pan_2']].values)\n",
    "CDR_SEC_dict = dict(data[['CDR','SEC epitope group']].values)\n",
    "\n",
    "\n",
    "CDR_Neut_dict = dict(data[['CDR','log(Neut)']].values)\n",
    "CDR_binding_dict = dict(data[['CDR','binding score']].values)"
   ]
  },
  {
   "cell_type": "code",
   "execution_count": 33,
   "id": "0a68881c",
   "metadata": {},
   "outputs": [
    {
     "data": {
      "text/plain": [
       "100"
      ]
     },
     "execution_count": 33,
     "metadata": {},
     "output_type": "execute_result"
    }
   ],
   "source": [
    "len(all_CDR)"
   ]
  },
  {
   "cell_type": "code",
   "execution_count": 19,
   "id": "cutting-chain",
   "metadata": {},
   "outputs": [],
   "source": [
    "# data['CDR1'] = data['Original Amino Acid Sequence'].apply(lambda x: find_cdr1(x))\n",
    "# data['CDR2'] = data['Original Amino Acid Sequence'].apply(lambda x: find_cdr2(x))\n",
    "# data['CDR3'] = data['Original Amino Acid Sequence'].apply(lambda x: find_cdr3(x))"
   ]
  },
  {
   "cell_type": "code",
   "execution_count": 50,
   "id": "caa9e28d",
   "metadata": {},
   "outputs": [],
   "source": [
    "dist_matrix = generate_dist_matrix(all_CDR)\n",
    "graph_all = nx.from_numpy_matrix(dist_matrix.values)\n",
    "mapping = dict(zip(graph_all,all_CDR))\n",
    "graph_all = nx.relabel_nodes(graph_all,mapping)"
   ]
  },
  {
   "cell_type": "code",
   "execution_count": 51,
   "id": "02759590",
   "metadata": {},
   "outputs": [],
   "source": [
    "G = nx.Graph()\n",
    "for n in graph_all:\n",
    "    crossreactivity1 = CDR_Pan1_dict[n]\n",
    "    crossreactivity2 = CDR_Pan2_dict[n]\n",
    "    sec = CDR_SEC_dict[n]\n",
    "    name = CDR_Name_dict[n]\n",
    "    neuts = int(np.floor(CDR_Neut_dict[n]))\n",
    "    name2 = CDR_Name2_dict[n]\n",
    "    G.add_node(n, sequence=n,name=name,name2=name2,pan1=crossreactivity1,pan2=crossreactivity2,Neut=neuts,sec=sec)\n",
    "for e in graph_all.edges:\n",
    "    G.add_edge(e[0],e[1])"
   ]
  },
  {
   "cell_type": "code",
   "execution_count": 52,
   "id": "08cc3c51",
   "metadata": {},
   "outputs": [],
   "source": [
    "nx.write_gml(G, 'PsNb_1220.gml')"
   ]
  },
  {
   "cell_type": "code",
   "execution_count": 32,
   "id": "c7c45e90",
   "metadata": {
    "scrolled": true
   },
   "outputs": [
    {
     "data": {
      "text/plain": [
       "5.754602676005731"
      ]
     },
     "execution_count": 32,
     "metadata": {},
     "output_type": "execute_result"
    }
   ],
   "source": [
    "data['Pan_2'].min()"
   ]
  },
  {
   "cell_type": "code",
   "execution_count": 99,
   "id": "4cdaeefd",
   "metadata": {},
   "outputs": [],
   "source": [
    "data1 = data.set_index(\"#\")"
   ]
  },
  {
   "cell_type": "code",
   "execution_count": 116,
   "id": "8fe6d11f",
   "metadata": {},
   "outputs": [
    {
     "data": {
      "text/plain": [
       "13"
      ]
     },
     "execution_count": 116,
     "metadata": {},
     "output_type": "execute_result"
    }
   ],
   "source": [
    "len(\"GGWGLTQPISVDY\")"
   ]
  },
  {
   "cell_type": "code",
   "execution_count": 117,
   "id": "41156ce6",
   "metadata": {},
   "outputs": [
    {
     "data": {
      "text/plain": [
       "18"
      ]
     },
     "execution_count": 117,
     "metadata": {},
     "output_type": "execute_result"
    }
   ],
   "source": [
    "len(\"GGNHYDPSKYYIADEYDY\")"
   ]
  }
 ],
 "metadata": {
  "kernelspec": {
   "display_name": "Python 3",
   "language": "python",
   "name": "python3"
  },
  "language_info": {
   "codemirror_mode": {
    "name": "ipython",
    "version": 3
   },
   "file_extension": ".py",
   "mimetype": "text/x-python",
   "name": "python",
   "nbconvert_exporter": "python",
   "pygments_lexer": "ipython3",
   "version": "3.8.10"
  }
 },
 "nbformat": 4,
 "nbformat_minor": 5
}
