{
 "cells": [
  {
   "cell_type": "code",
   "execution_count": 1,
   "id": "abd466a9",
   "metadata": {},
   "outputs": [],
   "source": [
    "import prody\n",
    "import pandas as pd\n",
    "import numpy as np\n",
    "import os\n"
   ]
  },
  {
   "cell_type": "code",
   "execution_count": 2,
   "id": "6e222b16",
   "metadata": {},
   "outputs": [],
   "source": [
    "def summarizeContacts(contacts):\n",
    "    contact_data =[]\n",
    "    for pair in contacts:\n",
    "        atom1,atom2,dist = pair\n",
    "        ch1 = atom1.getChid()\n",
    "        ch2 = atom2.getChid()\n",
    "        res1 = atom1.getResname()\n",
    "        res2 = atom2.getResname()\n",
    "        resnum1 = f\"{atom1.getResnum()}{atom1.getIcode()}\"\n",
    "        resnum2 = f\"{atom2.getResnum()}{atom2.getIcode()}\"\n",
    "        contact_data.append([ch1,res1,resnum1,ch2,res2,resnum2,dist])\n",
    "    contact_data = pd.DataFrame(contact_data,columns=['ch1','res1','resnum1','ch2','res2','resnum2','dist'])\n",
    "    #contact_data = contact_data.sort_values(['resnum1','resnum2','dist'],ascending=True).drop_duplicates(['resnum1','resnum2'])\n",
    "    return contact_data"
   ]
  },
  {
   "cell_type": "code",
   "execution_count": 3,
   "id": "734acc28",
   "metadata": {},
   "outputs": [],
   "source": [
    "Nb_data = pd.read_excel(\"../SARS2_Nbs.xlsx\")[['Name','pdb','VH Chain','RBD Chain']]\n",
    "PanNb_data = pd.read_excel(\"../SARS2_PanNbs.xlsx\")[['Name','pdb','VH Chain','RBD Chain']]\n",
    "\n",
    "Nb_data = pd.concat([Nb_data,PanNb_data])"
   ]
  },
  {
   "cell_type": "code",
   "execution_count": 4,
   "id": "7e5dd979",
   "metadata": {},
   "outputs": [],
   "source": [
    "Nb_contact_summary = pd.read_csv(\"Nb_contact_summary.csv\")"
   ]
  },
  {
   "cell_type": "code",
   "execution_count": 22,
   "id": "466abdfd",
   "metadata": {},
   "outputs": [],
   "source": [
    "mutations= [339,346,371,373,375,417,440,446,452,477,478,484,493,496,498,501,505]"
   ]
  },
  {
   "cell_type": "code",
   "execution_count": 23,
   "id": "79de7502",
   "metadata": {},
   "outputs": [],
   "source": [
    "Omicron = [339,371,373,375,417,440,446,477,478,484,493,496,498,501,505]"
   ]
  },
  {
   "cell_type": "code",
   "execution_count": 5,
   "id": "0ae9c915",
   "metadata": {},
   "outputs": [],
   "source": [
    "additional_muts = [376,405,408]"
   ]
  },
  {
   "cell_type": "markdown",
   "id": "37d5a4b4",
   "metadata": {},
   "source": [
    "# C alpha 8 A"
   ]
  },
  {
   "cell_type": "code",
   "execution_count": 6,
   "id": "39f212b7",
   "metadata": {},
   "outputs": [
    {
     "name": "stderr",
     "output_type": "stream",
     "text": [
      "@> 2852 atoms and 1 coordinate set(s) were parsed in 0.04s.\n",
      "@> Secondary structures were assigned to 176 residues.\n",
      "@> 5111 atoms and 1 coordinate set(s) were parsed in 0.08s.\n",
      "@> Secondary structures were assigned to 180 residues.\n",
      "@> 3770 atoms and 1 coordinate set(s) were parsed in 0.05s.\n",
      "@> Secondary structures were assigned to 252 residues.\n",
      "@> 2760 atoms and 1 coordinate set(s) were parsed in 0.04s.\n",
      "@> Secondary structures were assigned to 170 residues.\n",
      "@> 15699 atoms and 1 coordinate set(s) were parsed in 0.18s.\n",
      "@> Secondary structures were assigned to 1076 residues.\n",
      "@> 3770 atoms and 1 coordinate set(s) were parsed in 0.05s.\n",
      "@> Secondary structures were assigned to 252 residues.\n",
      "@> 2519 atoms and 1 coordinate set(s) were parsed in 0.03s.\n",
      "@> Secondary structures were assigned to 169 residues.\n",
      "@> 4889 atoms and 1 coordinate set(s) were parsed in 0.05s.\n",
      "@> Secondary structures were assigned to 284 residues.\n",
      "@> 53064 atoms and 1 coordinate set(s) were parsed in 0.55s.\n",
      "@> Secondary structures were assigned to 2011 residues.\n",
      "@> 3392 atoms and 1 coordinate set(s) were parsed in 0.03s.\n",
      "@> Secondary structures were assigned to 142 residues.\n",
      "@> 3389 atoms and 1 coordinate set(s) were parsed in 0.03s.\n",
      "@> Secondary structures were assigned to 148 residues.\n",
      "@> 4748 atoms and 1 coordinate set(s) were parsed in 0.07s.\n",
      "@> Secondary structures were assigned to 268 residues.\n",
      "@> 2431 atoms and 1 coordinate set(s) were parsed in 0.03s.\n",
      "@> Secondary structures were assigned to 136 residues.\n",
      "@> 21460 atoms and 1 coordinate set(s) were parsed in 0.22s.\n",
      "@> Secondary structures were assigned to 1607 residues.\n",
      "@> 6519 atoms and 1 coordinate set(s) were parsed in 0.06s.\n",
      "@> Secondary structures were assigned to 87 residues.\n",
      "@> 2496 atoms and 1 coordinate set(s) were parsed in 0.03s.\n",
      "@> 2680 atoms and 1 coordinate set(s) were parsed in 0.03s.\n",
      "@> Secondary structures were assigned to 169 residues.\n",
      "@> 4831 atoms and 1 coordinate set(s) were parsed in 0.05s.\n",
      "@> 3555 atoms and 1 coordinate set(s) were parsed in 0.05s.\n",
      "@> Secondary structures were assigned to 242 residues.\n",
      "@> 3555 atoms and 1 coordinate set(s) were parsed in 0.05s.\n",
      "@> Secondary structures were assigned to 242 residues.\n",
      "@> 7768 atoms and 1 coordinate set(s) were parsed in 0.11s.\n",
      "@> Secondary structures were assigned to 502 residues.\n",
      "@> 30582 atoms and 1 coordinate set(s) were parsed in 0.30s.\n",
      "@> Secondary structures were assigned to 2038 residues.\n",
      "@> 2466 atoms and 1 coordinate set(s) were parsed in 0.03s.\n",
      "@> Secondary structures were assigned to 159 residues.\n",
      "@> 27974 atoms and 1 coordinate set(s) were parsed in 0.29s.\n",
      "@> Secondary structures were assigned to 1941 residues.\n",
      "@> 7768 atoms and 1 coordinate set(s) were parsed in 0.10s.\n",
      "@> Secondary structures were assigned to 502 residues.\n",
      "@> 28266 atoms and 1 coordinate set(s) were parsed in 0.27s.\n",
      "@> Secondary structures were assigned to 1885 residues.\n",
      "@> 2641 atoms and 1 coordinate set(s) were parsed in 0.04s.\n",
      "@> Secondary structures were assigned to 177 residues.\n",
      "@> 2890 atoms and 1 coordinate set(s) were parsed in 0.03s.\n",
      "@> Secondary structures were assigned to 184 residues.\n",
      "@> 2760 atoms and 1 coordinate set(s) were parsed in 0.03s.\n",
      "@> Secondary structures were assigned to 173 residues.\n",
      "@> 55845 atoms and 1 coordinate set(s) were parsed in 0.52s.\n",
      "@> Secondary structures were assigned to 1943 residues.\n",
      "@> 7271 atoms and 1 coordinate set(s) were parsed in 0.09s.\n",
      "@> Secondary structures were assigned to 507 residues.\n",
      "@> 7271 atoms and 1 coordinate set(s) were parsed in 0.09s.\n",
      "@> Secondary structures were assigned to 507 residues.\n",
      "@> 5539 atoms and 1 coordinate set(s) were parsed in 0.07s.\n",
      "@> Secondary structures were assigned to 419 residues.\n",
      "@> 5699 atoms and 1 coordinate set(s) were parsed in 0.07s.\n",
      "@> Secondary structures were assigned to 424 residues.\n",
      "@> 3485 atoms and 1 coordinate set(s) were parsed in 0.04s.\n",
      "@> Secondary structures were assigned to 236 residues.\n",
      "@> 3485 atoms and 1 coordinate set(s) were parsed in 0.04s.\n",
      "@> Secondary structures were assigned to 236 residues.\n",
      "@> 26226 atoms and 1 coordinate set(s) were parsed in 0.26s.\n",
      "@> Secondary structures were assigned to 1893 residues.\n",
      "@> 27884 atoms and 1 coordinate set(s) were parsed in 0.26s.\n",
      "@> Secondary structures were assigned to 1796 residues.\n",
      "@> 4950 atoms and 1 coordinate set(s) were parsed in 0.05s.\n",
      "@> Secondary structures were assigned to 103 residues.\n",
      "@> 4895 atoms and 1 coordinate set(s) were parsed in 0.04s.\n",
      "@> Secondary structures were assigned to 137 residues.\n",
      "@> 2751 atoms and 1 coordinate set(s) were parsed in 0.04s.\n",
      "@> 2470 atoms and 1 coordinate set(s) were parsed in 0.02s.\n",
      "@> Secondary structures were assigned to 136 residues.\n",
      "@> 4964 atoms and 1 coordinate set(s) were parsed in 0.05s.\n",
      "@> 3480 atoms and 1 coordinate set(s) were parsed in 0.03s.\n",
      "@> 2518 atoms and 1 coordinate set(s) were parsed in 0.03s.\n",
      "@> 4969 atoms and 1 coordinate set(s) were parsed in 0.05s.\n",
      "@> Secondary structures were assigned to 98 residues.\n",
      "@> 2458 atoms and 1 coordinate set(s) were parsed in 0.02s.\n",
      "@> 2438 atoms and 1 coordinate set(s) were parsed in 0.03s.\n",
      "@> Secondary structures were assigned to 134 residues.\n",
      "@> 4858 atoms and 1 coordinate set(s) were parsed in 0.05s.\n",
      "@> 2427 atoms and 1 coordinate set(s) were parsed in 0.02s.\n",
      "@> Secondary structures were assigned to 117 residues.\n",
      "@> 4914 atoms and 1 coordinate set(s) were parsed in 0.06s.\n",
      "@> Secondary structures were assigned to 88 residues.\n",
      "@> 4918 atoms and 1 coordinate set(s) were parsed in 0.05s.\n",
      "@> 4912 atoms and 1 coordinate set(s) were parsed in 0.05s.\n",
      "@> Secondary structures were assigned to 139 residues.\n"
     ]
    }
   ],
   "source": [
    "all_hits=[]\n",
    "all_nb_name = []\n",
    "mutation_evaluated = additional_muts\n",
    "for idx,(name,pdb,vh_chain,rbd_chain) in Nb_data[['Name','pdb','VH Chain','RBD Chain']].iterrows():\n",
    "    #if not name in class1_nb_name:\n",
    "    #    continue\n",
    "    filename = pdb if \".pdb\" in pdb else pdb+\".pdb\"\n",
    "    filename = os.path.join(\"../Nbs\",filename)\n",
    "    \n",
    "    if not os.path.exists(filename):\n",
    "        continue\n",
    "    struct = prody.parsePDB(filename)\n",
    "    Ag = struct.select(f\"protein chain {rbd_chain}\")\n",
    "    VH = struct.select(f\"protein chain {vh_chain}\")\n",
    "    contacts= list(prody.iterNeighbors(Ag,4,VH))\n",
    "    nb_epitope_res = set([i[0].getResnum() for i in contacts])\n",
    "    \n",
    "    mutation_hits=np.zeros(len(mutation_evaluated))\n",
    "    \n",
    "    overlap= set(mutation_evaluated)&nb_epitope_res\n",
    "#     if len(overlap)==0:\n",
    "#         print(name)\n",
    "#         all_nb_name.append(name)\n",
    "#         all_hits.append(mutation_hits)\n",
    "#         continue\n",
    "    \n",
    "    summarized_contact = summarizeContacts(contacts)\n",
    "    summarized_contact['resnum1'] = summarized_contact['resnum1'].astype(int)\n",
    "    \n",
    "    summarized_contact = summarized_contact[summarized_contact['resnum1'].apply(lambda x: x in overlap)]\n",
    "    #print(summarized_contact)\n",
    "    summarized_contact = dict(summarized_contact.groupby(\"resnum1\")['resnum2'].count())\n",
    "    for resnum,hit in summarized_contact.items():\n",
    "        idx = mutation_evaluated.index(resnum)\n",
    "        mutation_hits[idx] = hit\n",
    "    all_nb_name.append(name)\n",
    "    all_hits.append(mutation_hits)\n",
    "    #print(nb_epitope_res)\n",
    "    #overlap_variant = \",\".join([str(j) for j in mutations&nb_epitope_res])\n",
    "    #overlap_variant_num.append(len(overlap))\n",
    "    #dis2.append(struct_distance)\n",
    "    #print(name)\n",
    "    #print(summarized_contact)\n",
    "    #print([ACE2_centroid,nb_centroid],struct_distance)"
   ]
  },
  {
   "cell_type": "code",
   "execution_count": 7,
   "id": "2d8e2ef4",
   "metadata": {},
   "outputs": [],
   "source": [
    "pd.DataFrame(all_hits,columns=mutation_evaluated,index=all_nb_name).to_csv(\"additional_VOC_nb_allatom_4.csv\")"
   ]
  },
  {
   "cell_type": "code",
   "execution_count": 30,
   "id": "569edd0a",
   "metadata": {},
   "outputs": [],
   "source": [
    "ab_seq_data = pd.read_excel(\"../SARS2_Abs.xlsx\")"
   ]
  },
  {
   "cell_type": "code",
   "execution_count": 33,
   "id": "0f9c8064",
   "metadata": {},
   "outputs": [
    {
     "name": "stderr",
     "output_type": "stream",
     "text": [
      "@> 4936 atoms and 1 coordinate set(s) were parsed in 0.06s.\n"
     ]
    },
    {
     "name": "stdout",
     "output_type": "stream",
     "text": [
      "../Abs/6w41.pdb-chain H-chain L-chain C\n",
      "../Abs/6wps.pdb-chain H-chain L-chain A\n"
     ]
    },
    {
     "name": "stderr",
     "output_type": "stream",
     "text": [
      "@> 28116 atoms and 1 coordinate set(s) were parsed in 0.38s.\n",
      "@> 9584 atoms and 1 coordinate set(s) were parsed in 0.10s.\n"
     ]
    },
    {
     "name": "stdout",
     "output_type": "stream",
     "text": [
      "../Abs/6xc2.pdb-chain H-chain L-chain A\n",
      "../Abs/6xc4.pdb-chain H-chain L-chain A\n"
     ]
    },
    {
     "name": "stderr",
     "output_type": "stream",
     "text": [
      "@> 10309 atoms and 1 coordinate set(s) were parsed in 0.10s.\n"
     ]
    },
    {
     "name": "stdout",
     "output_type": "stream",
     "text": [
      "../Abs/6xcm.pdb-chain H-chain L-chain C\n"
     ]
    },
    {
     "name": "stderr",
     "output_type": "stream",
     "text": [
      "@> 26760 atoms and 1 coordinate set(s) were parsed in 0.27s.\n",
      "@> Secondary structures were assigned to 1577 residues.\n",
      "@> 7998 atoms and 1 coordinate set(s) were parsed in 0.08s.\n",
      "@> 7998 atoms and 1 coordinate set(s) were parsed in 0.08s.\n"
     ]
    },
    {
     "name": "stdout",
     "output_type": "stream",
     "text": [
      "../Abs/6xdg.pdb-chain B-chain D-chain E\n",
      "../Abs/6xdg.pdb-chain C-chain A-chain E\n",
      "../Abs/6xe1.pdb-chain H-chain L-chain E\n"
     ]
    },
    {
     "name": "stderr",
     "output_type": "stream",
     "text": [
      "@> 4897 atoms and 1 coordinate set(s) were parsed in 0.05s.\n"
     ]
    },
    {
     "name": "stdout",
     "output_type": "stream",
     "text": [
      "../Abs/6xey.pdb-chain H-chain L-chain A\n"
     ]
    },
    {
     "name": "stderr",
     "output_type": "stream",
     "text": [
      "@> 28482 atoms and 1 coordinate set(s) were parsed in 0.26s.\n",
      "@> 9239 atoms and 1 coordinate set(s) were parsed in 0.09s.\n",
      "@> 4525 atoms and 1 coordinate set(s) were parsed in 0.05s.\n"
     ]
    },
    {
     "name": "stdout",
     "output_type": "stream",
     "text": [
      "../Abs/6xkp.pdb-chain H-chain L-chain A\n",
      "../Abs/6xkq.pdb-chain H-chain L-chain A\n",
      "../Abs/6zcz.pdb-chain H-chain L-chain E\n"
     ]
    },
    {
     "name": "stderr",
     "output_type": "stream",
     "text": [
      "@> 5839 atoms and 1 coordinate set(s) were parsed in 0.07s.\n"
     ]
    },
    {
     "name": "stdout",
     "output_type": "stream",
     "text": [
      "../Abs/7akd.pdb-chain H-chain L-chain B\n"
     ]
    },
    {
     "name": "stderr",
     "output_type": "stream",
     "text": [
      "@> 27358 atoms and 1 coordinate set(s) were parsed in 0.29s.\n",
      "@> 9536 atoms and 1 coordinate set(s) were parsed in 0.11s.\n",
      "@> 5041 atoms and 1 coordinate set(s) were parsed in 0.06s.\n"
     ]
    },
    {
     "name": "stdout",
     "output_type": "stream",
     "text": [
      "../Abs/7b3o.pdb-chain H-chain L-chain E\n",
      "../Abs/7bei.pdb-chain H-chain L-chain E\n",
      "../Abs/7bej.pdb-chain H-chain L-chain E\n"
     ]
    },
    {
     "name": "stderr",
     "output_type": "stream",
     "text": [
      "@> 4883 atoms and 1 coordinate set(s) were parsed in 0.05s.\n",
      "@> 13534 atoms and 1 coordinate set(s) were parsed in 0.13s.\n",
      "@> 3318 atoms and 1 coordinate set(s) were parsed in 0.04s.\n"
     ]
    },
    {
     "name": "stdout",
     "output_type": "stream",
     "text": [
      "../Abs/7bel.pdb-chain C-chain D-chain X\n",
      "../Abs/7bem.pdb-chain H-chain L-chain E\n",
      "../Abs/7ben.pdb-chain H-chain L-chain E\n"
     ]
    },
    {
     "name": "stderr",
     "output_type": "stream",
     "text": [
      "@> 16420 atoms and 1 coordinate set(s) were parsed in 0.17s.\n",
      "@> 16280 atoms and 1 coordinate set(s) were parsed in 0.15s.\n"
     ]
    },
    {
     "name": "stdout",
     "output_type": "stream",
     "text": [
      "../Abs/7beo.pdb-chain A-chain B-chain R\n",
      "../Abs/7bwj.pdb-chain H-chain L-chain E\n"
     ]
    },
    {
     "name": "stderr",
     "output_type": "stream",
     "text": [
      "@> 4820 atoms and 1 coordinate set(s) were parsed in 0.05s.\n"
     ]
    },
    {
     "name": "stdout",
     "output_type": "stream",
     "text": [
      "../Abs/7byr.pdb-chain H-chain L-chain B\n"
     ]
    },
    {
     "name": "stderr",
     "output_type": "stream",
     "text": [
      "@> 24497 atoms and 1 coordinate set(s) were parsed in 0.26s.\n",
      "@> 5320 atoms and 1 coordinate set(s) were parsed in 0.06s.\n",
      "@> 9670 atoms and 1 coordinate set(s) were parsed in 0.10s.\n"
     ]
    },
    {
     "name": "stdout",
     "output_type": "stream",
     "text": [
      "../Abs/7bz5.pdb-chain H-chain L-chain A\n",
      "../Abs/7c01.pdb-chain H-chain L-chain A\n",
      "../Abs/7cai.pdb-chain E-chain D-chain A\n"
     ]
    },
    {
     "name": "stderr",
     "output_type": "stream",
     "text": [
      "@> 31254 atoms and 1 coordinate set(s) were parsed in 0.30s.\n",
      "@> 4715 atoms and 1 coordinate set(s) were parsed in 0.05s.\n",
      "@> 4770 atoms and 1 coordinate set(s) were parsed in 0.05s.\n",
      "@> 4729 atoms and 1 coordinate set(s) were parsed in 0.05s.\n"
     ]
    },
    {
     "name": "stdout",
     "output_type": "stream",
     "text": [
      "../Abs/7cdi.pdb-chain H-chain L-chain E\n",
      "../Abs/7cdj.pdb-chain H-chain L-chain E\n",
      "../Abs/7ch4.pdb-chain H-chain L-chain R\n",
      "../Abs/7ch5.pdb-chain H-chain L-chain R\n"
     ]
    },
    {
     "name": "stderr",
     "output_type": "stream",
     "text": [
      "@> 4687 atoms and 1 coordinate set(s) were parsed in 0.05s.\n",
      "@> 4893 atoms and 1 coordinate set(s) were parsed in 0.05s.\n"
     ]
    },
    {
     "name": "stdout",
     "output_type": "stream",
     "text": [
      "../Abs/7chb.pdb-chain H-chain L-chain R\n",
      "../Abs/7chh.pdb-chain D-chain E-chain A\n"
     ]
    },
    {
     "name": "stderr",
     "output_type": "stream",
     "text": [
      "@> 29029 atoms and 1 coordinate set(s) were parsed in 0.29s.\n",
      "@> 9551 atoms and 1 coordinate set(s) were parsed in 0.09s.\n",
      "@> 5078 atoms and 1 coordinate set(s) were parsed in 0.05s.\n"
     ]
    },
    {
     "name": "stdout",
     "output_type": "stream",
     "text": [
      "../Abs/7cho.pdb-chain H-chain L-chain E\n",
      "../Abs/7chp.pdb-chain H-chain L-chain E\n",
      "../Abs/7chs.pdb-chain H-chain L-chain E\n"
     ]
    },
    {
     "name": "stderr",
     "output_type": "stream",
     "text": [
      "@> 5002 atoms and 1 coordinate set(s) were parsed in 0.06s.\n",
      "@> 5398 atoms and 1 coordinate set(s) were parsed in 0.06s.\n",
      "@> 4985 atoms and 1 coordinate set(s) were parsed in 0.06s.\n"
     ]
    },
    {
     "name": "stdout",
     "output_type": "stream",
     "text": [
      "../Abs/7cjf.pdb-chain A-chain B-chain C\n",
      "../Abs/7cm4.pdb-chain H-chain L-chain A\n",
      "../Abs/7cwm.pdb-chain H-chain L-chain A\n"
     ]
    },
    {
     "name": "stderr",
     "output_type": "stream",
     "text": [
      "@> 30760 atoms and 1 coordinate set(s) were parsed in 0.33s.\n"
     ]
    },
    {
     "name": "stdout",
     "output_type": "stream",
     "text": [
      "../Abs/7cyp.pdb-chain E-chain D-chain A\n"
     ]
    },
    {
     "name": "stderr",
     "output_type": "stream",
     "text": [
      "@> 29979 atoms and 1 coordinate set(s) were parsed in 0.35s.\n"
     ]
    },
    {
     "name": "stdout",
     "output_type": "stream",
     "text": [
      "../Abs/7czp.pdb-chain H-chain L-chain A\n"
     ]
    },
    {
     "name": "stderr",
     "output_type": "stream",
     "text": [
      "@> 30946 atoms and 1 coordinate set(s) were parsed in 0.30s.\n"
     ]
    },
    {
     "name": "stdout",
     "output_type": "stream",
     "text": [
      "../Abs/7czq.pdb-chain H-chain K-chain A\n"
     ]
    },
    {
     "name": "stderr",
     "output_type": "stream",
     "text": [
      "@> 31016 atoms and 1 coordinate set(s) were parsed in 0.30s.\n"
     ]
    },
    {
     "name": "stdout",
     "output_type": "stream",
     "text": [
      "../Abs/7czt.pdb-chain H-chain L-chain A\n"
     ]
    },
    {
     "name": "stderr",
     "output_type": "stream",
     "text": [
      "@> 31060 atoms and 1 coordinate set(s) were parsed in 0.31s.\n"
     ]
    },
    {
     "name": "stdout",
     "output_type": "stream",
     "text": [
      "../Abs/7czu.pdb-chain H-chain K-chain A\n"
     ]
    },
    {
     "name": "stderr",
     "output_type": "stream",
     "text": [
      "@> 31120 atoms and 1 coordinate set(s) were parsed in 0.31s.\n"
     ]
    },
    {
     "name": "stdout",
     "output_type": "stream",
     "text": [
      "../Abs/7czw.pdb-chain H-chain L-chain A\n"
     ]
    },
    {
     "name": "stderr",
     "output_type": "stream",
     "text": [
      "@> 31004 atoms and 1 coordinate set(s) were parsed in 0.31s.\n"
     ]
    },
    {
     "name": "stdout",
     "output_type": "stream",
     "text": [
      "../Abs/7czx.pdb-chain H-chain K-chain A\n"
     ]
    },
    {
     "name": "stderr",
     "output_type": "stream",
     "text": [
      "@> 34879 atoms and 1 coordinate set(s) were parsed in 0.35s.\n"
     ]
    },
    {
     "name": "stdout",
     "output_type": "stream",
     "text": [
      "../Abs/7czy.pdb-chain H-chain K-chain A\n"
     ]
    },
    {
     "name": "stderr",
     "output_type": "stream",
     "text": [
      "@> 31186 atoms and 1 coordinate set(s) were parsed in 0.31s.\n"
     ]
    },
    {
     "name": "stdout",
     "output_type": "stream",
     "text": [
      "../Abs/7d00.pdb-chain H-chain K-chain A\n"
     ]
    },
    {
     "name": "stderr",
     "output_type": "stream",
     "text": [
      "@> 30886 atoms and 1 coordinate set(s) were parsed in 0.33s.\n"
     ]
    },
    {
     "name": "stdout",
     "output_type": "stream",
     "text": [
      "../Abs/7d0b.pdb-chain H-chain L-chain A\n"
     ]
    },
    {
     "name": "stderr",
     "output_type": "stream",
     "text": [
      "@> 26065 atoms and 1 coordinate set(s) were parsed in 0.26s.\n"
     ]
    },
    {
     "name": "stdout",
     "output_type": "stream",
     "text": [
      "../Abs/7d0c.pdb-chain H-chain L-chain A\n"
     ]
    },
    {
     "name": "stderr",
     "output_type": "stream",
     "text": [
      "@> 30966 atoms and 1 coordinate set(s) were parsed in 0.29s.\n"
     ]
    },
    {
     "name": "stdout",
     "output_type": "stream",
     "text": [
      "../Abs/7dd2.pdb-chain A-chain B-chain C\n"
     ]
    },
    {
     "name": "stderr",
     "output_type": "stream",
     "text": [
      "@> 31623 atoms and 1 coordinate set(s) were parsed in 0.31s.\n",
      "@> 3579 atoms and 1 coordinate set(s) were parsed in 0.04s.\n",
      "@> 3507 atoms and 1 coordinate set(s) were parsed in 0.04s.\n",
      "@> 3409 atoms and 1 coordinate set(s) were parsed in 0.04s.\n",
      "@> 5188 atoms and 1 coordinate set(s) were parsed in 0.05s.\n"
     ]
    },
    {
     "name": "stdout",
     "output_type": "stream",
     "text": [
      "../Abs/7deo.pdb-chain H-chain L-chain B\n",
      "../Abs/7det.pdb-chain H-chain L-chain A\n",
      "../Abs/7deu.pdb-chain H-chain L-chain A\n",
      "../Abs/7djz.pdb-chain A-chain B-chain C\n",
      "../Abs/7dk0.pdb-chain A-chain B-chain C\n"
     ]
    },
    {
     "name": "stderr",
     "output_type": "stream",
     "text": [
      "@> 4786 atoms and 1 coordinate set(s) were parsed in 0.05s.\n"
     ]
    },
    {
     "name": "stdout",
     "output_type": "stream",
     "text": [
      "../Abs/7dk5.pdb-chain a-chain b-chain A\n"
     ]
    },
    {
     "name": "stderr",
     "output_type": "stream",
     "text": [
      "@> 28144 atoms and 1 coordinate set(s) were parsed in 0.28s.\n",
      "@> 19571 atoms and 1 coordinate set(s) were parsed in 0.19s.\n"
     ]
    },
    {
     "name": "stdout",
     "output_type": "stream",
     "text": [
      "../Abs/7dpm.pdb-chain A-chain B-chain C\n"
     ]
    },
    {
     "name": "stderr",
     "output_type": "stream",
     "text": [
      "@> 3133 atoms and 1 coordinate set(s) were parsed in 0.04s.\n",
      "@> 9297 atoms and 1 coordinate set(s) were parsed in 0.09s.\n"
     ]
    },
    {
     "name": "stdout",
     "output_type": "stream",
     "text": [
      "../Abs/7e23.pdb-chain B-chain C-chain A\n",
      "../Abs/7e5y.pdb-chain H-chain L-chain R\n",
      "../Abs/7e7y.pdb-chain A-chain B-chain R\n"
     ]
    },
    {
     "name": "stderr",
     "output_type": "stream",
     "text": [
      "@> 9916 atoms and 1 coordinate set(s) were parsed in 0.10s.\n",
      "@> 4698 atoms and 1 coordinate set(s) were parsed in 0.05s.\n"
     ]
    },
    {
     "name": "stdout",
     "output_type": "stream",
     "text": [
      "../Abs/7e86.pdb-chain A-chain B-chain C\n",
      "../Abs/7e88.pdb-chain A-chain B-chain C\n"
     ]
    },
    {
     "name": "stderr",
     "output_type": "stream",
     "text": [
      "@> 18863 atoms and 1 coordinate set(s) were parsed in 0.18s.\n",
      "@> 11084 atoms and 1 coordinate set(s) were parsed in 0.10s.\n"
     ]
    },
    {
     "name": "stdout",
     "output_type": "stream",
     "text": [
      "../Abs/7eam.pdb-chain H-chain L-chain A\n",
      "../Abs/7ean.pdb-chain H-chain L-chain A\n"
     ]
    },
    {
     "name": "stderr",
     "output_type": "stream",
     "text": [
      "@> 9677 atoms and 1 coordinate set(s) were parsed in 0.09s.\n",
      "@> 3321 atoms and 1 coordinate set(s) were parsed in 0.03s.\n",
      "@> 3375 atoms and 1 coordinate set(s) were parsed in 0.03s.\n",
      "@> 4904 atoms and 1 coordinate set(s) were parsed in 0.05s.\n",
      "@> 4907 atoms and 1 coordinate set(s) were parsed in 0.05s.\n"
     ]
    },
    {
     "name": "stdout",
     "output_type": "stream",
     "text": [
      "../Abs/7f62.pdb-chain H-chain L-chain A\n",
      "../Abs/7f63.pdb-chain H-chain L-chain A\n",
      "../Abs/7jmo.pdb-chain H-chain L-chain A\n",
      "../Abs/7jmp.pdb-chain H-chain L-chain A\n"
     ]
    },
    {
     "name": "stderr",
     "output_type": "stream",
     "text": [
      "@> 4873 atoms and 1 coordinate set(s) were parsed in 0.05s.\n",
      "@> 2151 atoms and 1 coordinate set(s) were parsed in 0.02s.\n",
      "@> 3248 atoms and 1 coordinate set(s) were parsed in 0.04s.\n"
     ]
    },
    {
     "name": "stdout",
     "output_type": "stream",
     "text": [
      "../Abs/7jmw.pdb-chain H-chain L-chain A\n",
      "../Abs/7jv2.pdb-chain H-chain L-chain A\n",
      "../Abs/7jva.pdb-chain H-chain L-chain A\n",
      "../Abs/7jw0.pdb-chain H-chain L-chain A\n"
     ]
    },
    {
     "name": "stderr",
     "output_type": "stream",
     "text": [
      "@> 26251 atoms and 1 coordinate set(s) were parsed in 0.28s.\n",
      "@> 11518 atoms and 1 coordinate set(s) were parsed in 0.11s.\n"
     ]
    },
    {
     "name": "stdout",
     "output_type": "stream",
     "text": [
      "../Abs/7jx3.pdb-chain C-chain D-chain R\n",
      "../Abs/7k43.pdb-chain H-chain L-chain A\n"
     ]
    },
    {
     "name": "stderr",
     "output_type": "stream",
     "text": [
      "@> 30390 atoms and 1 coordinate set(s) were parsed in 0.29s.\n",
      "@> 3038 atoms and 1 coordinate set(s) were parsed in 0.03s.\n",
      "@> 4730 atoms and 1 coordinate set(s) were parsed in 0.05s.\n"
     ]
    },
    {
     "name": "stdout",
     "output_type": "stream",
     "text": [
      "../Abs/7k45.pdb-chain H-chain L-chain B\n",
      "../Abs/7k8m.pdb-chain A-chain B-chain E\n",
      "../Abs/7k8v.pdb-chain H-chain L-chain A\n"
     ]
    },
    {
     "name": "stderr",
     "output_type": "stream",
     "text": [
      "@> 26248 atoms and 1 coordinate set(s) were parsed in 0.25s.\n",
      "@> Secondary structures were assigned to 1708 residues.\n"
     ]
    },
    {
     "name": "stdout",
     "output_type": "stream",
     "text": [
      "../Abs/7k8z.pdb-chain H-chain L-chain A\n"
     ]
    },
    {
     "name": "stderr",
     "output_type": "stream",
     "text": [
      "@> 26015 atoms and 1 coordinate set(s) were parsed in 0.25s.\n",
      "@> Secondary structures were assigned to 1915 residues.\n"
     ]
    },
    {
     "name": "stdout",
     "output_type": "stream",
     "text": [
      "../Abs/7k8s.pdb-chain H-chain L-chain A\n"
     ]
    },
    {
     "name": "stderr",
     "output_type": "stream",
     "text": [
      "@> 29649 atoms and 1 coordinate set(s) were parsed in 0.27s.\n"
     ]
    },
    {
     "name": "stdout",
     "output_type": "stream",
     "text": [
      "../Abs/7k8w.pdb-chain H-chain L-chain A\n"
     ]
    },
    {
     "name": "stderr",
     "output_type": "stream",
     "text": [
      "@> 26487 atoms and 1 coordinate set(s) were parsed in 0.24s.\n"
     ]
    },
    {
     "name": "stdout",
     "output_type": "stream",
     "text": [
      "../Abs/7k8x.pdb-chain E-chain G-chain A\n"
     ]
    },
    {
     "name": "stderr",
     "output_type": "stream",
     "text": [
      "@> 27399 atoms and 1 coordinate set(s) were parsed in 0.29s.\n"
     ]
    },
    {
     "name": "stdout",
     "output_type": "stream",
     "text": [
      "../Abs/7k90.pdb-chain H-chain L-chain B\n"
     ]
    },
    {
     "name": "stderr",
     "output_type": "stream",
     "text": [
      "@> 28863 atoms and 1 coordinate set(s) were parsed in 0.29s.\n",
      "@> 8055 atoms and 1 coordinate set(s) were parsed in 0.07s.\n",
      "@> 8055 atoms and 1 coordinate set(s) were parsed in 0.08s.\n"
     ]
    },
    {
     "name": "stdout",
     "output_type": "stream",
     "text": [
      "../Abs/7k9z.pdb-chain H-chain L-chain E\n",
      "../Abs/7k9z.pdb-chain B-chain A-chain E\n",
      "../Abs/7kfv.pdb-chain H-chain L-chain A\n"
     ]
    },
    {
     "name": "stderr",
     "output_type": "stream",
     "text": [
      "@> 16121 atoms and 1 coordinate set(s) were parsed in 0.15s.\n",
      "@> 14854 atoms and 1 coordinate set(s) were parsed in 0.14s.\n",
      "@> 5191 atoms and 1 coordinate set(s) were parsed in 0.05s.\n"
     ]
    },
    {
     "name": "stdout",
     "output_type": "stream",
     "text": [
      "../Abs/7kfw.pdb-chain H-chain L-chain A\n",
      "../Abs/7kfx.pdb-chain H-chain L-chain A\n"
     ]
    },
    {
     "name": "stderr",
     "output_type": "stream",
     "text": [
      "@> 5382 atoms and 1 coordinate set(s) were parsed in 0.05s.\n",
      "@> 9569 atoms and 1 coordinate set(s) were parsed in 0.09s.\n"
     ]
    },
    {
     "name": "stdout",
     "output_type": "stream",
     "text": [
      "../Abs/7kfy.pdb-chain H-chain L-chain A\n",
      "../Abs/7kmg.pdb-chain D-chain E-chain F\n",
      "../Abs/7kmh.pdb-chain A-chain B-chain C\n"
     ]
    },
    {
     "name": "stderr",
     "output_type": "stream",
     "text": [
      "@> 4910 atoms and 1 coordinate set(s) were parsed in 0.05s.\n",
      "@> 5278 atoms and 1 coordinate set(s) were parsed in 0.05s.\n"
     ]
    },
    {
     "name": "stdout",
     "output_type": "stream",
     "text": [
      "../Abs/7kmi.pdb-chain A-chain B-chain C\n",
      "../Abs/7ks9.pdb-chain H-chain L-chain B\n"
     ]
    },
    {
     "name": "stderr",
     "output_type": "stream",
     "text": [
      "@> 25355 atoms and 1 coordinate set(s) were parsed in 0.23s.\n"
     ]
    },
    {
     "name": "stdout",
     "output_type": "stream",
     "text": [
      "../Abs/7kxj.pdb-chain H-chain L-chain A\n"
     ]
    },
    {
     "name": "stderr",
     "output_type": "stream",
     "text": [
      "@> 34083 atoms and 1 coordinate set(s) were parsed in 0.31s.\n",
      "@> 7102 atoms and 1 coordinate set(s) were parsed in 0.06s.\n",
      "@> 7102 atoms and 1 coordinate set(s) were parsed in 0.07s.\n"
     ]
    },
    {
     "name": "stdout",
     "output_type": "stream",
     "text": [
      "../Abs/7kzb_1.pdb-chain H-chain L-chain C\n",
      "../Abs/7kzb_2.pdb-chain A-chain B-chain C\n",
      "../Abs/7l56.pdb-chain H-chain L-chain A\n"
     ]
    },
    {
     "name": "stderr",
     "output_type": "stream",
     "text": [
      "@> 26583 atoms and 1 coordinate set(s) were parsed in 0.24s.\n",
      "@> 18103 atoms and 1 coordinate set(s) were parsed in 0.16s.\n"
     ]
    },
    {
     "name": "stdout",
     "output_type": "stream",
     "text": [
      "../Abs/7l58.pdb-chain H-chain L-chain B\n",
      "../Abs/7l5b.pdb-chain H-chain L-chain A\n"
     ]
    },
    {
     "name": "stderr",
     "output_type": "stream",
     "text": [
      "@> 4569 atoms and 1 coordinate set(s) were parsed in 0.05s.\n"
     ]
    },
    {
     "name": "stdout",
     "output_type": "stream",
     "text": [
      "../Abs/7laa.pdb-chain H-chain L-chain A\n"
     ]
    },
    {
     "name": "stderr",
     "output_type": "stream",
     "text": [
      "@> 46691 atoms and 1 coordinate set(s) were parsed in 0.43s.\n"
     ]
    },
    {
     "name": "stdout",
     "output_type": "stream",
     "text": [
      "../Abs/7ld1.pdb-chain H-chain L-chain B\n"
     ]
    },
    {
     "name": "stderr",
     "output_type": "stream",
     "text": [
      "@> 29456 atoms and 1 coordinate set(s) were parsed in 0.27s.\n"
     ]
    },
    {
     "name": "stdout",
     "output_type": "stream",
     "text": [
      "../Abs/7ljr.pdb-chain S-chain T-chain A\n"
     ]
    },
    {
     "name": "stderr",
     "output_type": "stream",
     "text": [
      "@> 26291 atoms and 1 coordinate set(s) were parsed in 0.23s.\n",
      "@> 5541 atoms and 1 coordinate set(s) were parsed in 0.05s.\n"
     ]
    },
    {
     "name": "stdout",
     "output_type": "stream",
     "text": [
      "../Abs/7lm9.pdb-chain H-chain L-chain A\n",
      "../Abs/7lop.pdb-chain H-chain L-chain A\n"
     ]
    },
    {
     "name": "stderr",
     "output_type": "stream",
     "text": [
      "@> 17650 atoms and 1 coordinate set(s) were parsed in 0.16s.\n",
      "@> 4912 atoms and 1 coordinate set(s) were parsed in 0.05s.\n"
     ]
    },
    {
     "name": "stdout",
     "output_type": "stream",
     "text": [
      "../Abs/7lrs.pdb-chain D-chain E-chain C\n",
      "../Abs/7ls9.pdb-chain H-chain L-chain A\n"
     ]
    },
    {
     "name": "stderr",
     "output_type": "stream",
     "text": [
      "@> 32226 atoms and 1 coordinate set(s) were parsed in 0.29s.\n",
      "@> 20582 atoms and 1 coordinate set(s) were parsed in 0.18s.\n"
     ]
    },
    {
     "name": "stdout",
     "output_type": "stream",
     "text": [
      "../Abs/7lss.pdb-chain H-chain L-chain B\n",
      "../Abs/7m3i.pdb-chain H-chain L-chain R\n"
     ]
    },
    {
     "name": "stderr",
     "output_type": "stream",
     "text": [
      "@> 9856 atoms and 1 coordinate set(s) were parsed in 0.10s.\n",
      "@> 8221 atoms and 1 coordinate set(s) were parsed in 0.08s.\n"
     ]
    },
    {
     "name": "stdout",
     "output_type": "stream",
     "text": [
      "../Abs/7m6d.pdb-chain H-chain L-chain C\n",
      "../Abs/7m6e.pdb-chain H-chain L-chain A\n"
     ]
    },
    {
     "name": "stderr",
     "output_type": "stream",
     "text": [
      "@> 29796 atoms and 1 coordinate set(s) were parsed in 0.29s.\n"
     ]
    },
    {
     "name": "stdout",
     "output_type": "stream",
     "text": [
      "../Abs/7m6f.pdb-chain H-chain L-chain A\n"
     ]
    },
    {
     "name": "stderr",
     "output_type": "stream",
     "text": [
      "@> 24256 atoms and 1 coordinate set(s) were parsed in 0.22s.\n"
     ]
    },
    {
     "name": "stdout",
     "output_type": "stream",
     "text": [
      "../Abs/7m6g.pdb-chain H-chain L-chain C\n"
     ]
    },
    {
     "name": "stderr",
     "output_type": "stream",
     "text": [
      "@> 26290 atoms and 1 coordinate set(s) were parsed in 0.24s.\n"
     ]
    },
    {
     "name": "stdout",
     "output_type": "stream",
     "text": [
      "../Abs/7m6h.pdb-chain D-chain F-chain B\n"
     ]
    },
    {
     "name": "stderr",
     "output_type": "stream",
     "text": [
      "@> 27379 atoms and 1 coordinate set(s) were parsed in 0.26s.\n"
     ]
    },
    {
     "name": "stdout",
     "output_type": "stream",
     "text": [
      "../Abs/7m6i.pdb-chain H-chain L-chain C\n"
     ]
    },
    {
     "name": "stderr",
     "output_type": "stream",
     "text": [
      "@> 27359 atoms and 1 coordinate set(s) were parsed in 0.26s.\n",
      "@> 6646 atoms and 1 coordinate set(s) were parsed in 0.06s.\n",
      "@> 4898 atoms and 1 coordinate set(s) were parsed in 0.05s.\n"
     ]
    },
    {
     "name": "stdout",
     "output_type": "stream",
     "text": [
      "../Abs/7m71.pdb-chain H-chain L-chain A\n",
      "../Abs/7m7b.pdb-chain H-chain L-chain A\n",
      "../Abs/7m7w.pdb-chain C-chain D-chain S\n"
     ]
    },
    {
     "name": "stderr",
     "output_type": "stream",
     "text": [
      "@> 16275 atoms and 1 coordinate set(s) were parsed in 0.15s.\n",
      "@> 4972 atoms and 1 coordinate set(s) were parsed in 0.05s.\n",
      "@> 4788 atoms and 1 coordinate set(s) were parsed in 0.04s.\n",
      "@> 3192 atoms and 1 coordinate set(s) were parsed in 0.03s.\n"
     ]
    },
    {
     "name": "stdout",
     "output_type": "stream",
     "text": [
      "../Abs/7mf1.pdb-chain H-chain L-chain A\n",
      "../Abs/7mjl.pdb-chain H-chain L-chain A\n",
      "../Abs/7mkm.pdb-chain H-chain L-chain A\n",
      "../Abs/7mmo.pdb-chain D-chain E-chain F\n"
     ]
    },
    {
     "name": "stderr",
     "output_type": "stream",
     "text": [
      "@> 9116 atoms and 1 coordinate set(s) were parsed in 0.09s.\n",
      "@> 5244 atoms and 1 coordinate set(s) were parsed in 0.05s.\n",
      "@> 7189 atoms and 1 coordinate set(s) were parsed in 0.07s.\n"
     ]
    },
    {
     "name": "stdout",
     "output_type": "stream",
     "text": [
      "../Abs/7n3i.pdb-chain H-chain L-chain C\n",
      "../Abs/7n64.pdb-chain H-chain L-chain B\n",
      "../Abs/7nd4.pdb-chain H-chain L-chain C\n"
     ]
    },
    {
     "name": "stderr",
     "output_type": "stream",
     "text": [
      "@> 29848 atoms and 1 coordinate set(s) were parsed in 0.29s.\n"
     ]
    },
    {
     "name": "stdout",
     "output_type": "stream",
     "text": [
      "../Abs/7nd6.pdb-chain H-chain L-chain B\n"
     ]
    },
    {
     "name": "stderr",
     "output_type": "stream",
     "text": [
      "@> 26732 atoms and 1 coordinate set(s) were parsed in 0.24s.\n"
     ]
    },
    {
     "name": "stdout",
     "output_type": "stream",
     "text": [
      "../Abs/7nd7.pdb-chain H-chain L-chain A\n"
     ]
    },
    {
     "name": "stderr",
     "output_type": "stream",
     "text": [
      "@> 29591 atoms and 1 coordinate set(s) were parsed in 0.27s.\n"
     ]
    },
    {
     "name": "stdout",
     "output_type": "stream",
     "text": [
      "../Abs/7nd8.pdb-chain H-chain L-chain B\n"
     ]
    },
    {
     "name": "stderr",
     "output_type": "stream",
     "text": [
      "@> 27659 atoms and 1 coordinate set(s) were parsed in 0.25s.\n"
     ]
    },
    {
     "name": "stdout",
     "output_type": "stream",
     "text": [
      "../Abs/7nda.pdb-chain H-chain L-chain C\n"
     ]
    },
    {
     "name": "stderr",
     "output_type": "stream",
     "text": [
      "@> 27721 atoms and 1 coordinate set(s) were parsed in 0.25s.\n"
     ]
    },
    {
     "name": "stdout",
     "output_type": "stream",
     "text": [
      "../Abs/7ndb.pdb-chain H-chain L-chain B\n"
     ]
    },
    {
     "name": "stderr",
     "output_type": "stream",
     "text": [
      "@> 27184 atoms and 1 coordinate set(s) were parsed in 0.24s.\n"
     ]
    },
    {
     "name": "stdout",
     "output_type": "stream",
     "text": [
      "../Abs/7ndc.pdb-chain H-chain L-chain B\n"
     ]
    },
    {
     "name": "stderr",
     "output_type": "stream",
     "text": [
      "@> 30645 atoms and 1 coordinate set(s) were parsed in 0.27s.\n",
      "@> 8384 atoms and 1 coordinate set(s) were parsed in 0.08s.\n",
      "@> 8248 atoms and 1 coordinate set(s) were parsed in 0.08s.\n"
     ]
    },
    {
     "name": "stdout",
     "output_type": "stream",
     "text": [
      "../Abs/7nx6.pdb-chain A-chain B-chain E\n",
      "../Abs/7or9.pdb-chain H-chain L-chain E\n",
      "../Abs/7r6w.pdb-chain H-chain L-chain R\n"
     ]
    },
    {
     "name": "stderr",
     "output_type": "stream",
     "text": [
      "@> 8911 atoms and 1 coordinate set(s) were parsed in 0.09s.\n",
      "@> 2790 atoms and 1 coordinate set(s) were parsed in 0.03s.\n",
      "@> 8251 atoms and 1 coordinate set(s) were parsed in 0.08s.\n"
     ]
    },
    {
     "name": "stdout",
     "output_type": "stream",
     "text": [
      "../Abs/7r7n.pdb-chain H-chain L-chain E\n",
      "../Abs/7r8l.pdb-chain H-chain L-chain E\n",
      "../Abs/7r8m.pdb-chain H-chain L-chain B\n"
     ]
    },
    {
     "name": "stderr",
     "output_type": "stream",
     "text": [
      "@> 26323 atoms and 1 coordinate set(s) were parsed in 0.24s.\n"
     ]
    },
    {
     "name": "stdout",
     "output_type": "stream",
     "text": [
      "../Abs/7r8n.pdb-chain H-chain L-chain A\n"
     ]
    },
    {
     "name": "stderr",
     "output_type": "stream",
     "text": [
      "@> 29719 atoms and 1 coordinate set(s) were parsed in 0.27s.\n"
     ]
    },
    {
     "name": "stdout",
     "output_type": "stream",
     "text": [
      "../Abs/7r8o.pdb-chain H-chain L-chain B\n"
     ]
    },
    {
     "name": "stderr",
     "output_type": "stream",
     "text": [
      "@> 29952 atoms and 1 coordinate set(s) were parsed in 0.27s.\n",
      "@> 2847 atoms and 1 coordinate set(s) were parsed in 0.03s.\n"
     ]
    },
    {
     "name": "stdout",
     "output_type": "stream",
     "text": [
      "../Abs/7ral.pdb-chain H-chain L-chain B\n"
     ]
    }
   ],
   "source": [
    "all_hits=[]\n",
    "all_ab_name = []\n",
    "mutation_evaluated = mutations\n",
    "\n",
    "for idx,row in ab_seq_data.iterrows():\n",
    "    pdb = row['pdb']\n",
    "    name = row['Name']\n",
    "    VH_chain = row['VH chain']\n",
    "    VL_chain = row['VL chain']\n",
    "    Ag_chain = row['RBD chain']\n",
    "    filename = os.path.join(\"../Abs\",f\"{pdb.lower()}.pdb\")\n",
    "    #Ab_chain = f'chain {VH_chain} {VL_chain}'\n",
    "    VH_chain = f'chain {VH_chain}'\n",
    "    VL_chain = f'chain {VL_chain}'\n",
    "    Ag_chain = f'chain {Ag_chain}'\n",
    "    print(f'{filename}-{VH_chain}-{VL_chain}-{Ag_chain}')\n",
    "    struct = prody.parsePDB(filename)\n",
    "    \n",
    "    VH_struct = struct.select(VH_chain).copy().ca\n",
    "    Ag_struct = struct.select(Ag_chain).copy().ca\n",
    "    contacts= list(prody.iterNeighbors(Ag_struct,8,VH_struct))\n",
    "    \n",
    "    \n",
    "    nb_epitope_res = set([i[0].getResnum() for i in contacts])\n",
    "    \n",
    "    overlap= set(mutation_evaluated) & nb_epitope_res\n",
    "    all_ab_name.append(name)\n",
    "    mutation_hits=np.zeros(len(mutation_evaluated))\n",
    "    if len(overlap)==0:\n",
    "        all_hits.append(mutation_hits)\n",
    "        continue\n",
    "    \n",
    "    \n",
    "    \n",
    "    summarized_contact = summarizeContacts(contacts)\n",
    "    summarized_contact['resnum1'] = summarized_contact['resnum1'].astype(int)\n",
    "    \n",
    "    summarized_contact = summarized_contact[summarized_contact['resnum1'].apply(lambda x: x in overlap)]\n",
    "    summarized_contact = dict(summarized_contact.groupby(\"resnum1\")['resnum2'].count())\n",
    "    \n",
    "    for resnum,hit in summarized_contact.items():\n",
    "        idx = mutation_evaluated.index(resnum)\n",
    "        mutation_hits[idx] = hit\n",
    "    all_hits.append(mutation_hits)\n",
    "    #print(nb_epitope_res)\n",
    "    #overlap_variant = \",\".join([str(j) for j in Omicron&nb_epitope_res])\n",
    "    #overlap_variant_num.append(len(overlap))\n",
    "    #dis2.append(struct_distance)\n",
    "    #print(name)\n",
    "    #print(summarized_contact)\n",
    "    #print([ACE2_centroid,nb_centroid],struct_distance)\n",
    "pd.DataFrame(all_hits,columns=mutation_evaluated,index=all_ab_name).to_csv(\"VOC_Ab_ca_8.csv\")\n"
   ]
  },
  {
   "cell_type": "code",
   "execution_count": 13,
   "id": "66ef8fb3",
   "metadata": {},
   "outputs": [],
   "source": []
  },
  {
   "cell_type": "code",
   "execution_count": 15,
   "id": "0c315fa5",
   "metadata": {},
   "outputs": [],
   "source": [
    "pd.DataFrame(all_hits,columns=Omicron,index=all_ab_name).to_csv(\"Omicron_ca.csv\")"
   ]
  }
 ],
 "metadata": {
  "kernelspec": {
   "display_name": "Python 3",
   "language": "python",
   "name": "python3"
  },
  "language_info": {
   "codemirror_mode": {
    "name": "ipython",
    "version": 3
   },
   "file_extension": ".py",
   "mimetype": "text/x-python",
   "name": "python",
   "nbconvert_exporter": "python",
   "pygments_lexer": "ipython3",
   "version": "3.8.10"
  }
 },
 "nbformat": 4,
 "nbformat_minor": 5
}
